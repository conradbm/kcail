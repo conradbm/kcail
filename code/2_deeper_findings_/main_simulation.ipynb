{
 "cells": [
  {
   "cell_type": "markdown",
   "metadata": {
    "collapsed": true,
    "deletable": true,
    "editable": true
   },
   "source": [
    "## Goodness of fit test\n",
    "\n",
    "Does our full space, or any subspace have a goodness of fit that is normal or t?\n",
    "\n",
    "## Simulation Scores\n",
    "\n",
    "Lets explore what happens when we take a sample of 1000 simulated points based on the normal parameters of our full space and subspaces, then combat it against our models that have been claimed to do very well.\n",
    "\n",
    " \n",
    "\n",
    "## Simulation Scores Analysis\n",
    "\n",
    "This should tell us how well the central tendency of our chemical compounds is predictive of potency. If so, we may have some money, or an interesting conversation."
   ]
  },
  {
   "cell_type": "markdown",
   "metadata": {
    "deletable": true,
    "editable": true
   },
   "source": [
    "## Libraries"
   ]
  },
  {
   "cell_type": "code",
   "execution_count": 1,
   "metadata": {
    "collapsed": false,
    "deletable": true,
    "editable": true
   },
   "outputs": [
    {
     "name": "stderr",
     "output_type": "stream",
     "text": [
      "/Library/Python/2.7/site-packages/statsmodels/compat/pandas.py:56: FutureWarning: The pandas.core.datetools module is deprecated and will be removed in a future version. Please use the pandas.tseries module instead.\n",
      "  from pandas.core import datetools\n"
     ]
    }
   ],
   "source": [
    "# Core\n",
    "import numpy as np\n",
    "import pandas as pd\n",
    "import scipy as sp\n",
    "import scipy.stats\n",
    "import os\n",
    "import subprocess\n",
    "from __future__ import division\n",
    "import pickle\n",
    "\n",
    "def install_package(name):\n",
    "    sudoPassword = ''\n",
    "    command = 'pip install ' + name\n",
    "    p = os.system('echo %s|sudo -S %s' % (sudoPassword, command))\n",
    "\n",
    "# Stats\n",
    "from statsmodels.regression import linear_model\n",
    "import statsmodels.api as sm\n",
    "\n",
    "# ML\n",
    "from sklearn.linear_model import LinearRegression\n",
    "from sklearn.linear_model import LogisticRegression\n",
    "from sklearn.discriminant_analysis import LinearDiscriminantAnalysis\n",
    "from sklearn.linear_model import Lasso\n",
    "from sklearn.naive_bayes import GaussianNB\n",
    "from sklearn.svm import SVC\n",
    "from sklearn.ensemble import RandomForestRegressor\n",
    "from sklearn.ensemble import RandomForestClassifier\n",
    "from sklearn.ensemble import AdaBoostRegressor\n",
    "from sklearn.ensemble import AdaBoostClassifier\n",
    "\n",
    "from sklearn.preprocessing import StandardScaler\n",
    "from sklearn.decomposition import PCA\n",
    "from sklearn.cluster import KMeans\n",
    "from sklearn.pipeline import Pipeline\n",
    "from sklearn.metrics import confusion_matrix\n",
    "from sklearn.neighbors import KNeighborsClassifier\n",
    "\n",
    "from sklearn.model_selection import GridSearchCV\n",
    "from sklearn.model_selection import cross_validate\n",
    "from sklearn.model_selection import RepeatedStratifiedKFold\n",
    "from sklearn.model_selection import StratifiedKFold\n",
    "from sklearn.model_selection import cross_val_predict\n",
    "from sklearn.model_selection import cross_val_score\n",
    "from sklearn.model_selection import train_test_split\n",
    "\n",
    "from sklearn.utils import shuffle\n",
    "\n",
    "\n",
    "# OR\n",
    "from skcriteria import Data, MIN, MAX\n",
    "from skcriteria.madm import closeness, simple\n",
    "\n",
    "# Plotting\n",
    "import matplotlib.pyplot as plt\n",
    "import seaborn as sns\n",
    "from ggplot import *\n",
    "\n"
   ]
  },
  {
   "cell_type": "markdown",
   "metadata": {
    "deletable": true,
    "editable": true
   },
   "source": [
    "## Load Data"
   ]
  },
  {
   "cell_type": "code",
   "execution_count": 2,
   "metadata": {
    "collapsed": false,
    "deletable": true,
    "editable": true
   },
   "outputs": [],
   "source": [
    "# MODELS\n",
    "\"\"\"\n",
    "Models = {'lda':get_LDA_scores, \n",
    "          'rf':get_RF_scores,\n",
    "          'svc':get_SVC_scores,\n",
    "          'log_reg':get_LogReg_scores,\n",
    "          'nb':get_NB_scores,\n",
    "          'knn':get_KNN_scores}\n",
    "\"\"\"\n",
    "\n",
    "# FEATURE SPACES\n",
    "mixed_selection_features = pickle.load(open('../pickled/mixed_selection_features.pickle', 'rw'))\n",
    "mixed_selection_1x_features = pickle.load(open('../pickled/mixed_selection_1x_features.pickle', 'rw'))\n",
    "lasso_features = pickle.load(open('../pickled/lasso_features.pickle', 'rw'))\n",
    "topsis_features = pickle.load(open('../pickled/topsis_features.pickle', 'rw'))\n",
    "rf_features = pickle.load(open('../pickled/rf_features.pickle', 'rw'))\n",
    "feature_space      = {  'topsis_features':topsis_features, \n",
    "                         'rf_features':rf_features, \n",
    "                         'lasso_features':lasso_features,\n",
    "                         'mixed_selection_1x_features':mixed_selection_1x_features,\n",
    "                         'mixed_selection_features':mixed_selection_features     }\n",
    "\n",
    "# FULL SPACE DATA SCORES\n",
    "lda_full_scores     = pickle.load(open('../pickled/lda_full_scores.pickle', 'rw'))\n",
    "rf_full_scores      = pickle.load(open('../pickled/rf_full_scores.pickle', 'rw'))\n",
    "svm_full_scores     = pickle.load(open('../pickled/svm_full_scores.pickle', 'rw'))\n",
    "log_reg_full_scores = pickle.load(open('../pickled/log_reg_full_scores.pickle', 'rw'))\n",
    "nb_full_scores      = pickle.load(open('../pickled/nb_full_scores.pickle', 'rw'))\n",
    "knn_full_scores     = pickle.load(open('../pickled/knn_full_scores.pickle', 'rw'))\n",
    "full_scores         = {'lda':lda_full_scores,\n",
    "                       'rf':rf_full_scores,\n",
    "                       'svm':svm_full_scores,\n",
    "                       'log_reg':log_reg_full_scores,\n",
    "                       'nb':nb_full_scores,\n",
    "                       'knn':knn_full_scores}\n",
    "\n",
    "# DATA IN EACH SUBSPACE\n",
    "data_per_space=pickle.load(open(\"../pickled/data_per_space.pickle\", 'rw'))\n",
    "\n",
    "\n",
    "# FULL SPACE C.I.\n",
    "full_confidence_intervals = pickle.load(open(\"../pickled/full_confidence_intervals.pickle\", \"rw\"))\n",
    "\n",
    "# SUB SPACE DATA SCORES\n",
    "lda_space_scores=pickle.load(open(\"../pickled/lda_space_scores.pickle\", 'rw'))\n",
    "rf_space_scores=pickle.load(open(\"../pickled/rf_space_scores.pickle\", \"rw\"))\n",
    "svm_space_scores=pickle.load(open(\"../pickled/svm_space_scores.pickle\", \"rw\"))\n",
    "log_reg_space_scores=pickle.load(open(\"../pickled/log_reg_space_scores.pickle\", \"rw\"))\n",
    "nb_space_scores=pickle.load(open(\"../pickled/nb_space_scores.pickle\", \"rw\"))\n",
    "knn_space_scores=pickle.load(open(\"../pickled/knn_space_scores.pickle\", \"rw\"))\n",
    "sub_scores = {'lda':lda_space_scores,\n",
    "             'rf':rf_space_scores,\n",
    "             'svm':svm_space_scores,\n",
    "             'log_reg':log_reg_space_scores,\n",
    "             'nb':nb_space_scores,\n",
    "             'knn':knn_space_scores}\n",
    "\n",
    "# SUB SPACE C.I.\n",
    "sub_model_confidence_interval=pickle.load(open(\"../pickled/sub_model_confidence_interval.pickle\", \"rw\") )\n",
    "\n",
    "# INITIAL DATA\n",
    "bigframe = pickle.load(open('../pickled/bigframe.pickle', 'rw'))\n"
   ]
  },
  {
   "cell_type": "markdown",
   "metadata": {
    "deletable": true,
    "editable": true
   },
   "source": [
    "## Correctly Partition"
   ]
  },
  {
   "cell_type": "code",
   "execution_count": 37,
   "metadata": {
    "collapsed": false,
    "deletable": true,
    "editable": true
   },
   "outputs": [
    {
     "name": "stdout",
     "output_type": "stream",
     "text": [
      "Data ready to model.\n"
     ]
    }
   ],
   "source": [
    "main_df = pd.read_csv(\"../../data/Series3_6.15.17_padel.csv\")\n",
    "main_mean = main_df.iloc[:,2:].mean().as_matrix()\n",
    "main_cov = main_df.iloc[:,2:].cov().as_matrix()\n",
    "\n",
    "bigframe = shuffle(bigframe, random_state=0)\n",
    "bigframe_train, bigframe_test = train_test_split(bigframe.iloc[:,2:], train_size=0.5)\n",
    "\n",
    "ytrain = bigframe_train[\"bin2\"]\n",
    "Xtrain = StandardScaler().fit_transform(bigframe_train.iloc[:,1:])\n",
    "\n",
    "ytest = bigframe_test[\"bin2\"]\n",
    "Xtest = StandardScaler().fit_transform(bigframe_test.iloc[:,1:])\n",
    "print(\"Data ready to model.\")"
   ]
  },
  {
   "cell_type": "code",
   "execution_count": 36,
   "metadata": {
    "collapsed": false
   },
   "outputs": [
    {
     "data": {
      "text/html": [
       "<div>\n",
       "<style scoped>\n",
       "    .dataframe tbody tr th:only-of-type {\n",
       "        vertical-align: middle;\n",
       "    }\n",
       "\n",
       "    .dataframe tbody tr th {\n",
       "        vertical-align: top;\n",
       "    }\n",
       "\n",
       "    .dataframe thead th {\n",
       "        text-align: right;\n",
       "    }\n",
       "</style>\n",
       "<table border=\"1\" class=\"dataframe\">\n",
       "  <thead>\n",
       "    <tr style=\"text-align: right;\">\n",
       "      <th></th>\n",
       "      <th>nAcid</th>\n",
       "      <th>ALogP</th>\n",
       "      <th>ALogp2</th>\n",
       "      <th>AMR</th>\n",
       "      <th>apol</th>\n",
       "      <th>naAromAtom</th>\n",
       "      <th>nAromBond</th>\n",
       "      <th>nAtom</th>\n",
       "      <th>nHeavyAtom</th>\n",
       "      <th>nH</th>\n",
       "      <th>...</th>\n",
       "      <th>AMW</th>\n",
       "      <th>WTPT-1</th>\n",
       "      <th>WTPT-2</th>\n",
       "      <th>WTPT-3</th>\n",
       "      <th>WTPT-4</th>\n",
       "      <th>WTPT-5</th>\n",
       "      <th>WPATH</th>\n",
       "      <th>WPOL</th>\n",
       "      <th>XLogP</th>\n",
       "      <th>Zagreb</th>\n",
       "    </tr>\n",
       "  </thead>\n",
       "  <tbody>\n",
       "    <tr>\n",
       "      <th>0</th>\n",
       "      <td>0</td>\n",
       "      <td>-1.0958</td>\n",
       "      <td>1.200778</td>\n",
       "      <td>23.1572</td>\n",
       "      <td>39.591930</td>\n",
       "      <td>15</td>\n",
       "      <td>17</td>\n",
       "      <td>30</td>\n",
       "      <td>20</td>\n",
       "      <td>10</td>\n",
       "      <td>...</td>\n",
       "      <td>10.200817</td>\n",
       "      <td>40.713610</td>\n",
       "      <td>2.035681</td>\n",
       "      <td>22.242022</td>\n",
       "      <td>4.765434</td>\n",
       "      <td>11.047825</td>\n",
       "      <td>799</td>\n",
       "      <td>31</td>\n",
       "      <td>0.727</td>\n",
       "      <td>110</td>\n",
       "    </tr>\n",
       "    <tr>\n",
       "      <th>1</th>\n",
       "      <td>0</td>\n",
       "      <td>1.1547</td>\n",
       "      <td>1.333332</td>\n",
       "      <td>38.0230</td>\n",
       "      <td>49.112481</td>\n",
       "      <td>15</td>\n",
       "      <td>16</td>\n",
       "      <td>40</td>\n",
       "      <td>23</td>\n",
       "      <td>17</td>\n",
       "      <td>...</td>\n",
       "      <td>8.202895</td>\n",
       "      <td>48.001779</td>\n",
       "      <td>2.087034</td>\n",
       "      <td>18.848454</td>\n",
       "      <td>0.000000</td>\n",
       "      <td>13.231952</td>\n",
       "      <td>1321</td>\n",
       "      <td>34</td>\n",
       "      <td>3.185</td>\n",
       "      <td>124</td>\n",
       "    </tr>\n",
       "    <tr>\n",
       "      <th>2</th>\n",
       "      <td>0</td>\n",
       "      <td>0.5906</td>\n",
       "      <td>0.348808</td>\n",
       "      <td>7.7935</td>\n",
       "      <td>31.554344</td>\n",
       "      <td>15</td>\n",
       "      <td>17</td>\n",
       "      <td>23</td>\n",
       "      <td>15</td>\n",
       "      <td>8</td>\n",
       "      <td>...</td>\n",
       "      <td>9.219166</td>\n",
       "      <td>31.354825</td>\n",
       "      <td>2.090322</td>\n",
       "      <td>9.306953</td>\n",
       "      <td>0.000000</td>\n",
       "      <td>6.214417</td>\n",
       "      <td>343</td>\n",
       "      <td>21</td>\n",
       "      <td>4.191</td>\n",
       "      <td>80</td>\n",
       "    </tr>\n",
       "    <tr>\n",
       "      <th>3</th>\n",
       "      <td>0</td>\n",
       "      <td>2.2246</td>\n",
       "      <td>4.948845</td>\n",
       "      <td>25.3114</td>\n",
       "      <td>36.320758</td>\n",
       "      <td>15</td>\n",
       "      <td>17</td>\n",
       "      <td>23</td>\n",
       "      <td>17</td>\n",
       "      <td>6</td>\n",
       "      <td>...</td>\n",
       "      <td>15.993993</td>\n",
       "      <td>35.091951</td>\n",
       "      <td>2.064232</td>\n",
       "      <td>14.383663</td>\n",
       "      <td>0.000000</td>\n",
       "      <td>6.220694</td>\n",
       "      <td>480</td>\n",
       "      <td>27</td>\n",
       "      <td>5.059</td>\n",
       "      <td>92</td>\n",
       "    </tr>\n",
       "    <tr>\n",
       "      <th>4</th>\n",
       "      <td>0</td>\n",
       "      <td>1.3358</td>\n",
       "      <td>1.784362</td>\n",
       "      <td>16.7123</td>\n",
       "      <td>33.937551</td>\n",
       "      <td>15</td>\n",
       "      <td>17</td>\n",
       "      <td>23</td>\n",
       "      <td>16</td>\n",
       "      <td>7</td>\n",
       "      <td>...</td>\n",
       "      <td>12.606580</td>\n",
       "      <td>33.230029</td>\n",
       "      <td>2.076877</td>\n",
       "      <td>11.846725</td>\n",
       "      <td>0.000000</td>\n",
       "      <td>6.220707</td>\n",
       "      <td>411</td>\n",
       "      <td>23</td>\n",
       "      <td>4.625</td>\n",
       "      <td>86</td>\n",
       "    </tr>\n",
       "  </tbody>\n",
       "</table>\n",
       "<p>5 rows × 1444 columns</p>\n",
       "</div>"
      ],
      "text/plain": [
       "   nAcid   ALogP    ALogp2      AMR       apol  naAromAtom  nAromBond  nAtom  \\\n",
       "0      0 -1.0958  1.200778  23.1572  39.591930          15         17     30   \n",
       "1      0  1.1547  1.333332  38.0230  49.112481          15         16     40   \n",
       "2      0  0.5906  0.348808   7.7935  31.554344          15         17     23   \n",
       "3      0  2.2246  4.948845  25.3114  36.320758          15         17     23   \n",
       "4      0  1.3358  1.784362  16.7123  33.937551          15         17     23   \n",
       "\n",
       "   nHeavyAtom  nH   ...          AMW     WTPT-1    WTPT-2     WTPT-3  \\\n",
       "0          20  10   ...    10.200817  40.713610  2.035681  22.242022   \n",
       "1          23  17   ...     8.202895  48.001779  2.087034  18.848454   \n",
       "2          15   8   ...     9.219166  31.354825  2.090322   9.306953   \n",
       "3          17   6   ...    15.993993  35.091951  2.064232  14.383663   \n",
       "4          16   7   ...    12.606580  33.230029  2.076877  11.846725   \n",
       "\n",
       "     WTPT-4     WTPT-5  WPATH  WPOL  XLogP  Zagreb  \n",
       "0  4.765434  11.047825    799    31  0.727     110  \n",
       "1  0.000000  13.231952   1321    34  3.185     124  \n",
       "2  0.000000   6.214417    343    21  4.191      80  \n",
       "3  0.000000   6.220694    480    27  5.059      92  \n",
       "4  0.000000   6.220707    411    23  4.625      86  \n",
       "\n",
       "[5 rows x 1444 columns]"
      ]
     },
     "execution_count": 36,
     "metadata": {},
     "output_type": "execute_result"
    }
   ],
   "source": [
    "main.mean"
   ]
  },
  {
   "cell_type": "markdown",
   "metadata": {
    "collapsed": false,
    "deletable": true,
    "editable": true
   },
   "source": [
    "## Create the simulated test set."
   ]
  },
  {
   "cell_type": "code",
   "execution_count": 31,
   "metadata": {
    "collapsed": false
   },
   "outputs": [
    {
     "name": "stderr",
     "output_type": "stream",
     "text": [
      "/Library/Python/2.7/site-packages/ipykernel/__main__.py:2: RuntimeWarning: covariance is not positive-semidefinite.\n",
      "  from ipykernel import kernelapp as app\n"
     ]
    },
    {
     "data": {
      "text/plain": [
       "[array([[  5.10664640e-03,  -5.01622853e-01,   3.92252097e+00, ...,\n",
       "           5.01271929e+01,   4.68065472e+00,   1.79612654e+02],\n",
       "        [ -1.04988757e-01,  -9.29680234e-01,   1.72961963e+00, ...,\n",
       "           4.71241906e+01,   5.98858280e+00,   1.60273574e+02],\n",
       "        [  8.56716894e-02,  -1.48545390e+00,   3.17128191e+00, ...,\n",
       "           2.67537144e+01,   1.05256119e+00,   1.05975495e+02],\n",
       "        ..., \n",
       "        [  1.16230098e-02,  -1.56377922e+00,   5.83931270e+00, ...,\n",
       "           5.39474674e+01,   5.94545783e+00,   1.71344235e+02],\n",
       "        [  1.51169191e-01,  -1.99021838e+00,   6.86411180e+00, ...,\n",
       "           5.27843658e+01,   5.10110881e+00,   1.90614845e+02],\n",
       "        [  4.30425611e-02,  -3.57320948e-01,  -6.60748520e-01, ...,\n",
       "           3.50539707e+01,   5.78642025e-01,   1.20382176e+02]]),\n",
       " array([[ -1.96880591e-01,  -3.28958764e+00,   1.00717387e+01, ...,\n",
       "           3.58232406e+01,   7.59459719e-01,   1.24968379e+02],\n",
       "        [  9.88239124e-02,  -2.15667291e+00,   1.29075578e+00, ...,\n",
       "           5.30618983e+01,   4.86222825e+00,   1.74793473e+02],\n",
       "        [  4.91925906e-02,  -1.94487381e+00,   6.66342294e+00, ...,\n",
       "           2.05977454e+01,   1.40521827e+00,   8.90351067e+01],\n",
       "        ..., \n",
       "        [  2.04274877e-01,  -5.02015133e+00,   1.41072973e+01, ...,\n",
       "           5.50283149e+01,   3.00787297e+00,   1.73689506e+02],\n",
       "        [  4.87855663e-02,  -9.72959956e-01,   2.67272478e+00, ...,\n",
       "           4.96025659e+01,   6.76984335e-01,   1.73801255e+02],\n",
       "        [ -1.10717375e-02,  -1.16191097e+00,   9.11846918e+00, ...,\n",
       "           3.11804842e+01,   7.24134647e-01,   1.18631939e+02]]),\n",
       " array([[  1.18920298e-01,  -4.17801717e+00,   1.33259753e+01, ...,\n",
       "           4.61579112e+01,   1.90809805e+00,   1.36963949e+02],\n",
       "        [  2.07712965e-01,  -2.19103037e+00,   7.66385963e+00, ...,\n",
       "           2.99098960e+01,   1.45688959e+00,   1.03826792e+02],\n",
       "        [ -4.26242254e-02,  -8.26662242e-01,  -1.48823762e-01, ...,\n",
       "           5.60036556e+01,   6.21720479e+00,   1.79629229e+02],\n",
       "        ..., \n",
       "        [ -8.50391814e-02,  -2.16836656e+00,   4.05618963e+00, ...,\n",
       "           1.63990702e+01,   4.95522318e-01,   8.30840529e+01],\n",
       "        [ -3.86087753e-04,  -1.93708878e+00,   7.32461330e+00, ...,\n",
       "           5.14958148e+01,   5.90973304e+00,   1.67945072e+02],\n",
       "        [ -1.46367361e-01,  -2.10506544e+00,   7.80663611e+00, ...,\n",
       "           3.84299854e+01,   1.70078063e+00,   1.25404690e+02]]),\n",
       " array([[ -2.87288396e-01,  -4.30292336e+00,   7.99818827e+00, ...,\n",
       "           4.73942001e+01,   2.74356835e+00,   1.53230577e+02],\n",
       "        [ -7.35030464e-02,  -2.72971327e+00,   8.22757591e+00, ...,\n",
       "           3.19927654e+01,   3.66386401e+00,   1.10940904e+02],\n",
       "        [ -1.35329332e-01,  -3.41233024e+00,   8.23879858e+00, ...,\n",
       "           3.84033738e+01,   2.49519882e+00,   1.28558568e+02],\n",
       "        ..., \n",
       "        [  1.57394256e-01,  -3.68303060e+00,   1.07451334e+01, ...,\n",
       "           5.79550565e+01,   4.97872041e+00,   1.85721610e+02],\n",
       "        [  1.75087188e-01,  -1.94183744e+00,   6.01921191e+00, ...,\n",
       "           2.81889656e+01,   4.07025975e+00,   1.19995029e+02],\n",
       "        [ -1.28657350e-01,  -3.21283164e+00,   8.52983565e+00, ...,\n",
       "           4.58025369e+01,   3.39525589e+00,   1.41560685e+02]]),\n",
       " array([[  7.24724755e-02,  -1.35448933e+00,   1.50199577e+00, ...,\n",
       "           5.86669365e+01,   5.63821245e+00,   1.79287409e+02],\n",
       "        [  2.49481858e-02,  -3.41921353e+00,   7.96920449e+00, ...,\n",
       "           4.43421283e+01,   1.31103360e+00,   1.35632944e+02],\n",
       "        [  1.27200276e-01,  -5.69788656e+00,   1.74911611e+01, ...,\n",
       "           5.16989169e+01,   3.53089181e+00,   1.66593709e+02],\n",
       "        ..., \n",
       "        [  7.95481859e-02,  -5.18043168e-03,   3.30562241e-01, ...,\n",
       "           3.24707364e+01,   3.39596402e+00,   1.18646370e+02],\n",
       "        [  2.39449299e-01,   1.23545232e+00,  -5.60159487e+00, ...,\n",
       "           3.97000955e+01,   5.79087230e+00,   1.48578203e+02],\n",
       "        [  1.06281003e-01,  -3.22840166e+00,   1.05039079e+01, ...,\n",
       "           4.35601707e+01,   2.27138112e-01,   1.43268844e+02]]),\n",
       " array([[ -2.65862226e-01,  -2.43941943e+00,   7.36323532e+00, ...,\n",
       "           6.08597053e+01,   2.13587300e+00,   1.91586987e+02],\n",
       "        [  1.12971273e-01,  -2.01857638e+00,   2.38921478e+00, ...,\n",
       "           1.77292572e+01,   5.85544223e+00,   8.44537951e+01],\n",
       "        [  2.11377677e-01,  -1.54304430e+00,   6.76572572e+00, ...,\n",
       "           4.93248016e+01,   9.14155166e-01,   1.53371375e+02],\n",
       "        ..., \n",
       "        [  2.56194554e-01,  -3.25189626e+00,   8.17970089e+00, ...,\n",
       "           4.39959379e+01,   2.65372919e+00,   1.52577787e+02],\n",
       "        [  1.87063779e-01,  -3.44145782e+00,   1.00346913e+01, ...,\n",
       "           6.01102666e+01,   3.95289791e+00,   1.92931722e+02],\n",
       "        [ -8.25668468e-02,  -4.03449294e+00,   9.74769253e+00, ...,\n",
       "           4.24727438e+01,   5.15850944e+00,   1.61213654e+02]]),\n",
       " array([[  4.69575751e-05,  -1.62577292e+00,   6.34114405e+00, ...,\n",
       "           4.14531293e+01,   3.11734772e+00,   1.33475439e+02],\n",
       "        [ -1.37558137e-01,  -2.04221803e+00,   6.95975092e+00, ...,\n",
       "           4.33644655e+01,   7.55752530e+00,   1.64702518e+02],\n",
       "        [  1.27481096e-01,  -4.69195666e-01,  -2.87196339e+00, ...,\n",
       "           6.07330567e+01,   6.55208400e+00,   1.86904280e+02],\n",
       "        ..., \n",
       "        [  8.33403387e-02,  -1.54833423e+00,   1.14149946e+00, ...,\n",
       "           5.64720871e+01,   6.92041249e+00,   1.91530443e+02],\n",
       "        [  2.38868357e-01,  -1.91682511e+00,   6.54180608e+00, ...,\n",
       "           4.22556065e+01,   1.32485263e+00,   1.44227235e+02],\n",
       "        [ -2.04297209e-01,  -5.08322565e-01,  -6.47559748e+00, ...,\n",
       "           3.97679384e+01,   7.50385390e+00,   1.39602030e+02]]),\n",
       " array([[ -2.54583999e-02,  -2.37783772e+00,   3.80880649e+00, ...,\n",
       "           3.69280240e+01,   2.21474607e+00,   1.15481683e+02],\n",
       "        [  2.66435405e-01,  -2.72987836e+00,   1.26051667e+01, ...,\n",
       "           2.77619228e+01,   1.76702377e+00,   1.02609853e+02],\n",
       "        [  4.07906149e-02,  -1.71057797e+00,   6.41464238e+00, ...,\n",
       "           6.20367392e+01,   7.04489852e+00,   1.96741611e+02],\n",
       "        ..., \n",
       "        [ -6.86349677e-02,  -3.99965213e+00,   1.47669154e+01, ...,\n",
       "           7.20681688e+01,   6.01131960e+00,   2.31267397e+02],\n",
       "        [ -1.90368416e-01,  -1.11267017e+00,   7.03659792e+00, ...,\n",
       "           7.98750039e+01,   9.82196581e+00,   2.38963869e+02],\n",
       "        [ -1.10227400e-01,  -2.56401086e+00,   1.07595841e+01, ...,\n",
       "           3.84080538e+01,   1.56078658e-01,   1.23068357e+02]]),\n",
       " array([[  7.63803871e-02,  -2.05886762e+00,  -2.40340584e+00, ...,\n",
       "           4.89239790e+01,   1.80630345e+00,   1.62270673e+02],\n",
       "        [  6.43455379e-02,  -2.36290305e+00,   6.82284075e+00, ...,\n",
       "           5.28216380e+01,   2.84107029e+00,   1.62552138e+02],\n",
       "        [ -1.83076777e-01,   4.00264381e-01,  -1.77448818e+00, ...,\n",
       "           5.73993405e+01,   4.58434812e+00,   1.58531821e+02],\n",
       "        ..., \n",
       "        [  2.51916462e-01,  -8.31917878e-01,   1.01307969e+00, ...,\n",
       "           3.81251182e+01,   4.71558466e+00,   1.29679029e+02],\n",
       "        [ -1.51189285e-01,  -2.48336735e+00,   1.17352334e+01, ...,\n",
       "           3.25526731e+01,   1.46767210e+00,   9.94101939e+01],\n",
       "        [  1.27900518e-01,  -4.16538495e-01,   1.80055911e+00, ...,\n",
       "           3.46311945e+01,   2.28725763e+00,   1.03136153e+02]]),\n",
       " array([[  6.91722066e-02,  -1.10456454e+00,   7.28508967e-03, ...,\n",
       "           4.71154095e+01,   5.74270803e+00,   1.58044940e+02],\n",
       "        [  8.67715596e-02,  -7.73991810e-01,   4.42142487e-01, ...,\n",
       "           3.52591281e+01,   1.71122006e+00,   1.23708537e+02],\n",
       "        [ -2.03425468e-02,  -1.33114170e+00,   7.45308229e+00, ...,\n",
       "           2.82516979e+01,   2.64248930e+00,   1.14999154e+02],\n",
       "        ..., \n",
       "        [  3.30750415e-01,  -2.09380561e+00,   6.68554507e+00, ...,\n",
       "           2.56436607e+01,   3.16869141e+00,   1.13478677e+02],\n",
       "        [  2.28322216e-01,  -2.05952846e+00,   1.18489327e+01, ...,\n",
       "           4.87711652e+01,   3.79485664e+00,   1.78055245e+02],\n",
       "        [ -1.18384503e-01,  -3.70149713e+00,   1.37593538e+01, ...,\n",
       "           4.23708157e+01,   2.21368515e+00,   1.53979197e+02]])]"
      ]
     },
     "execution_count": 31,
     "metadata": {},
     "output_type": "execute_result"
    }
   ],
   "source": [
    "sim_test_set = [np.random.multivariate_normal(bigframe_mean, bigframe_cov ,size=1000)\n",
    "               for i in range(10)]\n",
    "pickle.dump(sim_test_set, open(\"../pickled/sim_test_set.pickle\", \"w\"))\n",
    "sim_test_set=pickle.load(open(\"../pickled/sim_test_set.pickle\",\"rw\"))\n",
    "sim_test_set"
   ]
  },
  {
   "cell_type": "code",
   "execution_count": 25,
   "metadata": {
    "collapsed": false,
    "deletable": true,
    "editable": true
   },
   "outputs": [
    {
     "data": {
      "text/plain": [
       "(1445,)"
      ]
     },
     "execution_count": 25,
     "metadata": {},
     "output_type": "execute_result"
    }
   ],
   "source": [
    "bigframe_mean.as_matrix().shape"
   ]
  },
  {
   "cell_type": "code",
   "execution_count": 26,
   "metadata": {
    "collapsed": false,
    "deletable": true,
    "editable": true
   },
   "outputs": [
    {
     "data": {
      "text/plain": [
       "(1444, 1444)"
      ]
     },
     "execution_count": 26,
     "metadata": {},
     "output_type": "execute_result"
    }
   ],
   "source": [
    "bigframe_cov.as_matrix().shape"
   ]
  },
  {
   "cell_type": "code",
   "execution_count": 28,
   "metadata": {
    "collapsed": false,
    "deletable": true,
    "editable": true
   },
   "outputs": [
    {
     "data": {
      "text/plain": [
       "Index([u'bin2', u'nAcid', u'ALogP', u'ALogp2', u'AMR', u'apol', u'naAromAtom',\n",
       "       u'nAromBond', u'nAtom', u'nHeavyAtom',\n",
       "       ...\n",
       "       u'AMW', u'WTPT-1', u'WTPT-2', u'WTPT-3', u'WTPT-4', u'WTPT-5', u'WPATH',\n",
       "       u'WPOL', u'XLogP', u'Zagreb'],\n",
       "      dtype='object', length=1445)"
      ]
     },
     "execution_count": 28,
     "metadata": {},
     "output_type": "execute_result"
    }
   ],
   "source": [
    "bigframe.iloc[:,2:].columns"
   ]
  },
  {
   "cell_type": "code",
   "execution_count": null,
   "metadata": {
    "collapsed": true,
    "deletable": true,
    "editable": true
   },
   "outputs": [],
   "source": []
  },
  {
   "cell_type": "code",
   "execution_count": null,
   "metadata": {
    "collapsed": true,
    "deletable": true,
    "editable": true
   },
   "outputs": [],
   "source": []
  },
  {
   "cell_type": "code",
   "execution_count": null,
   "metadata": {
    "collapsed": true,
    "deletable": true,
    "editable": true
   },
   "outputs": [],
   "source": []
  },
  {
   "cell_type": "code",
   "execution_count": null,
   "metadata": {
    "collapsed": true,
    "deletable": true,
    "editable": true
   },
   "outputs": [],
   "source": []
  },
  {
   "cell_type": "code",
   "execution_count": null,
   "metadata": {
    "collapsed": true,
    "deletable": true,
    "editable": true
   },
   "outputs": [],
   "source": []
  },
  {
   "cell_type": "code",
   "execution_count": null,
   "metadata": {
    "collapsed": true,
    "deletable": true,
    "editable": true
   },
   "outputs": [],
   "source": []
  }
 ],
 "metadata": {
  "kernelspec": {
   "display_name": "Python 2",
   "language": "python",
   "name": "python2"
  },
  "language_info": {
   "codemirror_mode": {
    "name": "ipython",
    "version": 2
   },
   "file_extension": ".py",
   "mimetype": "text/x-python",
   "name": "python",
   "nbconvert_exporter": "python",
   "pygments_lexer": "ipython2",
   "version": "2.7.10"
  }
 },
 "nbformat": 4,
 "nbformat_minor": 2
}
