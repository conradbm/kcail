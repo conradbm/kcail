{
 "cells": [
  {
   "cell_type": "markdown",
   "metadata": {
    "collapsed": true,
    "deletable": true,
    "editable": true
   },
   "source": [
    "## Itemset Mining \n",
    "\n",
    "Take a look at the minsup > 5, 10, 15, and 20. Maybe higher or lower.\n",
    "\n",
    "## Association Rules\n",
    "\n",
    "Are there any association rules in our fullspace that are captured in our subspace?\n",
    "\n",
    "## Analysis\n",
    "\n",
    "Determine if there are any patterns discovered in our potent data OR impotent data respectively and flag those as high priority."
   ]
  },
  {
   "cell_type": "markdown",
   "metadata": {
    "collapsed": true,
    "deletable": true,
    "editable": true
   },
   "source": [
    "## Load Libaries"
   ]
  },
  {
   "cell_type": "code",
   "execution_count": 2,
   "metadata": {
    "collapsed": false
   },
   "outputs": [],
   "source": [
    "# Core\n",
    "import numpy as np\n",
    "import pandas as pd\n",
    "import scipy as sp\n",
    "import scipy.stats\n",
    "import os\n",
    "import subprocess\n",
    "from __future__ import division\n",
    "import pickle\n",
    "\n",
    "def install_package(name):\n",
    "    sudoPassword = ''\n",
    "    command = 'pip install ' + name\n",
    "    p = os.system('echo %s|sudo -S %s' % (sudoPassword, command))\n",
    "    \n",
    "# Stats\n",
    "from statsmodels.regression import linear_model\n",
    "import statsmodels.api as sm\n",
    "\n",
    "# ML\n",
    "from sklearn.linear_model import LinearRegression\n",
    "from sklearn.linear_model import LogisticRegression\n",
    "from sklearn.discriminant_analysis import LinearDiscriminantAnalysis\n",
    "from sklearn.linear_model import Lasso\n",
    "from sklearn.naive_bayes import GaussianNB\n",
    "from sklearn.svm import SVC\n",
    "from sklearn.ensemble import RandomForestRegressor\n",
    "from sklearn.ensemble import RandomForestClassifier\n",
    "from sklearn.ensemble import AdaBoostRegressor\n",
    "from sklearn.ensemble import AdaBoostClassifier\n",
    "\n",
    "from sklearn.preprocessing import StandardScaler\n",
    "from sklearn.decomposition import PCA\n",
    "from sklearn.cluster import KMeans\n",
    "from sklearn.pipeline import Pipeline\n",
    "from sklearn.metrics import confusion_matrix\n",
    "from sklearn.neighbors import KNeighborsClassifier\n",
    "\n",
    "from sklearn.model_selection import GridSearchCV\n",
    "from sklearn.model_selection import cross_validate\n",
    "from sklearn.model_selection import RepeatedStratifiedKFold\n",
    "from sklearn.model_selection import StratifiedKFold\n",
    "from sklearn.model_selection import cross_val_predict\n",
    "from sklearn.model_selection import cross_val_score\n",
    "from sklearn.model_selection import train_test_split\n",
    "\n",
    "from sklearn.utils import shuffle\n",
    "\n",
    "# Itemset Mining\n",
    "import pymining\n",
    "\n",
    "# OR\n",
    "from skcriteria import Data, MIN, MAX\n",
    "from skcriteria.madm import closeness, simple\n",
    "\n",
    "# Plotting\n",
    "import matplotlib.pyplot as plt\n",
    "import seaborn as sns\n",
    "from ggplot import *\n",
    "\n"
   ]
  },
  {
   "cell_type": "markdown",
   "metadata": {},
   "source": [
    "## Load data"
   ]
  },
  {
   "cell_type": "code",
   "execution_count": 3,
   "metadata": {
    "collapsed": false
   },
   "outputs": [
    {
     "ename": "IOError",
     "evalue": "[Errno 2] No such file or directory: '../pickled/mixed_selection_features.pickle'",
     "output_type": "error",
     "traceback": [
      "\u001b[0;31m---------------------------------------------------------------------------\u001b[0m",
      "\u001b[0;31mIOError\u001b[0m                                   Traceback (most recent call last)",
      "\u001b[0;32m<ipython-input-3-a960a019e171>\u001b[0m in \u001b[0;36m<module>\u001b[0;34m()\u001b[0m\n\u001b[1;32m     10\u001b[0m \u001b[0;34m\u001b[0m\u001b[0m\n\u001b[1;32m     11\u001b[0m \u001b[0;31m# FEATURE SPACES\u001b[0m\u001b[0;34m\u001b[0m\u001b[0;34m\u001b[0m\u001b[0m\n\u001b[0;32m---> 12\u001b[0;31m \u001b[0mmixed_selection_features\u001b[0m \u001b[0;34m=\u001b[0m \u001b[0mpickle\u001b[0m\u001b[0;34m.\u001b[0m\u001b[0mload\u001b[0m\u001b[0;34m(\u001b[0m\u001b[0mopen\u001b[0m\u001b[0;34m(\u001b[0m\u001b[0;34m'../pickled/mixed_selection_features.pickle'\u001b[0m\u001b[0;34m,\u001b[0m \u001b[0;34m'rw'\u001b[0m\u001b[0;34m)\u001b[0m\u001b[0;34m)\u001b[0m\u001b[0;34m\u001b[0m\u001b[0m\n\u001b[0m\u001b[1;32m     13\u001b[0m \u001b[0mmixed_selection_1x_features\u001b[0m \u001b[0;34m=\u001b[0m \u001b[0mpickle\u001b[0m\u001b[0;34m.\u001b[0m\u001b[0mload\u001b[0m\u001b[0;34m(\u001b[0m\u001b[0mopen\u001b[0m\u001b[0;34m(\u001b[0m\u001b[0;34m'../pickled/mixed_selection_1x_features.pickle'\u001b[0m\u001b[0;34m,\u001b[0m \u001b[0;34m'rw'\u001b[0m\u001b[0;34m)\u001b[0m\u001b[0;34m)\u001b[0m\u001b[0;34m\u001b[0m\u001b[0m\n\u001b[1;32m     14\u001b[0m \u001b[0mlasso_features\u001b[0m \u001b[0;34m=\u001b[0m \u001b[0mpickle\u001b[0m\u001b[0;34m.\u001b[0m\u001b[0mload\u001b[0m\u001b[0;34m(\u001b[0m\u001b[0mopen\u001b[0m\u001b[0;34m(\u001b[0m\u001b[0;34m'../pickled/lasso_features.pickle'\u001b[0m\u001b[0;34m,\u001b[0m \u001b[0;34m'rw'\u001b[0m\u001b[0;34m)\u001b[0m\u001b[0;34m)\u001b[0m\u001b[0;34m\u001b[0m\u001b[0m\n",
      "\u001b[0;31mIOError\u001b[0m: [Errno 2] No such file or directory: '../pickled/mixed_selection_features.pickle'"
     ]
    }
   ],
   "source": [
    "# MODELS\n",
    "\"\"\"\n",
    "Models = {'lda':get_LDA_scores, \n",
    "          'rf':get_RF_scores,\n",
    "          'svc':get_SVC_scores,\n",
    "          'log_reg':get_LogReg_scores,\n",
    "          'nb':get_NB_scores,\n",
    "          'knn':get_KNN_scores}\n",
    "\"\"\"\n",
    "\n",
    "# FEATURE SPACES\n",
    "mixed_selection_features = pickle.load(open('../pickled/mixed_selection_features.pickle', 'rw'))\n",
    "mixed_selection_1x_features = pickle.load(open('../pickled/mixed_selection_1x_features.pickle', 'rw'))\n",
    "lasso_features = pickle.load(open('../pickled/lasso_features.pickle', 'rw'))\n",
    "topsis_features = pickle.load(open('../pickled/topsis_features.pickle', 'rw'))\n",
    "rf_features = pickle.load(open('../pickled/rf_features.pickle', 'rw'))\n",
    "feature_space      = {  '../pickled/topsis_features':topsis_features, \n",
    "                         '../pickled/rf_features':rf_features, \n",
    "                         '../pickled/lasso_features':lasso_features,\n",
    "                         '../pickled/mixed_selection_1x_features':mixed_selection_1x_features,\n",
    "                         '../pickled/mixed_selection_features':mixed_selection_features     }\n",
    "\n",
    "# FULL SPACE DATA SCORES\n",
    "lda_full_scores     = pickle.load(open('../pickled/lda_full_scores.pickle', 'rw'))\n",
    "rf_full_scores      = pickle.load(open('../pickled/rf_full_scores.pickle', 'rw'))\n",
    "svm_full_scores     = pickle.load(open('../pickled/svm_full_scores.pickle', 'rw'))\n",
    "log_reg_full_scores = pickle.load(open('../pickled/log_reg_full_scores.pickle', 'rw'))\n",
    "nb_full_scores      = pickle.load(open('../pickled/nb_full_scores.pickle', 'rw'))\n",
    "knn_full_scores     = pickle.load(open('../pickled/knn_full_scores.pickle', 'rw'))\n",
    "full_scores         = {'lda':lda_full_scores,\n",
    "                       'rf':rf_full_scores,\n",
    "                       'svm':svm_full_scores,\n",
    "                       'log_reg':log_reg_full_scores,\n",
    "                       'nb':nb_full_scores,\n",
    "                       'knn':knn_full_scores}\n",
    "\n",
    "# DATA IN EACH SUBSPACE\n",
    "data_per_space=pickle.load(open(\"../pickled/data_per_space.pickle\", 'rw'))\n",
    "\n",
    "\n",
    "# FULL SPACE C.I.\n",
    "full_confidence_intervals = pickle.load(open(\"../pickled/full_confidence_intervals.pickle\", \"rw\"))\n",
    "\n",
    "# SUB SPACE DATA SCORES\n",
    "lda_space_scores=pickle.load(open(\"../pickled/lda_space_scores.pickle\", 'rw'))\n",
    "rf_space_scores=pickle.load(open(\"../pickled/rf_space_scores.pickle\", \"rw\"))\n",
    "svm_space_scores=pickle.load(open(\"../pickled/svm_space_scores.pickle\", \"rw\"))\n",
    "log_reg_space_scores=pickle.load(open(\"../pickled/log_reg_space_scores.pickle\", \"rw\"))\n",
    "nb_space_scores=pickle.load(open(\"../pickled/nb_space_scores.pickle\", \"rw\"))\n",
    "knn_space_scores=pickle.load(open(\"../pickled/knn_space_scores.pickle\", \"rw\"))\n",
    "sub_scores = {'lda':lda_space_scores,\n",
    "             'rf':rf_space_scores,\n",
    "             'svm':svm_space_scores,\n",
    "             'log_reg':log_reg_space_scores,\n",
    "             'nb':nb_space_scores,\n",
    "             'knn':knn_space_scores}\n",
    "\n",
    "# SUB SPACE C.I.\n",
    "sub_model_confidence_interval=pickle.load(open(\"../pickled/sub_model_confidence_interval.pickle\", \"rw\") )\n",
    "\n",
    "# INITIAL DATA\n",
    "bigframe = pickle.load(open('../pickled/bigframe.pickle', 'rw'))\n",
    "bigframe"
   ]
  },
  {
   "cell_type": "code",
   "execution_count": null,
   "metadata": {
    "collapsed": true
   },
   "outputs": [],
   "source": []
  },
  {
   "cell_type": "code",
   "execution_count": null,
   "metadata": {
    "collapsed": true
   },
   "outputs": [],
   "source": []
  }
 ],
 "metadata": {
  "kernelspec": {
   "display_name": "Python 2",
   "language": "python",
   "name": "python2"
  },
  "language_info": {
   "codemirror_mode": {
    "name": "ipython",
    "version": 2
   },
   "file_extension": ".py",
   "mimetype": "text/x-python",
   "name": "python",
   "nbconvert_exporter": "python",
   "pygments_lexer": "ipython2",
   "version": "2.7.10"
  }
 },
 "nbformat": 4,
 "nbformat_minor": 2
}
