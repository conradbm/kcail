{
 "cells": [
  {
   "cell_type": "markdown",
   "metadata": {
    "deletable": true,
    "editable": true
   },
   "source": [
    "# Clustering Notebook\n",
    "## Main questions of interest:\n",
    "<ol> \n",
    "<li>Which descriptors best predict potency?  How do we validate these?\n",
    "    <ul>\n",
    "    <li><strong>F-statistic</strong>; H0: There does not exist a relationship between regression parameters. Ha: There does exist a relationship between regression parameters.</li>\n",
    "    <li><strong>Mixed Selection (pvalues)</strong>; Best indendent dimensions p-values in OLS.</li>\n",
    "    <li><strong>Forward Selection R^2</strong>; Best mix of columns to maximize R^2.</li>\n",
    "    <li><strong>Lasso</strong>; Gridsearch lambda let lasso drop dimensions, plot results.</li>\n",
    "    <li><strong>PCA</strong>; Consider a PCA on all dimensions EXCLUDED from the methods above, this way we can still capture the most gain from the other dimensions if we want too instead of just dropping them.</li>\n",
    "    <li>[...]</li>\n",
    "    <li>[...]</li>\n",
    "    </ul> \n",
    "</li>\n",
    "\n",
    "<li>Can we augment the data set with predicted negative data (molecules expected to be inactive) to improve our machine learning models? Are there certain characteristics of negative data sets that are the most useful for training?\n",
    "    <ul>\n",
    "        <li>What value should IC50 be filled with (zero?)</li>\n",
    "        <li>What attributes relate most to the negative data?</li>\n",
    "        <li>Explore similar techniques from (1)</li>\n",
    "        <li><strong>K=2</strong>; Now we know for sure there is a binary partition in the data, because we manufactured it.</li>\n",
    "        <li><strong>SVM</strong>; We also know that a p-space hyperplace should classify this into two groups, making SVM a valuable option as well.</li>\n",
    "        <li>[...]</li>\n",
    "        <li>[...]</li>\n",
    "    </ul>\n",
    "</li>\n",
    "\n",
    "<li>Given the limited size of the data set and the high cost of experiments, can we use ML to identify the missing data that would be best for model training?\n",
    "    <ul>\n",
    "        <li><strong>KNR</strong>; What are my 5 nearest neighbors, make me interpolate me like them.</li>\n",
    "        <li><strong>Bayes</strong> (Posterior Probabiliy); bin the response, Find max likelihood of me being in that bin, if I am in that bin, grab everyone else in that bin and draw a probability of me like that bins mean/std.</li>\n",
    "        <li><strong>Naive Bayes</strong> (Posterior Probabiliy); same logic as bayes except independence assumption.</li>\n",
    "        <li><strong>Markov Chains</strong>; DTMC or CTMC; Based on these probabilities, Assess what the steady state distribution will look like of me <em>bin</em> changing based on the training data's behavior.</li>\n",
    "        <li>[...]</li>\n",
    "        <li>[...]</li>\n",
    "    </ul>\n",
    "</li>\n",
    "<li>Which cluster most closely with OSM-S-106?\n",
    "    <ul>\n",
    "        <em>k=2; negative data set and positive dataset.</em>\n",
    "        <li><strong>Heirarchical Clustering</strong>; How does our heirarchy build and classify?</li>\n",
    "        <li><strong>EM Clustering</strong>; Take variance into account</li>\n",
    "        <li><strong>K-means</strong>; Baseline</li>\n",
    "        <li><strong>KNN</strong>; Do we have nearest neigbors from the negative data?</li>\n",
    "        <li>[...]</li>\n",
    "        <li>[...]</li>\n",
    "    </ul>\n",
    "</li>\n",
    "<li>Would this provide clues as to the mechanism of OSM-S-106?\n",
    "    <ul>\n",
    "        <li>Mixed Selection (pvalues)</li>\n",
    "        <li>Forward Selection R^2</li>\n",
    "        <li>[...]</li>\n",
    "        <li>[...]</li>\n",
    "    </ul>\n",
    "</li>\n",
    "<li>How well do more advanced ML models perform over simple methods like multiple linear regression, SVM, and random forest?\n",
    "    <ul>\n",
    "        <li><strong>Random Forest</strong>; Gridsearch number of trees, How do these forests segment our data.</li>\n",
    "        <li><strong>Adaboost</strong>; Gridsearch alpha (learning rate). Let this guy perfectly fit the data and see how it segments trees for exploratory reasons.</li>\n",
    "        <li> <strong>Neural Network</strong>; Gridsearch layers. Traditionally they don't do good on this type of problem, but the black box never ceases to amaze in p-space.</li>\n",
    "        <li>[...]</li>\n",
    "        <li>[...]</li>\n",
    "    </ul></li>\n",
    "</ol>"
   ]
  },
  {
   "cell_type": "markdown",
   "metadata": {
    "deletable": true,
    "editable": true
   },
   "source": [
    "## Import Libraries\n",
    "<hr>"
   ]
  },
  {
   "cell_type": "code",
   "execution_count": 1,
   "metadata": {
    "collapsed": false,
    "deletable": true,
    "editable": true
   },
   "outputs": [
    {
     "name": "stderr",
     "output_type": "stream",
     "text": [
      "/Library/Python/2.7/site-packages/statsmodels/compat/pandas.py:56: FutureWarning: The pandas.core.datetools module is deprecated and will be removed in a future version. Please use the pandas.tseries module instead.\n",
      "  from pandas.core import datetools\n"
     ]
    }
   ],
   "source": [
    "# Core\n",
    "import numpy as np\n",
    "np.set_printoptions(suppress=True)\n",
    "import pandas as pd\n",
    "import os\n",
    "import subprocess\n",
    "def install_package(name):\n",
    "    sudoPassword = ''\n",
    "    command = 'pip install ' + name\n",
    "    p = os.system('echo %s|sudo -S %s' % (sudoPassword, command))\n",
    "\n",
    "# Stats\n",
    "from statsmodels.regression import linear_model\n",
    "import statsmodels.api as sm\n",
    "\n",
    "# ML\n",
    "from sklearn.preprocessing import StandardScaler\n",
    "from sklearn.cluster import KMeans\n",
    "from sklearn.cluster import DBSCAN\n",
    "from sklearn.decomposition import PCA\n",
    "from sklearn.pipeline import Pipeline\n",
    "from sklearn.model_selection import cross_val_score\n",
    "from sklearn.linear_model import LinearRegression\n",
    "from sklearn.mixture import GaussianMixture\n",
    "from sklearn.metrics import homogeneity_score\n",
    "from sklearn.metrics import completeness_score\n",
    "from sklearn.metrics import v_measure_score\n",
    "\n",
    "# Plotting\n",
    "import matplotlib.pyplot as plt\n",
    "import seaborn as sns\n",
    "from ggplot import *\n",
    "\n"
   ]
  },
  {
   "cell_type": "markdown",
   "metadata": {
    "deletable": true,
    "editable": true
   },
   "source": [
    "## Import Data\n",
    "<hr>\n",
    "\n",
    "Data provided from: https://www.dropbox.com/sh/c9mbk8e2e8jxqfy/AADSmMbdoZduyG7Eq0HwOTT_a?dl=0\n",
    "\n",
    "### Series3_6.15.17_padel.csv\n",
    "This contains the data on OSM-S-106 and other OSM compounds. The field \"IC50\" describes potency. Smaller IC50 corresponds to higher potency, but a value of zero is impossible. A value of >40 means that the compound lacks enough activity to be interesting to us. OSM-S-106 has IC50 = 0.036.\n",
    "\n",
    "### *_decoys_padel.csv\n",
    "8 data sets called *_decoys_padel.csv. These large data sets contain compounds predicted to have minimal or no activity (IC50 can be assigned >200?).\n",
    "\n",
    "### Selleck_filtered_padel_corrected.csv\n",
    "Selleck_filtered_padel_corrected.csv. This is a set of well-characterized drugs from a vendor. We wish to identify drugs most similar to OSM-S-106 and predicted to be potent."
   ]
  },
  {
   "cell_type": "code",
   "execution_count": 2,
   "metadata": {
    "collapsed": false,
    "deletable": true,
    "editable": true
   },
   "outputs": [
    {
     "data": {
      "text/html": [
       "<div>\n",
       "<style scoped>\n",
       "    .dataframe tbody tr th:only-of-type {\n",
       "        vertical-align: middle;\n",
       "    }\n",
       "\n",
       "    .dataframe tbody tr th {\n",
       "        vertical-align: top;\n",
       "    }\n",
       "\n",
       "    .dataframe thead th {\n",
       "        text-align: right;\n",
       "    }\n",
       "</style>\n",
       "<table border=\"1\" class=\"dataframe\">\n",
       "  <thead>\n",
       "    <tr style=\"text-align: right;\">\n",
       "      <th></th>\n",
       "      <th>Name</th>\n",
       "      <th>IC50</th>\n",
       "      <th>nAcid</th>\n",
       "      <th>ALogP</th>\n",
       "      <th>ALogp2</th>\n",
       "      <th>AMR</th>\n",
       "      <th>apol</th>\n",
       "      <th>naAromAtom</th>\n",
       "      <th>nAromBond</th>\n",
       "      <th>nAtom</th>\n",
       "      <th>...</th>\n",
       "      <th>AMW</th>\n",
       "      <th>WTPT-1</th>\n",
       "      <th>WTPT-2</th>\n",
       "      <th>WTPT-3</th>\n",
       "      <th>WTPT-4</th>\n",
       "      <th>WTPT-5</th>\n",
       "      <th>WPATH</th>\n",
       "      <th>WPOL</th>\n",
       "      <th>XLogP</th>\n",
       "      <th>Zagreb</th>\n",
       "    </tr>\n",
       "  </thead>\n",
       "  <tbody>\n",
       "    <tr>\n",
       "      <th>0</th>\n",
       "      <td>OSM-S-106</td>\n",
       "      <td>0.036</td>\n",
       "      <td>0</td>\n",
       "      <td>-1.0958</td>\n",
       "      <td>1.200778</td>\n",
       "      <td>23.1572</td>\n",
       "      <td>39.591930</td>\n",
       "      <td>15</td>\n",
       "      <td>17</td>\n",
       "      <td>30</td>\n",
       "      <td>...</td>\n",
       "      <td>10.200817</td>\n",
       "      <td>40.713610</td>\n",
       "      <td>2.035681</td>\n",
       "      <td>22.242022</td>\n",
       "      <td>4.765434</td>\n",
       "      <td>11.047825</td>\n",
       "      <td>799</td>\n",
       "      <td>31</td>\n",
       "      <td>0.727</td>\n",
       "      <td>110</td>\n",
       "    </tr>\n",
       "    <tr>\n",
       "      <th>1</th>\n",
       "      <td>OSM-S-107</td>\n",
       "      <td>10.000</td>\n",
       "      <td>0</td>\n",
       "      <td>1.1547</td>\n",
       "      <td>1.333332</td>\n",
       "      <td>38.0230</td>\n",
       "      <td>49.112481</td>\n",
       "      <td>15</td>\n",
       "      <td>16</td>\n",
       "      <td>40</td>\n",
       "      <td>...</td>\n",
       "      <td>8.202895</td>\n",
       "      <td>48.001779</td>\n",
       "      <td>2.087034</td>\n",
       "      <td>18.848454</td>\n",
       "      <td>0.000000</td>\n",
       "      <td>13.231952</td>\n",
       "      <td>1321</td>\n",
       "      <td>34</td>\n",
       "      <td>3.185</td>\n",
       "      <td>124</td>\n",
       "    </tr>\n",
       "    <tr>\n",
       "      <th>2</th>\n",
       "      <td>OSM-S-118</td>\n",
       "      <td>50.000</td>\n",
       "      <td>0</td>\n",
       "      <td>0.5906</td>\n",
       "      <td>0.348808</td>\n",
       "      <td>7.7935</td>\n",
       "      <td>31.554344</td>\n",
       "      <td>15</td>\n",
       "      <td>17</td>\n",
       "      <td>23</td>\n",
       "      <td>...</td>\n",
       "      <td>9.219166</td>\n",
       "      <td>31.354825</td>\n",
       "      <td>2.090322</td>\n",
       "      <td>9.306953</td>\n",
       "      <td>0.000000</td>\n",
       "      <td>6.214417</td>\n",
       "      <td>343</td>\n",
       "      <td>21</td>\n",
       "      <td>4.191</td>\n",
       "      <td>80</td>\n",
       "    </tr>\n",
       "    <tr>\n",
       "      <th>3</th>\n",
       "      <td>OSM-S-119</td>\n",
       "      <td>50.000</td>\n",
       "      <td>0</td>\n",
       "      <td>2.2246</td>\n",
       "      <td>4.948845</td>\n",
       "      <td>25.3114</td>\n",
       "      <td>36.320758</td>\n",
       "      <td>15</td>\n",
       "      <td>17</td>\n",
       "      <td>23</td>\n",
       "      <td>...</td>\n",
       "      <td>15.993993</td>\n",
       "      <td>35.091951</td>\n",
       "      <td>2.064232</td>\n",
       "      <td>14.383663</td>\n",
       "      <td>0.000000</td>\n",
       "      <td>6.220694</td>\n",
       "      <td>480</td>\n",
       "      <td>27</td>\n",
       "      <td>5.059</td>\n",
       "      <td>92</td>\n",
       "    </tr>\n",
       "    <tr>\n",
       "      <th>4</th>\n",
       "      <td>OSM-S-120</td>\n",
       "      <td>50.000</td>\n",
       "      <td>0</td>\n",
       "      <td>1.3358</td>\n",
       "      <td>1.784362</td>\n",
       "      <td>16.7123</td>\n",
       "      <td>33.937551</td>\n",
       "      <td>15</td>\n",
       "      <td>17</td>\n",
       "      <td>23</td>\n",
       "      <td>...</td>\n",
       "      <td>12.606580</td>\n",
       "      <td>33.230029</td>\n",
       "      <td>2.076877</td>\n",
       "      <td>11.846725</td>\n",
       "      <td>0.000000</td>\n",
       "      <td>6.220707</td>\n",
       "      <td>411</td>\n",
       "      <td>23</td>\n",
       "      <td>4.625</td>\n",
       "      <td>86</td>\n",
       "    </tr>\n",
       "  </tbody>\n",
       "</table>\n",
       "<p>5 rows × 1446 columns</p>\n",
       "</div>"
      ],
      "text/plain": [
       "        Name    IC50  nAcid   ALogP    ALogp2      AMR       apol  naAromAtom  \\\n",
       "0  OSM-S-106   0.036      0 -1.0958  1.200778  23.1572  39.591930          15   \n",
       "1  OSM-S-107  10.000      0  1.1547  1.333332  38.0230  49.112481          15   \n",
       "2  OSM-S-118  50.000      0  0.5906  0.348808   7.7935  31.554344          15   \n",
       "3  OSM-S-119  50.000      0  2.2246  4.948845  25.3114  36.320758          15   \n",
       "4  OSM-S-120  50.000      0  1.3358  1.784362  16.7123  33.937551          15   \n",
       "\n",
       "   nAromBond  nAtom   ...          AMW     WTPT-1    WTPT-2     WTPT-3  \\\n",
       "0         17     30   ...    10.200817  40.713610  2.035681  22.242022   \n",
       "1         16     40   ...     8.202895  48.001779  2.087034  18.848454   \n",
       "2         17     23   ...     9.219166  31.354825  2.090322   9.306953   \n",
       "3         17     23   ...    15.993993  35.091951  2.064232  14.383663   \n",
       "4         17     23   ...    12.606580  33.230029  2.076877  11.846725   \n",
       "\n",
       "     WTPT-4     WTPT-5  WPATH  WPOL  XLogP  Zagreb  \n",
       "0  4.765434  11.047825    799    31  0.727     110  \n",
       "1  0.000000  13.231952   1321    34  3.185     124  \n",
       "2  0.000000   6.214417    343    21  4.191      80  \n",
       "3  0.000000   6.220694    480    27  5.059      92  \n",
       "4  0.000000   6.220707    411    23  4.625      86  \n",
       "\n",
       "[5 rows x 1446 columns]"
      ]
     },
     "execution_count": 2,
     "metadata": {},
     "output_type": "execute_result"
    }
   ],
   "source": [
    "# Read in main data\n",
    "main_df = pd.read_csv(\"Series3_6.15.17_padel.csv\")\n",
    "\n",
    "# Read in placebos data\n",
    "placebo_1 = pd.read_csv(\"Akt1_decoys_padel.csv\")\n",
    "placebo_2 = pd.read_csv(\"AmpC_decoys_padel.csv\")\n",
    "placebo_3 = pd.read_csv(\"cp3a4_decoys_padel.csv\")\n",
    "placebo_4 = pd.read_csv(\"cxcr4_decoys_padel.csv\")\n",
    "placebo_5 = pd.read_csv(\"HIVpr_decoys_padel.csv\")\n",
    "placebo_6 = pd.read_csv(\"HIVrt_decoys_padel.csv\")\n",
    "placebo_7 = pd.read_csv(\"Kif11_decoys_padel.csv\")\n",
    "#placebo_8 = pd.read_csv(\"Selleck_filtered_padel_corrected.csv\")\n",
    "\n",
    "# Append dumby response column.\n",
    "placebo_1.insert(1, \"IC50\", pd.Series(np.array([250 for i in range(placebo_1.shape[0])], dtype=\"float64\"))) \n",
    "placebo_2.insert(1, \"IC50\", pd.Series(np.array([250 for i in range(placebo_2.shape[0])], dtype=\"float64\"))) \n",
    "placebo_3.insert(1, \"IC50\", pd.Series(np.array([250 for i in range(placebo_3.shape[0])], dtype=\"float64\"))) \n",
    "placebo_4.insert(1, \"IC50\", pd.Series(np.array([250 for i in range(placebo_4.shape[0])], dtype=\"float64\"))) \n",
    "placebo_5.insert(1, \"IC50\", pd.Series(np.array([250 for i in range(placebo_5.shape[0])], dtype=\"float64\"))) \n",
    "placebo_6.insert(1, \"IC50\", pd.Series(np.array([250 for i in range(placebo_6.shape[0])], dtype=\"float64\"))) \n",
    "placebo_7.insert(1, \"IC50\", pd.Series(np.array([250 for i in range(placebo_7.shape[0])], dtype=\"float64\"))) \n",
    "#placebo_8.insert(1, \"IC50\", pd.Series(np.array([250 for i in range(placebo_8.shape[0])], dtype=\"float64\"))) \n",
    "\n",
    "# Gather our dataframes for collective manipulation\n",
    "frames = [main_df,   placebo_1, placebo_2, \n",
    "          placebo_3, placebo_4, placebo_5,\n",
    "          placebo_6, placebo_7]\n",
    "\n",
    "frames[0].head()"
   ]
  },
  {
   "cell_type": "code",
   "execution_count": null,
   "metadata": {
    "collapsed": false,
    "deletable": true,
    "editable": true
   },
   "outputs": [],
   "source": []
  },
  {
   "cell_type": "code",
   "execution_count": null,
   "metadata": {
    "collapsed": false,
    "deletable": true,
    "editable": true
   },
   "outputs": [],
   "source": []
  },
  {
   "cell_type": "markdown",
   "metadata": {
    "deletable": true,
    "editable": true
   },
   "source": [
    "### Remove NAs | Concat | Clean"
   ]
  },
  {
   "cell_type": "code",
   "execution_count": 3,
   "metadata": {
    "collapsed": false,
    "deletable": true,
    "editable": true
   },
   "outputs": [
    {
     "name": "stdout",
     "output_type": "stream",
     "text": [
      "(16450, 1446)\n",
      "(2850, 1446)\n",
      "(11800, 1446)\n",
      "(3406, 1446)\n",
      "(35750, 1446)\n",
      "(18891, 1446)\n",
      "(6850, 1446)\n",
      "(96043, 1446)\n",
      "False\n"
     ]
    }
   ],
   "source": [
    "# It only makes sense to keep non-null responses.\n",
    "row_mask=frames[0].isnull().any(axis=1) == False\n",
    "frames[0] = frames[0].loc[row_mask,:]\n",
    "\n",
    "# Confirm\n",
    "frames[0].shape # Correct, it dropped from 70 to 46.\n",
    "\n",
    "for f in frames[1:]:\n",
    "    f=f.fillna(0)\n",
    "    print(f.shape)\n",
    "\n",
    "    \n",
    "bigframe = pd.concat(frames)\n",
    "print bigframe.shape\n",
    "bigframe = bigframe[frames[0].columns]\n",
    "bigframe.tail()\n",
    "\n",
    "bigframe=bigframe.replace([np.inf, -np.inf, np.nan], 0)\n",
    "bigframe=bigframe.apply(lambda col: col.replace(\"#NAME?\", 0) , axis=0)\n",
    "bigframe=bigframe.apply(lambda col: col.fillna(0))\n",
    "print(any(bigframe.isnull().any())) # no nans.."
   ]
  },
  {
   "cell_type": "code",
   "execution_count": null,
   "metadata": {
    "collapsed": false,
    "deletable": true,
    "editable": true
   },
   "outputs": [],
   "source": []
  },
  {
   "cell_type": "markdown",
   "metadata": {
    "deletable": true,
    "editable": true
   },
   "source": []
  },
  {
   "cell_type": "code",
   "execution_count": null,
   "metadata": {
    "collapsed": false,
    "deletable": true,
    "editable": true
   },
   "outputs": [],
   "source": []
  },
  {
   "cell_type": "markdown",
   "metadata": {
    "deletable": true,
    "editable": true
   },
   "source": []
  },
  {
   "cell_type": "code",
   "execution_count": null,
   "metadata": {
    "collapsed": false,
    "deletable": true,
    "editable": true
   },
   "outputs": [],
   "source": []
  },
  {
   "cell_type": "markdown",
   "metadata": {
    "deletable": true,
    "editable": true
   },
   "source": [
    "## PCA | Kmeans\n",
    "\n",
    "Lets try PCA, plot each component, then fit a regression to it and try to plot it. Heatmap by IC50. Wrap by cluster.\n"
   ]
  },
  {
   "cell_type": "code",
   "execution_count": 164,
   "metadata": {
    "collapsed": false,
    "deletable": true,
    "editable": true
   },
   "outputs": [
    {
     "ename": "ValueError",
     "evalue": "could not convert string to float: Low",
     "output_type": "error",
     "traceback": [
      "\u001b[0;31m---------------------------------------------------------------------------\u001b[0m",
      "\u001b[0;31mValueError\u001b[0m                                Traceback (most recent call last)",
      "\u001b[0;32m<ipython-input-164-a0fbc9e9db05>\u001b[0m in \u001b[0;36m<module>\u001b[0;34m()\u001b[0m\n\u001b[1;32m     11\u001b[0m \u001b[0;34m\u001b[0m\u001b[0m\n\u001b[1;32m     12\u001b[0m \u001b[0;31m# Initiate scaling\u001b[0m\u001b[0;34m\u001b[0m\u001b[0;34m\u001b[0m\u001b[0m\n\u001b[0;32m---> 13\u001b[0;31m \u001b[0mX\u001b[0m\u001b[0;34m=\u001b[0m\u001b[0mscaler\u001b[0m\u001b[0;34m.\u001b[0m\u001b[0mfit_transform\u001b[0m\u001b[0;34m(\u001b[0m\u001b[0mX\u001b[0m\u001b[0;34m)\u001b[0m\u001b[0;34m\u001b[0m\u001b[0m\n\u001b[0m\u001b[1;32m     14\u001b[0m \u001b[0;32mprint\u001b[0m\u001b[0;34m(\u001b[0m\u001b[0;34m\"Finished scaling\"\u001b[0m\u001b[0;34m)\u001b[0m\u001b[0;34m\u001b[0m\u001b[0m\n\u001b[1;32m     15\u001b[0m \u001b[0;34m\u001b[0m\u001b[0m\n",
      "\u001b[0;32m/Library/Python/2.7/site-packages/sklearn/base.pyc\u001b[0m in \u001b[0;36mfit_transform\u001b[0;34m(self, X, y, **fit_params)\u001b[0m\n\u001b[1;32m    515\u001b[0m         \u001b[0;32mif\u001b[0m \u001b[0my\u001b[0m \u001b[0;32mis\u001b[0m \u001b[0mNone\u001b[0m\u001b[0;34m:\u001b[0m\u001b[0;34m\u001b[0m\u001b[0m\n\u001b[1;32m    516\u001b[0m             \u001b[0;31m# fit method of arity 1 (unsupervised transformation)\u001b[0m\u001b[0;34m\u001b[0m\u001b[0;34m\u001b[0m\u001b[0m\n\u001b[0;32m--> 517\u001b[0;31m             \u001b[0;32mreturn\u001b[0m \u001b[0mself\u001b[0m\u001b[0;34m.\u001b[0m\u001b[0mfit\u001b[0m\u001b[0;34m(\u001b[0m\u001b[0mX\u001b[0m\u001b[0;34m,\u001b[0m \u001b[0;34m**\u001b[0m\u001b[0mfit_params\u001b[0m\u001b[0;34m)\u001b[0m\u001b[0;34m.\u001b[0m\u001b[0mtransform\u001b[0m\u001b[0;34m(\u001b[0m\u001b[0mX\u001b[0m\u001b[0;34m)\u001b[0m\u001b[0;34m\u001b[0m\u001b[0m\n\u001b[0m\u001b[1;32m    518\u001b[0m         \u001b[0;32melse\u001b[0m\u001b[0;34m:\u001b[0m\u001b[0;34m\u001b[0m\u001b[0m\n\u001b[1;32m    519\u001b[0m             \u001b[0;31m# fit method of arity 2 (supervised transformation)\u001b[0m\u001b[0;34m\u001b[0m\u001b[0;34m\u001b[0m\u001b[0m\n",
      "\u001b[0;32m/Library/Python/2.7/site-packages/sklearn/preprocessing/data.pyc\u001b[0m in \u001b[0;36mfit\u001b[0;34m(self, X, y)\u001b[0m\n\u001b[1;32m    588\u001b[0m         \u001b[0;31m# Reset internal state before fitting\u001b[0m\u001b[0;34m\u001b[0m\u001b[0;34m\u001b[0m\u001b[0m\n\u001b[1;32m    589\u001b[0m         \u001b[0mself\u001b[0m\u001b[0;34m.\u001b[0m\u001b[0m_reset\u001b[0m\u001b[0;34m(\u001b[0m\u001b[0;34m)\u001b[0m\u001b[0;34m\u001b[0m\u001b[0m\n\u001b[0;32m--> 590\u001b[0;31m         \u001b[0;32mreturn\u001b[0m \u001b[0mself\u001b[0m\u001b[0;34m.\u001b[0m\u001b[0mpartial_fit\u001b[0m\u001b[0;34m(\u001b[0m\u001b[0mX\u001b[0m\u001b[0;34m,\u001b[0m \u001b[0my\u001b[0m\u001b[0;34m)\u001b[0m\u001b[0;34m\u001b[0m\u001b[0m\n\u001b[0m\u001b[1;32m    591\u001b[0m \u001b[0;34m\u001b[0m\u001b[0m\n\u001b[1;32m    592\u001b[0m     \u001b[0;32mdef\u001b[0m \u001b[0mpartial_fit\u001b[0m\u001b[0;34m(\u001b[0m\u001b[0mself\u001b[0m\u001b[0;34m,\u001b[0m \u001b[0mX\u001b[0m\u001b[0;34m,\u001b[0m \u001b[0my\u001b[0m\u001b[0;34m=\u001b[0m\u001b[0mNone\u001b[0m\u001b[0;34m)\u001b[0m\u001b[0;34m:\u001b[0m\u001b[0;34m\u001b[0m\u001b[0m\n",
      "\u001b[0;32m/Library/Python/2.7/site-packages/sklearn/preprocessing/data.pyc\u001b[0m in \u001b[0;36mpartial_fit\u001b[0;34m(self, X, y)\u001b[0m\n\u001b[1;32m    610\u001b[0m         \"\"\"\n\u001b[1;32m    611\u001b[0m         X = check_array(X, accept_sparse=('csr', 'csc'), copy=self.copy,\n\u001b[0;32m--> 612\u001b[0;31m                         warn_on_dtype=True, estimator=self, dtype=FLOAT_DTYPES)\n\u001b[0m\u001b[1;32m    613\u001b[0m \u001b[0;34m\u001b[0m\u001b[0m\n\u001b[1;32m    614\u001b[0m         \u001b[0;31m# Even in the case of `with_mean=False`, we update the mean anyway\u001b[0m\u001b[0;34m\u001b[0m\u001b[0;34m\u001b[0m\u001b[0m\n",
      "\u001b[0;32m/Library/Python/2.7/site-packages/sklearn/utils/validation.pyc\u001b[0m in \u001b[0;36mcheck_array\u001b[0;34m(array, accept_sparse, dtype, order, copy, force_all_finite, ensure_2d, allow_nd, ensure_min_samples, ensure_min_features, warn_on_dtype, estimator)\u001b[0m\n\u001b[1;32m    431\u001b[0m                                       force_all_finite)\n\u001b[1;32m    432\u001b[0m     \u001b[0;32melse\u001b[0m\u001b[0;34m:\u001b[0m\u001b[0;34m\u001b[0m\u001b[0m\n\u001b[0;32m--> 433\u001b[0;31m         \u001b[0marray\u001b[0m \u001b[0;34m=\u001b[0m \u001b[0mnp\u001b[0m\u001b[0;34m.\u001b[0m\u001b[0marray\u001b[0m\u001b[0;34m(\u001b[0m\u001b[0marray\u001b[0m\u001b[0;34m,\u001b[0m \u001b[0mdtype\u001b[0m\u001b[0;34m=\u001b[0m\u001b[0mdtype\u001b[0m\u001b[0;34m,\u001b[0m \u001b[0morder\u001b[0m\u001b[0;34m=\u001b[0m\u001b[0morder\u001b[0m\u001b[0;34m,\u001b[0m \u001b[0mcopy\u001b[0m\u001b[0;34m=\u001b[0m\u001b[0mcopy\u001b[0m\u001b[0;34m)\u001b[0m\u001b[0;34m\u001b[0m\u001b[0m\n\u001b[0m\u001b[1;32m    434\u001b[0m \u001b[0;34m\u001b[0m\u001b[0m\n\u001b[1;32m    435\u001b[0m         \u001b[0;32mif\u001b[0m \u001b[0mensure_2d\u001b[0m\u001b[0;34m:\u001b[0m\u001b[0;34m\u001b[0m\u001b[0m\n",
      "\u001b[0;31mValueError\u001b[0m: could not convert string to float: Low"
     ]
    }
   ],
   "source": [
    "# Setup data\n",
    "y=bigframe.iloc[:,1].as_matrix()\n",
    "X=bigframe.iloc[:,2:].as_matrix()\n",
    "\n",
    "# Setup algorithmic objects\n",
    "pipe = Pipeline([('scaler', StandardScaler()),\n",
    "                 ('kmeans', KMeans())])\n",
    "scaler = StandardScaler()\n",
    "kmeans = KMeans(n_clusters=2)\n",
    "pca = PCA()\n",
    "\n",
    "# Initiate scaling\n",
    "X=scaler.fit_transform(X)\n",
    "print(\"Finished scaling\")\n",
    "\n",
    "# Initiate clustering\n",
    "kmeans_output = kmeans.fit(X)\n",
    "kmeans_output.labels_\n",
    "\n",
    "print(\"Finished kmeans\")\n",
    "# Initiate dim. drop (un-transformed, I.e., just eigenvalues, variance_explained, ect..)\n",
    "pca_output = pca.fit(X)\n",
    "pca_output.explained_variance_ #explained variance of all 70 components\n",
    "components_nums = [i for i in range(len(pca_output.components_))]\n",
    "\n",
    "# Illustrate variance cutoff.\n",
    "pca_df=pd.DataFrame({'explained_variance':pca_output.explained_variance_}, index=components_nums)\n",
    "pca_df.plot(title='Components vs. Variance')\n",
    "plt.show()\n",
    "\n",
    "# Illustrate dim. drop (transformed, I.e., projected onto our new basis that captured the most variance in our data)\n",
    "pca_output = pca.fit_transform(X)\n",
    "pca_df_dropped = pd.DataFrame(pca_output, \n",
    "                              columns=[\"PC_\"+str(i) for i in components_nums])\n",
    "pca_df_dropped = pca_df_dropped.iloc[:,0:3]\n",
    "pca_df_dropped['cluster'] = pd.DataFrame(kmeans_output.labels_, columns=['cluster'], dtype='category')\n",
    "pca_df_dropped['IC50'] = y\n",
    "pca_df_dropped.head()"
   ]
  },
  {
   "cell_type": "code",
   "execution_count": null,
   "metadata": {
    "collapsed": false,
    "deletable": true,
    "editable": true
   },
   "outputs": [],
   "source": []
  },
  {
   "cell_type": "markdown",
   "metadata": {
    "deletable": true,
    "editable": true
   },
   "source": [
    "### What do the clusters look like? Do they look separable? Do we see a pattern?"
   ]
  },
  {
   "cell_type": "code",
   "execution_count": 11,
   "metadata": {
    "collapsed": false,
    "deletable": true,
    "editable": true
   },
   "outputs": [
    {
     "data": {
      "image/png": "[encoded data removed]",
      "text/plain": [
       "<Figure size 792x576 with 2 Axes>"
      ]
     },
     "metadata": {},
     "output_type": "display_data"
    },
    {
     "data": {
      "text/plain": [
       "<ggplot: (278415217)>"
      ]
     },
     "execution_count": 11,
     "metadata": {},
     "output_type": "execute_result"
    }
   ],
   "source": [
    "p = ggplot(aes(x='PC_0', y='PC_1',z='PC_2', color='IC50'), data=pca_df_dropped )\n",
    "p = p + geom_point() + facet_wrap('cluster') + ggtitle(\"PCA (N=2) vs. Kmeans(K=2)\")\n",
    "p"
   ]
  },
  {
   "cell_type": "markdown",
   "metadata": {
    "deletable": true,
    "editable": true
   },
   "source": [
    "### Whats the best K?\n",
    "\n",
    "From our analysis above, we can see that the data should be logically partitioned into 2 sets, compounds that are potent or not. We know that any potency less than 0.4 is potent to some degree. This is good news. So lets create a function to calculate the completeness and genuineity to define the correct number for K.\n",
    "\n"
   ]
  },
  {
   "cell_type": "code",
   "execution_count": 5,
   "metadata": {
    "collapsed": false,
    "deletable": true,
    "editable": true
   },
   "outputs": [
    {
     "data": {
      "text/html": [
       "<div>\n",
       "<style scoped>\n",
       "    .dataframe tbody tr th:only-of-type {\n",
       "        vertical-align: middle;\n",
       "    }\n",
       "\n",
       "    .dataframe tbody tr th {\n",
       "        vertical-align: top;\n",
       "    }\n",
       "\n",
       "    .dataframe thead th {\n",
       "        text-align: right;\n",
       "    }\n",
       "</style>\n",
       "<table border=\"1\" class=\"dataframe\">\n",
       "  <thead>\n",
       "    <tr style=\"text-align: right;\">\n",
       "      <th></th>\n",
       "      <th>Name</th>\n",
       "      <th>IC50</th>\n",
       "      <th>bin2</th>\n",
       "      <th>bin3</th>\n",
       "      <th>bin4</th>\n",
       "      <th>bin5</th>\n",
       "      <th>nAcid</th>\n",
       "      <th>ALogP</th>\n",
       "      <th>ALogp2</th>\n",
       "      <th>AMR</th>\n",
       "      <th>...</th>\n",
       "      <th>AMW</th>\n",
       "      <th>WTPT-1</th>\n",
       "      <th>WTPT-2</th>\n",
       "      <th>WTPT-3</th>\n",
       "      <th>WTPT-4</th>\n",
       "      <th>WTPT-5</th>\n",
       "      <th>WPATH</th>\n",
       "      <th>WPOL</th>\n",
       "      <th>XLogP</th>\n",
       "      <th>Zagreb</th>\n",
       "    </tr>\n",
       "  </thead>\n",
       "  <tbody>\n",
       "    <tr>\n",
       "      <th>0</th>\n",
       "      <td>OSM-S-106</td>\n",
       "      <td>0.036</td>\n",
       "      <td>High</td>\n",
       "      <td>High</td>\n",
       "      <td>High</td>\n",
       "      <td>High</td>\n",
       "      <td>0</td>\n",
       "      <td>-1.0958</td>\n",
       "      <td>1.200778</td>\n",
       "      <td>23.1572</td>\n",
       "      <td>...</td>\n",
       "      <td>10.200817</td>\n",
       "      <td>40.713610</td>\n",
       "      <td>2.035681</td>\n",
       "      <td>22.242022</td>\n",
       "      <td>4.765434</td>\n",
       "      <td>11.047825</td>\n",
       "      <td>799.0</td>\n",
       "      <td>31.0</td>\n",
       "      <td>0.727</td>\n",
       "      <td>110.0</td>\n",
       "    </tr>\n",
       "    <tr>\n",
       "      <th>1</th>\n",
       "      <td>OSM-S-107</td>\n",
       "      <td>10.000</td>\n",
       "      <td>High</td>\n",
       "      <td>High</td>\n",
       "      <td>MediumLow</td>\n",
       "      <td>MediumAvg</td>\n",
       "      <td>0</td>\n",
       "      <td>1.1547</td>\n",
       "      <td>1.333332</td>\n",
       "      <td>38.0230</td>\n",
       "      <td>...</td>\n",
       "      <td>8.202895</td>\n",
       "      <td>48.001779</td>\n",
       "      <td>2.087034</td>\n",
       "      <td>18.848454</td>\n",
       "      <td>0.000000</td>\n",
       "      <td>13.231952</td>\n",
       "      <td>1321.0</td>\n",
       "      <td>34.0</td>\n",
       "      <td>3.185</td>\n",
       "      <td>124.0</td>\n",
       "    </tr>\n",
       "    <tr>\n",
       "      <th>2</th>\n",
       "      <td>OSM-S-118</td>\n",
       "      <td>50.000</td>\n",
       "      <td>Low</td>\n",
       "      <td>Low</td>\n",
       "      <td>Low</td>\n",
       "      <td>Low</td>\n",
       "      <td>0</td>\n",
       "      <td>0.5906</td>\n",
       "      <td>0.348808</td>\n",
       "      <td>7.7935</td>\n",
       "      <td>...</td>\n",
       "      <td>9.219166</td>\n",
       "      <td>31.354825</td>\n",
       "      <td>2.090322</td>\n",
       "      <td>9.306953</td>\n",
       "      <td>0.000000</td>\n",
       "      <td>6.214417</td>\n",
       "      <td>343.0</td>\n",
       "      <td>21.0</td>\n",
       "      <td>4.191</td>\n",
       "      <td>80.0</td>\n",
       "    </tr>\n",
       "    <tr>\n",
       "      <th>3</th>\n",
       "      <td>OSM-S-119</td>\n",
       "      <td>50.000</td>\n",
       "      <td>Low</td>\n",
       "      <td>Low</td>\n",
       "      <td>Low</td>\n",
       "      <td>Low</td>\n",
       "      <td>0</td>\n",
       "      <td>2.2246</td>\n",
       "      <td>4.948845</td>\n",
       "      <td>25.3114</td>\n",
       "      <td>...</td>\n",
       "      <td>15.993993</td>\n",
       "      <td>35.091951</td>\n",
       "      <td>2.064232</td>\n",
       "      <td>14.383663</td>\n",
       "      <td>0.000000</td>\n",
       "      <td>6.220694</td>\n",
       "      <td>480.0</td>\n",
       "      <td>27.0</td>\n",
       "      <td>5.059</td>\n",
       "      <td>92.0</td>\n",
       "    </tr>\n",
       "    <tr>\n",
       "      <th>4</th>\n",
       "      <td>OSM-S-120</td>\n",
       "      <td>50.000</td>\n",
       "      <td>Low</td>\n",
       "      <td>Low</td>\n",
       "      <td>Low</td>\n",
       "      <td>Low</td>\n",
       "      <td>0</td>\n",
       "      <td>1.3358</td>\n",
       "      <td>1.784362</td>\n",
       "      <td>16.7123</td>\n",
       "      <td>...</td>\n",
       "      <td>12.606580</td>\n",
       "      <td>33.230029</td>\n",
       "      <td>2.076877</td>\n",
       "      <td>11.846725</td>\n",
       "      <td>0.000000</td>\n",
       "      <td>6.220707</td>\n",
       "      <td>411.0</td>\n",
       "      <td>23.0</td>\n",
       "      <td>4.625</td>\n",
       "      <td>86.0</td>\n",
       "    </tr>\n",
       "  </tbody>\n",
       "</table>\n",
       "<p>5 rows × 1450 columns</p>\n",
       "</div>"
      ],
      "text/plain": [
       "        Name    IC50  bin2  bin3       bin4       bin5  nAcid   ALogP  \\\n",
       "0  OSM-S-106   0.036  High  High       High       High      0 -1.0958   \n",
       "1  OSM-S-107  10.000  High  High  MediumLow  MediumAvg      0  1.1547   \n",
       "2  OSM-S-118  50.000   Low   Low        Low        Low      0  0.5906   \n",
       "3  OSM-S-119  50.000   Low   Low        Low        Low      0  2.2246   \n",
       "4  OSM-S-120  50.000   Low   Low        Low        Low      0  1.3358   \n",
       "\n",
       "     ALogp2      AMR   ...          AMW     WTPT-1    WTPT-2     WTPT-3  \\\n",
       "0  1.200778  23.1572   ...    10.200817  40.713610  2.035681  22.242022   \n",
       "1  1.333332  38.0230   ...     8.202895  48.001779  2.087034  18.848454   \n",
       "2  0.348808   7.7935   ...     9.219166  31.354825  2.090322   9.306953   \n",
       "3  4.948845  25.3114   ...    15.993993  35.091951  2.064232  14.383663   \n",
       "4  1.784362  16.7123   ...    12.606580  33.230029  2.076877  11.846725   \n",
       "\n",
       "     WTPT-4     WTPT-5   WPATH  WPOL  XLogP  Zagreb  \n",
       "0  4.765434  11.047825   799.0  31.0  0.727   110.0  \n",
       "1  0.000000  13.231952  1321.0  34.0  3.185   124.0  \n",
       "2  0.000000   6.214417   343.0  21.0  4.191    80.0  \n",
       "3  0.000000   6.220694   480.0  27.0  5.059    92.0  \n",
       "4  0.000000   6.220707   411.0  23.0  4.625    86.0  \n",
       "\n",
       "[5 rows x 1450 columns]"
      ]
     },
     "execution_count": 5,
     "metadata": {},
     "output_type": "execute_result"
    }
   ],
   "source": [
    "from __future__ import division\n",
    "\n",
    "def categorize2(row):\n",
    "    returnBin=\"High\"\n",
    "    if row > 40.0:\n",
    "        returnBin=\"Low\"\n",
    "    return returnBin\n",
    "\n",
    "def categorize3(row):\n",
    "    returnBin=\"\"\n",
    "    if row > 40:\n",
    "        returnBin=\"Low\"\n",
    "    elif row >10:\n",
    "        returnBin=\"Medium\"\n",
    "    else:\n",
    "        returnBin=\"High\"\n",
    "    return returnBin\n",
    "\n",
    "def categorize4(row):\n",
    "    v=(0.036/row)*100\n",
    "    returnBin=\"\"\n",
    "    if v > 10.0:\n",
    "        returnBin=\"High\"\n",
    "    elif v > 1.0:\n",
    "        returnBin=\"MediumHigh\"\n",
    "    elif v > 0.1:\n",
    "        returnBin=\"MediumLow\"\n",
    "    elif v > 0.01:\n",
    "        returnBin=\"Low\"\n",
    "    else:\n",
    "        returnBin=\"Other\"\n",
    "    return returnBin\n",
    "\n",
    "def categorize5(row):\n",
    "    v=(0.036/row)*100\n",
    "    returnBin=\"\"\n",
    "    if v > 10.0:\n",
    "        returnBin=\"High\"\n",
    "    elif v > 1.0:\n",
    "        returnBin=\"MediumHigh\"\n",
    "    elif v > 0.3:\n",
    "        returnBin=\"MediumAvg\"\n",
    "    elif v > 0.1:\n",
    "        returnBin=\"MediumLow\"\n",
    "    elif v > 0.01:\n",
    "        returnBin=\"Low\"\n",
    "    else:\n",
    "        returnBin=\"Other\"\n",
    "    return returnBin\n",
    "\n",
    "#bigframe.drop('bin2', axis=1, inplace=True)\n",
    "#bigframe.drop('bin3', axis=1, inplace=True)\n",
    "#bigframe.drop('bin4', axis=1, inplace=True)\n",
    "#bigframe.drop('bin5', axis=1, inplace=True)\n",
    "\n",
    "bigframe.insert(2, 'bin2', bigframe[\"IC50\"].transform(categorize2).astype('category') )\n",
    "bigframe.insert(3, 'bin3', bigframe[\"IC50\"].transform(categorize3).astype('category') )\n",
    "bigframe.insert(4, 'bin4', bigframe[\"IC50\"].transform(categorize4).astype('category') )\n",
    "bigframe.insert(5, 'bin5', bigframe[\"IC50\"].transform(categorize5).astype('category') )\n",
    "bigframe.head()\n"
   ]
  },
  {
   "cell_type": "code",
   "execution_count": 6,
   "metadata": {
    "collapsed": false,
    "deletable": true,
    "editable": true
   },
   "outputs": [
    {
     "data": {
      "text/html": [
       "<div>\n",
       "<style scoped>\n",
       "    .dataframe tbody tr th:only-of-type {\n",
       "        vertical-align: middle;\n",
       "    }\n",
       "\n",
       "    .dataframe tbody tr th {\n",
       "        vertical-align: top;\n",
       "    }\n",
       "\n",
       "    .dataframe thead th {\n",
       "        text-align: right;\n",
       "    }\n",
       "</style>\n",
       "<table border=\"1\" class=\"dataframe\">\n",
       "  <thead>\n",
       "    <tr style=\"text-align: right;\">\n",
       "      <th></th>\n",
       "      <th>bin2</th>\n",
       "      <th>bin3</th>\n",
       "      <th>bin4</th>\n",
       "      <th>bin5</th>\n",
       "    </tr>\n",
       "  </thead>\n",
       "  <tbody>\n",
       "    <tr>\n",
       "      <th>High</th>\n",
       "      <td>18.0</td>\n",
       "      <td>11.0</td>\n",
       "      <td>1.0</td>\n",
       "      <td>1.0</td>\n",
       "    </tr>\n",
       "    <tr>\n",
       "      <th>Low</th>\n",
       "      <td>96025.0</td>\n",
       "      <td>96025.0</td>\n",
       "      <td>96026.0</td>\n",
       "      <td>96026.0</td>\n",
       "    </tr>\n",
       "    <tr>\n",
       "      <th>Medium</th>\n",
       "      <td>NaN</td>\n",
       "      <td>7.0</td>\n",
       "      <td>NaN</td>\n",
       "      <td>NaN</td>\n",
       "    </tr>\n",
       "    <tr>\n",
       "      <th>MediumHigh</th>\n",
       "      <td>NaN</td>\n",
       "      <td>NaN</td>\n",
       "      <td>2.0</td>\n",
       "      <td>2.0</td>\n",
       "    </tr>\n",
       "    <tr>\n",
       "      <th>MediumLow</th>\n",
       "      <td>NaN</td>\n",
       "      <td>NaN</td>\n",
       "      <td>14.0</td>\n",
       "      <td>6.0</td>\n",
       "    </tr>\n",
       "    <tr>\n",
       "      <th>MediumAvg</th>\n",
       "      <td>NaN</td>\n",
       "      <td>NaN</td>\n",
       "      <td>NaN</td>\n",
       "      <td>8.0</td>\n",
       "    </tr>\n",
       "  </tbody>\n",
       "</table>\n",
       "</div>"
      ],
      "text/plain": [
       "               bin2     bin3     bin4     bin5\n",
       "High           18.0     11.0      1.0      1.0\n",
       "Low         96025.0  96025.0  96026.0  96026.0\n",
       "Medium          NaN      7.0      NaN      NaN\n",
       "MediumHigh      NaN      NaN      2.0      2.0\n",
       "MediumLow       NaN      NaN     14.0      6.0\n",
       "MediumAvg       NaN      NaN      NaN      8.0"
      ]
     },
     "execution_count": 6,
     "metadata": {},
     "output_type": "execute_result"
    }
   ],
   "source": [
    "df_bin_counts = pd.DataFrame({'bin2':bigframe.groupby(['bin2'])[\"bin2\"].count(),\n",
    "                              'bin3':bigframe.groupby(['bin3'])[\"bin3\"].count(),\n",
    "                              'bin4':bigframe.groupby(['bin4'])[\"bin4\"].count(),\n",
    "                              'bin5':bigframe.groupby(['bin5'])['bin5'].count()})\n",
    "df_bin_counts\n"
   ]
  },
  {
   "cell_type": "code",
   "execution_count": null,
   "metadata": {
    "collapsed": false,
    "deletable": true,
    "editable": true
   },
   "outputs": [],
   "source": []
  },
  {
   "cell_type": "code",
   "execution_count": 8,
   "metadata": {
    "collapsed": false,
    "deletable": true,
    "editable": true
   },
   "outputs": [],
   "source": [
    "# Setup data\n",
    "ytrue2=bigframe[\"bin2\"].as_matrix()\n",
    "ytrue3=bigframe[\"bin3\"].as_matrix()\n",
    "ytrue4=bigframe[\"bin4\"].as_matrix()\n",
    "ytrue5=bigframe[\"bin5\"].as_matrix()\n",
    "y=bigframe.iloc[:,1].as_matrix()\n",
    "X=bigframe.iloc[:,6:].as_matrix()\n",
    "\n",
    "# Set up constant objects\n",
    "purity_df=pd.DataFrame({'ytrue2':ytrue2,\n",
    "                        'ytrue3':ytrue3,\n",
    "                        'ytrue4':ytrue4,\n",
    "                        'ytrue5':ytrue5})\n",
    "\n",
    "pca = PCA()\n",
    "scaler=StandardScaler()\n",
    "\n",
    "# Initiate scaling\n",
    "X=scaler.fit_transform(X)\n",
    "print(\"Finished scaling\")"
   ]
  },
  {
   "cell_type": "code",
   "execution_count": 9,
   "metadata": {
    "collapsed": false,
    "deletable": true,
    "editable": true
   },
   "outputs": [
    {
     "name": "stdout",
     "output_type": "stream",
     "text": [
      "('Number of clusters', 2)\n",
      "Finished KMeans\n",
      "Finished DBScan\n",
      "('Number of clusters', 3)\n",
      "Finished KMeans\n",
      "Finished DBScan\n",
      "('Number of clusters', 4)\n",
      "Finished KMeans\n",
      "Finished DBScan\n",
      "('Number of clusters', 5)\n",
      "Finished KMeans\n",
      "Finished DBScan\n"
     ]
    }
   ],
   "source": [
    "\n",
    "for k in [2,3,4,5]:\n",
    "\n",
    "    print(\"Number of clusters\", k)\n",
    "    \n",
    "    # Compute KMeans\n",
    "    kmeans=KMeans(n_clusters=k)\n",
    "\n",
    "    # Initiate clustering\n",
    "    kmeans_output = kmeans.fit(X)\n",
    "    kmeans_output.labels_\n",
    "    print(\"Finished KMeans\")\n",
    "\n",
    "    # Publish information to our purity score\n",
    "    purity_df['KMeans_clusters_'+str(k)]=kmeans_output.labels_\n",
    "\n"
   ]
  },
  {
   "cell_type": "code",
   "execution_count": 25,
   "metadata": {
    "collapsed": false
   },
   "outputs": [
    {
     "data": {
      "text/html": [
       "<div>\n",
       "<style scoped>\n",
       "    .dataframe tbody tr th:only-of-type {\n",
       "        vertical-align: middle;\n",
       "    }\n",
       "\n",
       "    .dataframe tbody tr th {\n",
       "        vertical-align: top;\n",
       "    }\n",
       "\n",
       "    .dataframe thead th {\n",
       "        text-align: right;\n",
       "    }\n",
       "</style>\n",
       "<table border=\"1\" class=\"dataframe\">\n",
       "  <thead>\n",
       "    <tr style=\"text-align: right;\">\n",
       "      <th></th>\n",
       "      <th>k</th>\n",
       "      <th>metric</th>\n",
       "      <th>score</th>\n",
       "    </tr>\n",
       "  </thead>\n",
       "  <tbody>\n",
       "    <tr>\n",
       "      <th>0</th>\n",
       "      <td>KMeans_clusters_2</td>\n",
       "      <td>completeness_score</td>\n",
       "      <td>0.356351</td>\n",
       "    </tr>\n",
       "    <tr>\n",
       "      <th>1</th>\n",
       "      <td>KMeans_clusters_3</td>\n",
       "      <td>completeness_score</td>\n",
       "      <td>0.002149</td>\n",
       "    </tr>\n",
       "    <tr>\n",
       "      <th>2</th>\n",
       "      <td>KMeans_clusters_4</td>\n",
       "      <td>completeness_score</td>\n",
       "      <td>0.002042</td>\n",
       "    </tr>\n",
       "    <tr>\n",
       "      <th>3</th>\n",
       "      <td>KMeans_clusters_5</td>\n",
       "      <td>completeness_score</td>\n",
       "      <td>0.001332</td>\n",
       "    </tr>\n",
       "    <tr>\n",
       "      <th>4</th>\n",
       "      <td>KMeans_clusters_2</td>\n",
       "      <td>homogeneity_score</td>\n",
       "      <td>0.821489</td>\n",
       "    </tr>\n",
       "  </tbody>\n",
       "</table>\n",
       "</div>"
      ],
      "text/plain": [
       "                   k              metric     score\n",
       "0  KMeans_clusters_2  completeness_score  0.356351\n",
       "1  KMeans_clusters_3  completeness_score  0.002149\n",
       "2  KMeans_clusters_4  completeness_score  0.002042\n",
       "3  KMeans_clusters_5  completeness_score  0.001332\n",
       "4  KMeans_clusters_2   homogeneity_score  0.821489"
      ]
     },
     "execution_count": 25,
     "metadata": {},
     "output_type": "execute_result"
    }
   ],
   "source": [
    "purity_df.head()\n",
    "df_score_melted.head()"
   ]
  },
  {
   "cell_type": "code",
   "execution_count": 50,
   "metadata": {
    "collapsed": false,
    "deletable": true,
    "editable": true
   },
   "outputs": [
    {
     "name": "stdout",
     "output_type": "stream",
     "text": [
      "Homogeneity: 0.821\n",
      "Completeness: 0.356\n",
      "V-measure: 0.497\n",
      "Homogeneity: 0.768\n",
      "Completeness: 0.002\n",
      "V-measure: 0.004\n",
      "Homogeneity: 0.775\n",
      "Completeness: 0.002\n",
      "V-measure: 0.004\n",
      "Homogeneity: 0.737\n",
      "Completeness: 0.001\n",
      "V-measure: 0.003\n"
     ]
    },
    {
     "data": {
      "image/png": "[encoded data removed]",
      "text/plain": [
       "<Figure size 792x576 with 3 Axes>"
      ]
     },
     "metadata": {},
     "output_type": "display_data"
    },
    {
     "data": {
      "text/plain": [
       "<ggplot: (295125029)>"
      ]
     },
     "execution_count": 50,
     "metadata": {},
     "output_type": "execute_result"
    }
   ],
   "source": [
    "homo=[]\n",
    "comp=[]\n",
    "vsco=[]\n",
    "kval=[]\n",
    "for i in range(4):\n",
    "    truth=purity_df[purity_df.columns[i]]\n",
    "    pred=purity_df[purity_df.columns[i+4]]\n",
    "    homo_score = homogeneity_score(truth, pred)\n",
    "    comp_score = completeness_score(truth, pred)\n",
    "    v_score = v_measure_score(truth,pred)\n",
    "    print(\"Homogeneity: %0.3f\" % homo_score)\n",
    "    print(\"Completeness: %0.3f\" % comp_score)\n",
    "    print(\"V-measure: %0.3f\" % v_score)\n",
    "    kval.append(purity_df.columns[i+4])\n",
    "    vsco.append(v_score)\n",
    "    comp.append(comp_score)\n",
    "    homo.append(homo_score)\n",
    "\n",
    "    \n",
    "df_scores = pd.DataFrame({'homogeneity_score':homo,\n",
    "                          'completeness_score':comp,\n",
    "                          'v_measure_score':vsco,\n",
    "                          'k':kval})\n",
    "df_score = df_scores[[\"k\",\"completeness_score\",\"homogeneity_score\",\"v_measure_score\"]]\n",
    "df_score.head()\n",
    "df_score_melted = pd.melt(df_score, id_vars=['k'],\n",
    "                          var_name='metric', value_name='score')\n",
    "\n",
    "df_score_melted.k=df_score_melted.k.replace(\"KMeans_clusters_2\", \"2\").replace(\"KMeans_clusters_3\",\"3\").replace(\"KMeans_clusters_4\", \"4\").replace(\"KMeans_clusters_5\",\"5\")\n",
    "p = ggplot(aes(x=\"k\",y=\"score\"),data=df_score_melted) + geom_line() +\\\n",
    "      facet_wrap('metric') +\\\n",
    "        ggtitle(\"k vs. score\") + xlab(\"clusters\")\n",
    "        \n",
    "p"
   ]
  },
  {
   "cell_type": "code",
   "execution_count": null,
   "metadata": {
    "collapsed": false,
    "deletable": true,
    "editable": true
   },
   "outputs": [
    {
     "name": "stdout",
     "output_type": "stream",
     "text": [
      "('Number of nieghbors:', 2)\n"
     ]
    }
   ],
   "source": []
  },
  {
   "cell_type": "code",
   "execution_count": 162,
   "metadata": {
    "collapsed": false,
    "deletable": true,
    "editable": true
   },
   "outputs": [
    {
     "data": {
      "text/html": [
       "<div>\n",
       "<style scoped>\n",
       "    .dataframe tbody tr th:only-of-type {\n",
       "        vertical-align: middle;\n",
       "    }\n",
       "\n",
       "    .dataframe tbody tr th {\n",
       "        vertical-align: top;\n",
       "    }\n",
       "\n",
       "    .dataframe thead th {\n",
       "        text-align: right;\n",
       "    }\n",
       "</style>\n",
       "<table border=\"1\" class=\"dataframe\">\n",
       "  <thead>\n",
       "    <tr style=\"text-align: right;\">\n",
       "      <th></th>\n",
       "      <th>PC_0</th>\n",
       "      <th>PC_1</th>\n",
       "      <th>PC_2</th>\n",
       "      <th>IC50</th>\n",
       "      <th>cluster</th>\n",
       "      <th>assignment</th>\n",
       "    </tr>\n",
       "  </thead>\n",
       "  <tbody>\n",
       "    <tr>\n",
       "      <th>384167</th>\n",
       "      <td>-0.523624</td>\n",
       "      <td>-5.007288</td>\n",
       "      <td>4.899237</td>\n",
       "      <td>NaN</td>\n",
       "      <td>clusters_5</td>\n",
       "      <td>0</td>\n",
       "    </tr>\n",
       "    <tr>\n",
       "      <th>384168</th>\n",
       "      <td>-0.307706</td>\n",
       "      <td>0.804033</td>\n",
       "      <td>-10.889557</td>\n",
       "      <td>NaN</td>\n",
       "      <td>clusters_5</td>\n",
       "      <td>2</td>\n",
       "    </tr>\n",
       "    <tr>\n",
       "      <th>384169</th>\n",
       "      <td>-0.195950</td>\n",
       "      <td>6.070097</td>\n",
       "      <td>-14.435422</td>\n",
       "      <td>NaN</td>\n",
       "      <td>clusters_5</td>\n",
       "      <td>2</td>\n",
       "    </tr>\n",
       "    <tr>\n",
       "      <th>384170</th>\n",
       "      <td>-0.451826</td>\n",
       "      <td>-3.608918</td>\n",
       "      <td>-10.954710</td>\n",
       "      <td>NaN</td>\n",
       "      <td>clusters_5</td>\n",
       "      <td>2</td>\n",
       "    </tr>\n",
       "    <tr>\n",
       "      <th>384171</th>\n",
       "      <td>-0.363442</td>\n",
       "      <td>4.003456</td>\n",
       "      <td>-2.998079</td>\n",
       "      <td>NaN</td>\n",
       "      <td>clusters_5</td>\n",
       "      <td>2</td>\n",
       "    </tr>\n",
       "  </tbody>\n",
       "</table>\n",
       "</div>"
      ],
      "text/plain": [
       "            PC_0      PC_1       PC_2  IC50     cluster  assignment\n",
       "384167 -0.523624 -5.007288   4.899237   NaN  clusters_5           0\n",
       "384168 -0.307706  0.804033 -10.889557   NaN  clusters_5           2\n",
       "384169 -0.195950  6.070097 -14.435422   NaN  clusters_5           2\n",
       "384170 -0.451826 -3.608918 -10.954710   NaN  clusters_5           2\n",
       "384171 -0.363442  4.003456  -2.998079   NaN  clusters_5           2"
      ]
     },
     "execution_count": 162,
     "metadata": {},
     "output_type": "execute_result"
    }
   ],
   "source": [
    "#pca_df_dropped.drop('cluster', axis=1, inplace=True)\n",
    "\n",
    "pca_df_dropped['clusters_2'] = purity_df.clusters_2\n",
    "pca_df_dropped['clusters_3'] = purity_df.clusters_3\n",
    "pca_df_dropped['clusters_4'] = purity_df.clusters_4\n",
    "pca_df_dropped['clusters_5'] = purity_df.clusters_5\n",
    "pca_df_dropped_melt=pd.melt(pca_df_dropped, id_vars=[\"PC_0\",\"PC_1\",\"PC_2\",\"IC50\"],\n",
    "                           var_name=\"cluster\", value_name=\"assignment\")\n",
    "pca_df_dropped_melt.tail()"
   ]
  },
  {
   "cell_type": "code",
   "execution_count": 163,
   "metadata": {
    "collapsed": false,
    "deletable": true,
    "editable": true
   },
   "outputs": [
    {
     "data": {
      "text/plain": [
       "6845    250.0\n",
       "6846    250.0\n",
       "6847    250.0\n",
       "6848    250.0\n",
       "6849    250.0\n",
       "Name: IC50, dtype: float64"
      ]
     },
     "execution_count": 163,
     "metadata": {},
     "output_type": "execute_result"
    }
   ],
   "source": [
    "bigframe[\"IC50\"].tail()"
   ]
  },
  {
   "cell_type": "markdown",
   "metadata": {
    "deletable": true,
    "editable": true
   },
   "source": [
    "### Analysis\n",
    "\n",
    "<strong>Homogenueity</strong>: A clustering result satisfies homogeneity if all of its clusters contain only data points which are members of a single class.\n",
    "\n",
    "Clusters that include samples from different classes do not make for an homogeneous labeling:\n",
    "<code>\n",
    "print(completeness_score([0, 0, 1, 1], [0, 1, 0, 1]))\n",
    "0.0\n",
    "print(completeness_score([0, 0, 0, 0], [0, 1, 2, 3]))\n",
    "0.0\n",
    "</code>\n",
    "\n",
    "<strong>Completeness</strong>: A clustering result satisfies completeness if all the data points that are members of a given class are elements of the same cluster.\n",
    "\n",
    "If classes members are split across different clusters, the assignment cannot be complete:\n",
    "<code>\n",
    "print(completeness_score([0, 0, 1, 1], [0, 1, 0, 1]))\n",
    "0.0\n",
    "print(completeness_score([0, 0, 0, 0], [0, 1, 2, 3]))\n",
    "0.0\n",
    "</code>\n",
    "\n",
    "From the <code>homogenueity_score, completeness_score, and v_measure_score</code>, we can conclude that<code> k=2 </code>provides our best cut in the data set to decide whether an object was potent or not. This will be the distinguishing factor between attribuets that are and aren't important; those on either side positively or negatively influence the attribute importance."
   ]
  },
  {
   "cell_type": "code",
   "execution_count": null,
   "metadata": {
    "collapsed": false,
    "deletable": true,
    "editable": true
   },
   "outputs": [],
   "source": []
  },
  {
   "cell_type": "code",
   "execution_count": null,
   "metadata": {
    "collapsed": true,
    "deletable": true,
    "editable": true
   },
   "outputs": [],
   "source": []
  },
  {
   "cell_type": "code",
   "execution_count": null,
   "metadata": {
    "collapsed": true,
    "deletable": true,
    "editable": true
   },
   "outputs": [],
   "source": []
  },
  {
   "cell_type": "code",
   "execution_count": null,
   "metadata": {
    "collapsed": true,
    "deletable": true,
    "editable": true
   },
   "outputs": [],
   "source": []
  },
  {
   "cell_type": "code",
   "execution_count": null,
   "metadata": {
    "collapsed": true,
    "deletable": true,
    "editable": true
   },
   "outputs": [],
   "source": []
  }
 ],
 "metadata": {
  "kernelspec": {
   "display_name": "Python 2",
   "language": "python",
   "name": "python2"
  },
  "language_info": {
   "codemirror_mode": {
    "name": "ipython",
    "version": 2
   },
   "file_extension": ".py",
   "mimetype": "text/x-python",
   "name": "python",
   "nbconvert_exporter": "python",
   "pygments_lexer": "ipython2",
   "version": "2.7.10"
  }
 },
 "nbformat": 4,
 "nbformat_minor": 2
}
