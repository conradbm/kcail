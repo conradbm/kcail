{
 "cells": [
  {
   "cell_type": "markdown",
   "metadata": {
    "collapsed": true,
    "deletable": true,
    "editable": true
   },
   "source": [
    "## Final Feature Selection Analysis Notebook\n",
    "\n",
    "## Recap\n",
    "Fom initial guidance provided by Dr. Wo Ng, a clear division exists between what is potent and what is not. This naturally deems itself into the realm of classification. The idea of regression is possible, but knowing with some sophisticated techniques, we can leverage the fact that this is equally a classification problem, but introduce flavors of regression in our feature analysis.\n",
    "\n",
    "## Justify Classification\n",
    "From previous notebooks we determined when we let our binning go from <code>K={2,3,4,5}</code> that our highest v_measure_score was when <code>K=2</code>. The cutoff for K=2 in IC50 was strictly at > 40 being a 0 to represent non-potent; else 1 is potent. This is justified in the following figure:\n",
    "\n",
    "<center><img src=\"../../images/k_2.png\"></center>\n",
    "\n",
    "## Explain Different Styles of Mixed Selection\n",
    "We have also determined that there may subsist a relationship in the IC50 that is uncaptured, I.e., 1/x. This is illustrated in the following two images:\n",
    "\n",
    "<center><img src=\"../../images/opt_prop.png\" height=550 width=550></center>\n",
    "<center><img src=\"../../images/opt_prop_1x.png\" height=550 width=550></center>\n",
    "\n",
    "We noted that regression analysis produced an f-statistic much larger than 1; <code>2.175e+05</code>. This includes our standard mixed selection as a relevent feature space.\n",
    "\n",
    "## Feature-Spaces\n",
    "Hence, we will define our subset of features from following selection procedures:\n",
    "\n",
    "1. Mixed selection\n",
    "2. Mixed selection (1/x)\n",
    "3. Lasso coeficients > 0\n",
    "4. Random Forest Feature Importance > 0\n",
    "5. TOPSIS Top K Rankings (K=max {(3) and (4)} in length)\n",
    "\n",
    "After running our basic model, not considering each of the smaller sub-spaces listed above, we see the following confidence intervals under a t-distribution:\n",
    "\n",
    "<center><img src=\"../../images/full_space_roc_ci.png\"height=500 width=350></center>\n",
    "\n",
    "\n",
    "## Models of Consideration\n",
    "For the following analysis, we will consider the ROC scoring metric for the following models that historically have performed well on binary classifications tasks as this:\n",
    "\n",
    "1. LDA\n",
    "2. Random Forest\n",
    "3. SVM\n",
    "4. Logistic reg.\n",
    "5. Naive Bayes\n",
    "6. K-NN\n",
    "\n",
    "For each of the models, we will acquire a ROC score for each of the six feature selections, and select the top performer for each model. Following, we will perform repeated cross validation 30 times to obtain 30 mean ROC scores, and produce a confidence interval models mean ROC score using a z-test under a normal distribution due to central limit theorem.\n",
    "\n",
    "This will provide a populated table below.\n",
    "\n",
    "## ROC Table\n",
    "\n",
    "\n",
    "<center><img src=\"../../images/roc_table3.png\"></center>\n",
    "\n",
    "\n",
    "\n",
    "## ROC Table Analysis\n",
    "After analyzing the <em>ROC Table</em>, we can see the different models in each row and the various criteria that were ran in them accross the columns. We see a relatively poor performance for individual ROC_AUC scores on each model when only given 1 chance on the test set. However, after 3-fold cross validation repeated 10 times, we were able to construct confidence intervals under a t-distribution which show where we would expect the true ROC_AUC value to land on another test data set. This was then rivaled with the smaller feature spaces defined above. These were unverified feature sets provided to us by each algorithm. After further examination, we looked at each model on each subspace provided, then respectively acquired the highest ranking ROC scores' feature space and made that the candidate for the rivalry between our full-space and sub-space. The same process was executed on the sub-space with 3-fold cross validation repeated 10 times. The result provided a confidence interval under a t-distribution. We then used standard hypothesis test to justify if our feature space selection was worthwhile. The structure of a single tailed t-test is if the subspace is greater than or equal to the fullspace in ROC_AUC else it is less than. So in essence, if we see a small p-value form our t-test, we can safely say that no evidence exists to believe our full space was better than our subspace. As the rightmost column in the <em>ROC Table</em> illustrates, we see there were 4 models that did perform better in the smaller space than the fullspace, with the corresponding featurespace and size.\n",
    "\n",
    "Another interesting note is that though there did not exist a statistical difference in the average AUC being better in the subspace, the confidence intervals under the t-distribution tended to get tighter and higher as we restricted our subspace. This leads up to believe that there was something inside the subspace that did make it more predictive on average in our testing. \n",
    "\n"
   ]
  },
  {
   "cell_type": "markdown",
   "metadata": {
    "deletable": true,
    "editable": true
   },
   "source": [
    "## Libraries | Data Feed"
   ]
  },
  {
   "cell_type": "code",
   "execution_count": 1,
   "metadata": {
    "collapsed": false,
    "deletable": true,
    "editable": true
   },
   "outputs": [
    {
     "name": "stderr",
     "output_type": "stream",
     "text": [
      "/Library/Python/2.7/site-packages/statsmodels/compat/pandas.py:56: FutureWarning: The pandas.core.datetools module is deprecated and will be removed in a future version. Please use the pandas.tseries module instead.\n",
      "  from pandas.core import datetools\n",
      "/Library/Python/2.7/site-packages/IPython/core/interactiveshell.py:2717: DtypeWarning: Columns (69,123,664,1142,1143,1146,1147,1184,1185,1186,1225,1226,1227,1228,1229,1230,1249,1412) have mixed types. Specify dtype option on import or set low_memory=False.\n",
      "  interactivity=interactivity, compiler=compiler, result=result)\n"
     ]
    },
    {
     "data": {
      "text/plain": [
       "'\\n\\nWhen null hypothesis is Ho: P1>=P2 and alternative hypothesis is Ha: P1<P2. \\nIn order to test it in Python, you write ttest_ind(P2,P1). \\n(Notice the position is P2 first).\\n\\nIn Python, when statstic <0 your real p-value is actually \\nreal_pvalue = 1-output_pvalue/2= 1-5.0999336686332285e-75/2,\\nwhich is approximately 0.99. As your p-value is larger than 0.05, \\nyou cannot reject the null hypothesis that 6>=3. when statstic >0, \\nthe real z score is actually equal to -statstic, the real p-value is equal to pvalue/2.\\n\\nfirst = np.random.normal(3,2,400)\\nsecond = np.random.normal(6,2,400)\\nstats.ttest_ind(first, second, axis=0, equal_var=True)\\n\\n'"
      ]
     },
     "execution_count": 1,
     "metadata": {},
     "output_type": "execute_result"
    }
   ],
   "source": [
    "# Core\n",
    "import numpy as np\n",
    "import pandas as pd\n",
    "import os\n",
    "import subprocess\n",
    "from __future__ import division\n",
    "import pickle\n",
    "\n",
    "def install_package(name):\n",
    "    sudoPassword = ''\n",
    "    command = 'pip install ' + name\n",
    "    p = os.system('echo %s|sudo -S %s' % (sudoPassword, command))\n",
    "\n",
    "# Stats\n",
    "from statsmodels.regression import linear_model\n",
    "import statsmodels.api as sm\n",
    "import scipy.stats as stats\n",
    "\n",
    "\n",
    "# ML\n",
    "from sklearn.linear_model import LinearRegression\n",
    "from sklearn.linear_model import LogisticRegression\n",
    "from sklearn.discriminant_analysis import LinearDiscriminantAnalysis\n",
    "from sklearn.linear_model import Lasso\n",
    "from sklearn.naive_bayes import GaussianNB\n",
    "from sklearn.svm import SVC\n",
    "from sklearn.ensemble import RandomForestRegressor\n",
    "from sklearn.ensemble import RandomForestClassifier\n",
    "from sklearn.ensemble import AdaBoostRegressor\n",
    "from sklearn.ensemble import AdaBoostClassifier\n",
    "\n",
    "from sklearn.preprocessing import StandardScaler\n",
    "from sklearn.decomposition import PCA\n",
    "from sklearn.cluster import KMeans\n",
    "from sklearn.pipeline import Pipeline\n",
    "from sklearn.metrics import confusion_matrix\n",
    "from sklearn.metrics import roc_auc_score\n",
    "from sklearn.neighbors import KNeighborsClassifier\n",
    "\n",
    "from sklearn.model_selection import GridSearchCV\n",
    "from sklearn.model_selection import cross_validate\n",
    "from sklearn.model_selection import RepeatedStratifiedKFold\n",
    "from sklearn.model_selection import StratifiedKFold\n",
    "from sklearn.model_selection import cross_val_predict\n",
    "from sklearn.model_selection import cross_val_score\n",
    "from sklearn.model_selection import train_test_split\n",
    "\n",
    "from sklearn.utils import shuffle\n",
    "\n",
    "# OR\n",
    "from skcriteria import Data, MIN, MAX\n",
    "from skcriteria.madm import closeness, simple\n",
    "\n",
    "# Plotting\n",
    "import matplotlib.pyplot as plt\n",
    "import seaborn as sns\n",
    "from ggplot import *\n",
    "\n",
    "import matplotlib\n",
    "font = {'family' : 'normal',\n",
    "  'weight' : 'bold',\n",
    "  'size' : 16}\n",
    "matplotlib.rc('font', **font)\n",
    "\n",
    "\n",
    "# Data Feed\n",
    "# Read in main data\n",
    "main_df = pd.read_csv(\"../../data/Series3_6.15.17_padel.csv\")\n",
    "\n",
    "# Read in placebos data\n",
    "#placebo_1 = pd.read_csv(\"../../data/Akt1_decoys_padel.csv\")\n",
    "#placebo_2 = pd.read_csv(\"../../data/AmpC_decoys_padel.csv\")\n",
    "#placebo_3 = pd.read_csv(\"../../data/cp3a4_decoys_padel.csv\")\n",
    "#placebo_4 = pd.read_csv(\"../../data/cxcr4_decoys_padel.csv\")\n",
    "#placebo_5 = pd.read_csv(\"../../data/HIVpr_decoys_padel.csv\")\n",
    "#placebo_6 = pd.read_csv(\"../../data/HIVrt_decoys_padel.csv\")\n",
    "#placebo_7 = pd.read_csv(\"../../data/Kif11_decoys_padel.csv\")\n",
    "placebo_8 = pd.read_csv(\"../../data/Selleck_filtered_padel_corrected.csv\")\n",
    "#placebo_1.insert(1, \"IC50\", pd.Series(np.array([250 for i in range(placebo_1.shape[0])], dtype=\"float64\"))) \n",
    "#placebo_2.insert(1, \"IC50\", pd.Series(np.array([250 for i in range(placebo_2.shape[0])], dtype=\"float64\"))) \n",
    "#placebo_3.insert(1, \"IC50\", pd.Series(np.array([250 for i in range(placebo_3.shape[0])], dtype=\"float64\"))) \n",
    "#placebo_4.insert(1, \"IC50\", pd.Series(np.array([250 for i in range(placebo_4.shape[0])], dtype=\"float64\"))) \n",
    "#placebo_5.insert(1, \"IC50\", pd.Series(np.array([250 for i in range(placebo_5.shape[0])], dtype=\"float64\"))) \n",
    "#placebo_6.insert(1, \"IC50\", pd.Series(np.array([250 for i in range(placebo_6.shape[0])], dtype=\"float64\"))) \n",
    "#placebo_7.insert(1, \"IC50\", pd.Series(np.array([250 for i in range(placebo_7.shape[0])], dtype=\"float64\"))) \n",
    "placebo_8.insert(1, \"IC50\", pd.Series(np.array([250 for i in range(placebo_8.shape[0])], dtype=\"float64\"))) \n",
    "\n",
    "# Gather our dataframes for collective manipulation\n",
    "frames = [main_df,   placebo_8]\n",
    "len(frames)\n",
    "\n",
    "\n",
    "\"\"\"\n",
    "\n",
    "When null hypothesis is Ho: P1>=P2 and alternative hypothesis is Ha: P1<P2. \n",
    "In order to test it in Python, you write ttest_ind(P2,P1). \n",
    "(Notice the position is P2 first).\n",
    "\n",
    "In Python, when statstic <0 your real p-value is actually \n",
    "real_pvalue = 1-output_pvalue/2= 1-5.0999336686332285e-75/2,\n",
    "which is approximately 0.99. As your p-value is larger than 0.05, \n",
    "you cannot reject the null hypothesis that 6>=3. when statstic >0, \n",
    "the real z score is actually equal to -statstic, the real p-value is equal to pvalue/2.\n",
    "\n",
    "first = np.random.normal(3,2,400)\n",
    "second = np.random.normal(6,2,400)\n",
    "stats.ttest_ind(first, second, axis=0, equal_var=True)\n",
    "\n",
    "\"\"\"\n"
   ]
  },
  {
   "cell_type": "markdown",
   "metadata": {
    "deletable": true,
    "editable": true
   },
   "source": [
    "## Initial cleaning | Remove NAs | Binning"
   ]
  },
  {
   "cell_type": "code",
   "execution_count": 33,
   "metadata": {
    "collapsed": false,
    "deletable": true,
    "editable": true
   },
   "outputs": [
    {
     "data": {
      "text/plain": [
       "'\\n# Clean NA responses\\nrow_mask=frames[0].isnull().any(axis=1) == False\\nframes[0] = frames[0].loc[row_mask,:]\\n\\n# Clean NAs\\nfor f in frames[1:]:\\n    f=f.fillna(0)\\n    print(f.shape)\\n\\n# Combine dfs\\nbigframe = pd.concat(frames)\\nbigframe = bigframe[frames[0].columns]\\n\\nbigframe=bigframe.replace([np.inf, -np.inf, np.nan], 0)\\nbigframe=bigframe.apply(lambda col: col.replace(\"#NAME?\", 0) , axis=0)\\nbigframe=bigframe.apply(lambda col: col.fillna(0))\\n\\n# Confirm no NAs\\nprint(any(bigframe.isnull().any())) \\n\\ndef categorize2(row):\\n    returnBin=1\\n    if row > 40.0:\\n        returnBin=0\\n    return returnBin\\n\\nbigframe.insert(2, \\'bin2\\', bigframe[\"IC50\"].transform(categorize2).astype(\\'category\\') )\\n\\n\\n'"
      ]
     },
     "execution_count": 33,
     "metadata": {},
     "output_type": "execute_result"
    }
   ],
   "source": [
    "\"\"\"\n",
    "# Clean NA responses\n",
    "row_mask=frames[0].isnull().any(axis=1) == False\n",
    "frames[0] = frames[0].loc[row_mask,:]\n",
    "\n",
    "# Clean NAs\n",
    "for f in frames[1:]:\n",
    "    f=f.fillna(0)\n",
    "    print(f.shape)\n",
    "\n",
    "# Combine dfs\n",
    "bigframe = pd.concat(frames)\n",
    "bigframe = bigframe[frames[0].columns]\n",
    "\n",
    "bigframe=bigframe.replace([np.inf, -np.inf, np.nan], 0)\n",
    "bigframe=bigframe.apply(lambda col: col.replace(\"#NAME?\", 0) , axis=0)\n",
    "bigframe=bigframe.apply(lambda col: col.fillna(0))\n",
    "\n",
    "# Confirm no NAs\n",
    "print(any(bigframe.isnull().any())) \n",
    "\n",
    "def categorize2(row):\n",
    "    returnBin=1\n",
    "    if row > 40.0:\n",
    "        returnBin=0\n",
    "    return returnBin\n",
    "\n",
    "bigframe.insert(2, 'bin2', bigframe[\"IC50\"].transform(categorize2).astype('category') )\n",
    "\n",
    "\n",
    "\"\"\""
   ]
  },
  {
   "cell_type": "markdown",
   "metadata": {
    "deletable": true,
    "editable": true
   },
   "source": [
    "# Define feature spaces"
   ]
  },
  {
   "cell_type": "code",
   "execution_count": 34,
   "metadata": {
    "collapsed": true,
    "deletable": true,
    "editable": true
   },
   "outputs": [],
   "source": [
    "# Feature Space Containers\n",
    "mixed_selection_features         = []\n",
    "mixed_selection_1x_features      = []\n",
    "lasso_features                   = []\n",
    "rf_features                      = []\n",
    "topsis_features                  = []\n",
    "\n",
    "mixed_selection_features_size    = 0\n",
    "mixed_selection_1x_features_size = 0\n",
    "lasso_features_size              = 0\n",
    "rf_features_size                 = 0\n",
    "topsis_features_size             = 0\n"
   ]
  },
  {
   "cell_type": "markdown",
   "metadata": {
    "deletable": true,
    "editable": true
   },
   "source": [
    "## Define Inputs"
   ]
  },
  {
   "cell_type": "code",
   "execution_count": 13,
   "metadata": {
    "collapsed": false,
    "deletable": true,
    "editable": true
   },
   "outputs": [
    {
     "name": "stdout",
     "output_type": "stream",
     "text": [
      "Data ready to model.\n"
     ]
    }
   ],
   "source": [
    "#pickle.dump(bigframe, open('bigframe.pickle','w'))\n",
    "bigframe = pickle.load(open('../pickled/bigframe.pickle', 'rw'))\n",
    "bigframe\n",
    "\n",
    "bigframe = shuffle(bigframe, random_state=0)\n",
    "bigframe_train, bigframe_test = train_test_split(bigframe.iloc[:,1:], train_size=0.5)\n",
    "\n",
    "ytrain = bigframe_train[\"bin2\"].as_matrix()\n",
    "Xtrain = StandardScaler().fit_transform(bigframe_train.iloc[:,2:].as_matrix())\n",
    "\n",
    "ytest = bigframe_test[\"bin2\"].as_matrix()\n",
    "Xtest = StandardScaler().fit_transform(bigframe_test.iloc[:,2:].as_matrix())\n",
    "print(\"Data ready to model.\")"
   ]
  },
  {
   "cell_type": "code",
   "execution_count": 14,
   "metadata": {
    "collapsed": false,
    "deletable": true,
    "editable": true
   },
   "outputs": [
    {
     "data": {
      "text/html": [
       "<div>\n",
       "<style scoped>\n",
       "    .dataframe tbody tr th:only-of-type {\n",
       "        vertical-align: middle;\n",
       "    }\n",
       "\n",
       "    .dataframe tbody tr th {\n",
       "        vertical-align: top;\n",
       "    }\n",
       "\n",
       "    .dataframe thead th {\n",
       "        text-align: right;\n",
       "    }\n",
       "</style>\n",
       "<table border=\"1\" class=\"dataframe\">\n",
       "  <thead>\n",
       "    <tr style=\"text-align: right;\">\n",
       "      <th></th>\n",
       "      <th>nAcid</th>\n",
       "      <th>ALogP</th>\n",
       "      <th>ALogp2</th>\n",
       "      <th>AMR</th>\n",
       "      <th>apol</th>\n",
       "      <th>naAromAtom</th>\n",
       "      <th>nAromBond</th>\n",
       "      <th>nAtom</th>\n",
       "      <th>nHeavyAtom</th>\n",
       "      <th>nH</th>\n",
       "      <th>...</th>\n",
       "      <th>AMW</th>\n",
       "      <th>WTPT-1</th>\n",
       "      <th>WTPT-2</th>\n",
       "      <th>WTPT-3</th>\n",
       "      <th>WTPT-4</th>\n",
       "      <th>WTPT-5</th>\n",
       "      <th>WPATH</th>\n",
       "      <th>WPOL</th>\n",
       "      <th>XLogP</th>\n",
       "      <th>Zagreb</th>\n",
       "    </tr>\n",
       "  </thead>\n",
       "  <tbody>\n",
       "    <tr>\n",
       "      <th>8173</th>\n",
       "      <td>0</td>\n",
       "      <td>0.4171</td>\n",
       "      <td>0.173972</td>\n",
       "      <td>69.0568</td>\n",
       "      <td>47.167481</td>\n",
       "      <td>5</td>\n",
       "      <td>5</td>\n",
       "      <td>37</td>\n",
       "      <td>20</td>\n",
       "      <td>17</td>\n",
       "      <td>...</td>\n",
       "      <td>10.108098</td>\n",
       "      <td>39.751780</td>\n",
       "      <td>1.987589</td>\n",
       "      <td>19.758222</td>\n",
       "      <td>2.524393</td>\n",
       "      <td>8.574765</td>\n",
       "      <td>810.0</td>\n",
       "      <td>27.0</td>\n",
       "      <td>2.749</td>\n",
       "      <td>100.0</td>\n",
       "    </tr>\n",
       "    <tr>\n",
       "      <th>12334</th>\n",
       "      <td>0</td>\n",
       "      <td>-2.1216</td>\n",
       "      <td>4.501187</td>\n",
       "      <td>38.4396</td>\n",
       "      <td>75.789825</td>\n",
       "      <td>24</td>\n",
       "      <td>26</td>\n",
       "      <td>61</td>\n",
       "      <td>36</td>\n",
       "      <td>25</td>\n",
       "      <td>...</td>\n",
       "      <td>8.199182</td>\n",
       "      <td>75.220352</td>\n",
       "      <td>2.089454</td>\n",
       "      <td>23.804238</td>\n",
       "      <td>13.381212</td>\n",
       "      <td>6.718306</td>\n",
       "      <td>3825.0</td>\n",
       "      <td>69.0</td>\n",
       "      <td>5.047</td>\n",
       "      <td>204.0</td>\n",
       "    </tr>\n",
       "    <tr>\n",
       "      <th>11750</th>\n",
       "      <td>0</td>\n",
       "      <td>-3.8998</td>\n",
       "      <td>15.208440</td>\n",
       "      <td>52.2266</td>\n",
       "      <td>73.926618</td>\n",
       "      <td>18</td>\n",
       "      <td>18</td>\n",
       "      <td>62</td>\n",
       "      <td>36</td>\n",
       "      <td>26</td>\n",
       "      <td>...</td>\n",
       "      <td>7.809472</td>\n",
       "      <td>74.961755</td>\n",
       "      <td>2.082271</td>\n",
       "      <td>23.015748</td>\n",
       "      <td>13.167041</td>\n",
       "      <td>9.848707</td>\n",
       "      <td>3640.0</td>\n",
       "      <td>69.0</td>\n",
       "      <td>3.161</td>\n",
       "      <td>206.0</td>\n",
       "    </tr>\n",
       "    <tr>\n",
       "      <th>6691</th>\n",
       "      <td>0</td>\n",
       "      <td>-0.4469</td>\n",
       "      <td>0.199720</td>\n",
       "      <td>64.1329</td>\n",
       "      <td>55.975790</td>\n",
       "      <td>6</td>\n",
       "      <td>6</td>\n",
       "      <td>51</td>\n",
       "      <td>21</td>\n",
       "      <td>30</td>\n",
       "      <td>...</td>\n",
       "      <td>7.003023</td>\n",
       "      <td>40.918994</td>\n",
       "      <td>1.948524</td>\n",
       "      <td>11.348925</td>\n",
       "      <td>2.446272</td>\n",
       "      <td>6.358663</td>\n",
       "      <td>958.0</td>\n",
       "      <td>27.0</td>\n",
       "      <td>4.185</td>\n",
       "      <td>98.0</td>\n",
       "    </tr>\n",
       "    <tr>\n",
       "      <th>13185</th>\n",
       "      <td>0</td>\n",
       "      <td>-4.1327</td>\n",
       "      <td>17.079209</td>\n",
       "      <td>81.5105</td>\n",
       "      <td>73.506997</td>\n",
       "      <td>12</td>\n",
       "      <td>12</td>\n",
       "      <td>64</td>\n",
       "      <td>35</td>\n",
       "      <td>29</td>\n",
       "      <td>...</td>\n",
       "      <td>7.456466</td>\n",
       "      <td>71.155113</td>\n",
       "      <td>2.033003</td>\n",
       "      <td>25.483874</td>\n",
       "      <td>12.900121</td>\n",
       "      <td>12.583753</td>\n",
       "      <td>3880.0</td>\n",
       "      <td>64.0</td>\n",
       "      <td>4.503</td>\n",
       "      <td>184.0</td>\n",
       "    </tr>\n",
       "  </tbody>\n",
       "</table>\n",
       "<p>5 rows × 1444 columns</p>\n",
       "</div>"
      ],
      "text/plain": [
       "       nAcid   ALogP     ALogp2      AMR       apol  naAromAtom  nAromBond  \\\n",
       "8173       0  0.4171   0.173972  69.0568  47.167481           5          5   \n",
       "12334      0 -2.1216   4.501187  38.4396  75.789825          24         26   \n",
       "11750      0 -3.8998  15.208440  52.2266  73.926618          18         18   \n",
       "6691       0 -0.4469   0.199720  64.1329  55.975790           6          6   \n",
       "13185      0 -4.1327  17.079209  81.5105  73.506997          12         12   \n",
       "\n",
       "       nAtom  nHeavyAtom  nH   ...          AMW     WTPT-1    WTPT-2  \\\n",
       "8173      37          20  17   ...    10.108098  39.751780  1.987589   \n",
       "12334     61          36  25   ...     8.199182  75.220352  2.089454   \n",
       "11750     62          36  26   ...     7.809472  74.961755  2.082271   \n",
       "6691      51          21  30   ...     7.003023  40.918994  1.948524   \n",
       "13185     64          35  29   ...     7.456466  71.155113  2.033003   \n",
       "\n",
       "          WTPT-3     WTPT-4     WTPT-5   WPATH  WPOL  XLogP  Zagreb  \n",
       "8173   19.758222   2.524393   8.574765   810.0  27.0  2.749   100.0  \n",
       "12334  23.804238  13.381212   6.718306  3825.0  69.0  5.047   204.0  \n",
       "11750  23.015748  13.167041   9.848707  3640.0  69.0  3.161   206.0  \n",
       "6691   11.348925   2.446272   6.358663   958.0  27.0  4.185    98.0  \n",
       "13185  25.483874  12.900121  12.583753  3880.0  64.0  4.503   184.0  \n",
       "\n",
       "[5 rows x 1444 columns]"
      ]
     },
     "execution_count": 14,
     "metadata": {},
     "output_type": "execute_result"
    }
   ],
   "source": [
    "bigframe_test.iloc[:,2:].head()"
   ]
  },
  {
   "cell_type": "code",
   "execution_count": 6,
   "metadata": {
    "collapsed": false,
    "deletable": true,
    "editable": true
   },
   "outputs": [
    {
     "data": {
      "text/plain": [
       "1     1\n",
       "26    1\n",
       "12    1\n",
       "28    1\n",
       "69    1\n",
       "8     1\n",
       "56    1\n",
       "20    1\n",
       "5     1\n",
       "17    1\n",
       "Name: bin2, dtype: category\n",
       "Categories (2, int64): [0, 1]"
      ]
     },
     "execution_count": 6,
     "metadata": {},
     "output_type": "execute_result"
    }
   ],
   "source": [
    "bigframe_train.bin2.loc[(bigframe_train.bin2 == 1)]"
   ]
  },
  {
   "cell_type": "code",
   "execution_count": 7,
   "metadata": {
    "collapsed": false,
    "deletable": true,
    "editable": true
   },
   "outputs": [
    {
     "data": {
      "text/plain": [
       "25    1\n",
       "52    1\n",
       "62    1\n",
       "0     1\n",
       "22    1\n",
       "23    1\n",
       "21    1\n",
       "24    1\n",
       "Name: bin2, dtype: category\n",
       "Categories (2, int64): [0, 1]"
      ]
     },
     "execution_count": 7,
     "metadata": {},
     "output_type": "execute_result"
    }
   ],
   "source": [
    "bigframe_test.bin2.loc[(bigframe_test.bin2 == 1)]"
   ]
  },
  {
   "cell_type": "code",
   "execution_count": 3,
   "metadata": {
    "collapsed": false,
    "deletable": true,
    "editable": true
   },
   "outputs": [
    {
     "data": {
      "text/plain": [
       "['BCUTw-1l',\n",
       " 'AATSC0i',\n",
       " 'ATSC8v',\n",
       " 'MATS4s',\n",
       " 'minssNH',\n",
       " 'SHBint4',\n",
       " 'minHBint10',\n",
       " 'ATSC8p',\n",
       " 'VE1_Dzi',\n",
       " 'minHBint4',\n",
       " 'ATSC7s',\n",
       " 'maxHsNH2',\n",
       " 'maxsNH2',\n",
       " 'minHdsCH',\n",
       " 'MATS7s',\n",
       " 'MATS2m',\n",
       " 'VE2_D',\n",
       " 'AATSC1i',\n",
       " 'SIC3',\n",
       " 'minHBint9',\n",
       " 'VR2_Dzv',\n",
       " 'MDEO-22',\n",
       " 'MATS8m',\n",
       " 'VE1_Dt',\n",
       " 'VR2_Dzm',\n",
       " 'GATS3c',\n",
       " 'AATSC5m',\n",
       " 'topoShape',\n",
       " 'minHsNH2',\n",
       " 'SsssCH',\n",
       " 'GATS8c',\n",
       " 'nHBDon_Lipinski',\n",
       " 'JGI7']"
      ]
     },
     "execution_count": 3,
     "metadata": {},
     "output_type": "execute_result"
    }
   ],
   "source": [
    "# (Feature_Space_1) Mixed Selection\n",
    "\n",
    "mixed_selection_features = ['BCUTw-1l',\n",
    "                             'AATSC0i',\n",
    "                             'ATSC8v',\n",
    "                             'MATS4s',\n",
    "                             'minssNH',\n",
    "                             'SHBint4',\n",
    "                             'minHBint10',\n",
    "                             'ATSC8p',\n",
    "                             'VE1_Dzi',\n",
    "                             'minHBint4',\n",
    "                             'ATSC7s',\n",
    "                             'maxHsNH2',\n",
    "                             'maxsNH2',\n",
    "                             'minHdsCH',\n",
    "                             'MATS7s',\n",
    "                             'MATS2m',\n",
    "                             'VE2_D',\n",
    "                             'AATSC1i',\n",
    "                             'SIC3',\n",
    "                             'minHBint9',\n",
    "                             'VR2_Dzv',\n",
    "                             'MDEO-22',\n",
    "                             'MATS8m',\n",
    "                             'VE1_Dt',\n",
    "                             'VR2_Dzm',\n",
    "                             'GATS3c',\n",
    "                             'AATSC5m',\n",
    "                             'topoShape',\n",
    "                             'minHsNH2',\n",
    "                             'SsssCH',\n",
    "                             'GATS8c',\n",
    "                             'nHBDon_Lipinski',\n",
    "                             'JGI7']\n",
    "\n",
    "mixed_selection_features_size = len(mixed_selection_features)\n",
    "\n",
    "pickle.dump(mixed_selection_features, open('../pickled/mixed_selection_features.pickle','w'))\n",
    "mixed_selection_features = pickle.load(open('../pickled/mixed_selection_features.pickle', 'rw'))\n",
    "mixed_selection_features"
   ]
  },
  {
   "cell_type": "code",
   "execution_count": null,
   "metadata": {
    "collapsed": true,
    "deletable": true,
    "editable": true
   },
   "outputs": [],
   "source": []
  },
  {
   "cell_type": "code",
   "execution_count": 4,
   "metadata": {
    "collapsed": false,
    "deletable": true,
    "editable": true
   },
   "outputs": [
    {
     "data": {
      "text/plain": [
       "['MDEN-11',\n",
       " 'AATSC8s',\n",
       " 'ndssC',\n",
       " 'minHBint2',\n",
       " 'SHBint2',\n",
       " 'maxHBint2',\n",
       " 'VE3_Dzs',\n",
       " 'ATSC7c',\n",
       " 'BCUTp-1l',\n",
       " 'SpMin8_Bhi',\n",
       " 'VR2_Dzi',\n",
       " 'MLFER_E',\n",
       " 'C1SP3',\n",
       " 'naasC',\n",
       " 'topoShape',\n",
       " 'BCUTw-1l',\n",
       " 'AATSC8c',\n",
       " 'MATS8c',\n",
       " 'VR2_Dzm',\n",
       " 'ETA_dAlpha_B',\n",
       " 'GATS8m',\n",
       " 'nHBint9',\n",
       " 'SpMin7_Bhm',\n",
       " 'SpMax5_Bhm',\n",
       " 'ZMIC1',\n",
       " 'SCH-5',\n",
       " 'ATS4m',\n",
       " 'MDEO-12',\n",
       " 'AATS6m',\n",
       " 'AATS0v',\n",
       " 'GATS6s',\n",
       " 'SpMin4_Bhi',\n",
       " 'MATS3c',\n",
       " 'GATS1s',\n",
       " 'ATS8m',\n",
       " 'minssO',\n",
       " 'VR1_Dzi',\n",
       " 'GATS4p',\n",
       " 'nHBint4',\n",
       " 'nX',\n",
       " 'ATS5m',\n",
       " 'SaaS',\n",
       " 'SsNH2',\n",
       " 'SpMin3_Bhs',\n",
       " 'nBase',\n",
       " 'MDEN-33']"
      ]
     },
     "execution_count": 4,
     "metadata": {},
     "output_type": "execute_result"
    }
   ],
   "source": [
    "# (Feature_Space_2) Mixed Selection 1/x\n",
    "\n",
    "mixed_selection_1x_features = ['MDEN-11',\n",
    "                             'AATSC8s',\n",
    "                             'ndssC',\n",
    "                             'minHBint2',\n",
    "                             'SHBint2',\n",
    "                             'maxHBint2',\n",
    "                             'VE3_Dzs',\n",
    "                             'ATSC7c',\n",
    "                             'BCUTp-1l',\n",
    "                             'SpMin8_Bhi',\n",
    "                             'VR2_Dzi',\n",
    "                             'MLFER_E',\n",
    "                             'C1SP3',\n",
    "                             'naasC',\n",
    "                             'topoShape',\n",
    "                             'BCUTw-1l',\n",
    "                             'AATSC8c',\n",
    "                             'MATS8c',\n",
    "                             'VR2_Dzm',\n",
    "                             'ETA_dAlpha_B',\n",
    "                             'GATS8m',\n",
    "                             'nHBint9',\n",
    "                             'SpMin7_Bhm',\n",
    "                             'SpMax5_Bhm',\n",
    "                             'ZMIC1',\n",
    "                             'SCH-5',\n",
    "                             'ATS4m',\n",
    "                             'MDEO-12',\n",
    "                             'AATS6m',\n",
    "                             'AATS0v',\n",
    "                             'GATS6s',\n",
    "                             'SpMin4_Bhi',\n",
    "                             'MATS3c',\n",
    "                             'GATS1s',\n",
    "                             'ATS8m',\n",
    "                             'minssO',\n",
    "                             'VR1_Dzi',\n",
    "                             'GATS4p',\n",
    "                             'nHBint4',\n",
    "                             'nX',\n",
    "                             'ATS5m',\n",
    "                             'SaaS',\n",
    "                             'SsNH2',\n",
    "                             'SpMin3_Bhs',\n",
    "                             'nBase',\n",
    "                             'MDEN-33']\n",
    "\n",
    "mixed_selection_1x_features_size = len(mixed_selection_1x_features)\n",
    "\n",
    "pickle.dump(mixed_selection_1x_features, open('../pickled/mixed_selection_1x_features.pickle','w'))\n",
    "mixed_selection_1x_features = pickle.load(open('../pickled/mixed_selection_1x_features.pickle', 'rw'))\n",
    "mixed_selection_1x_features\n"
   ]
  },
  {
   "cell_type": "code",
   "execution_count": 15,
   "metadata": {
    "collapsed": false,
    "deletable": true,
    "editable": true
   },
   "outputs": [
    {
     "name": "stdout",
     "output_type": "stream",
     "text": [
      "Fitting 3 folds for each of 5 candidates, totalling 15 fits\n"
     ]
    },
    {
     "name": "stderr",
     "output_type": "stream",
     "text": [
      "/Library/Python/2.7/site-packages/sklearn/linear_model/coordinate_descent.py:491: ConvergenceWarning: Objective did not converge. You might want to increase the number of iterations. Fitting data with very small alpha may cause precision problems.\n",
      "  ConvergenceWarning)\n",
      "/Library/Python/2.7/site-packages/sklearn/linear_model/coordinate_descent.py:491: ConvergenceWarning: Objective did not converge. You might want to increase the number of iterations. Fitting data with very small alpha may cause precision problems.\n",
      "  ConvergenceWarning)\n",
      "/Library/Python/2.7/site-packages/sklearn/linear_model/coordinate_descent.py:491: ConvergenceWarning: Objective did not converge. You might want to increase the number of iterations. Fitting data with very small alpha may cause precision problems.\n",
      "  ConvergenceWarning)\n",
      "/Library/Python/2.7/site-packages/sklearn/linear_model/coordinate_descent.py:491: ConvergenceWarning: Objective did not converge. You might want to increase the number of iterations. Fitting data with very small alpha may cause precision problems.\n",
      "  ConvergenceWarning)\n",
      "[Parallel(n_jobs=4)]: Done  15 out of  15 | elapsed:   32.9s finished\n",
      "/Library/Python/2.7/site-packages/sklearn/linear_model/coordinate_descent.py:491: ConvergenceWarning: Objective did not converge. You might want to increase the number of iterations. Fitting data with very small alpha may cause precision problems.\n",
      "  ConvergenceWarning)\n",
      "/Library/Python/2.7/site-packages/pandas/core/indexes/base.py:1754: VisibleDeprecationWarning: boolean index did not match indexed array along dimension 0; dimension is 1447 but corresponding boolean dimension is 1444\n",
      "  result = getitem(key)\n"
     ]
    },
    {
     "data": {
      "text/plain": [
       "['ATS7i',\n",
       " 'AATS6i',\n",
       " 'AATS7i',\n",
       " 'GATS7i',\n",
       " 'GATS3s',\n",
       " 'GATS5s',\n",
       " 'SM1_DzZ',\n",
       " 'SM1_Dzm',\n",
       " 'SpMAD_Dze',\n",
       " 'EE_Dze',\n",
       " 'VE2_Dzp',\n",
       " 'SpMin5_Bhe',\n",
       " 'SpMin5_Bhi',\n",
       " 'C4SP3',\n",
       " 'SCH-7',\n",
       " 'VCH-4',\n",
       " 'ndssC',\n",
       " 'nsssNHp',\n",
       " 'nddssS',\n",
       " 'SHBa',\n",
       " 'SssBH',\n",
       " 'SsssNHp',\n",
       " 'SddssS',\n",
       " 'minHBd',\n",
       " 'minHBint3',\n",
       " 'minHBint4',\n",
       " 'minHBint6',\n",
       " 'minHsOH',\n",
       " 'minddC',\n",
       " 'minaaaC',\n",
       " 'minsNH2',\n",
       " 'minssssNp',\n",
       " 'minssS',\n",
       " 'minddssS',\n",
       " 'minssPbH2',\n",
       " 'maxwHBd',\n",
       " 'maxHBint4',\n",
       " 'maxHBint7',\n",
       " 'maxHsOH',\n",
       " 'maxdssC',\n",
       " 'DELS2']"
      ]
     },
     "execution_count": 15,
     "metadata": {},
     "output_type": "execute_result"
    }
   ],
   "source": [
    "# (Feature_Space_3) Lasso Coeficients > 0 \n",
    "\"\"\"\n",
    "lasso_pipe             = Pipeline([('lasso',Lasso())])\n",
    "lasso_param_grid       = {'lasso__alpha':[0.01, 0.1, 1, 10, 100]}\n",
    "lasso_grid             = GridSearchCV(lasso_pipe, param_grid=lasso_param_grid, cv=3, n_jobs=4, verbose=True)\n",
    "lasso_fit              = lasso_grid.fit(Xtrain,bigframe_train.IC50).best_estimator_.named_steps[\"lasso\"]\n",
    "lasso_features         = lasso_fit.coef_\n",
    "lasso_features         = bigframe.columns[abs(lasso_fit.coef_) > 0].tolist()\n",
    "lasso_features_size    = len(lasso_features)\n",
    "lasso_features\n",
    "\n",
    "pickle.dump(lasso_features, open('../pickled/lasso_features.pickle','w'))\n",
    "\"\"\"\n",
    "lasso_features = pickle.load(open('../pickled/lasso_features.pickle', 'rw'))\n",
    "lasso_features\n"
   ]
  },
  {
   "cell_type": "code",
   "execution_count": null,
   "metadata": {
    "collapsed": false,
    "deletable": true,
    "editable": true
   },
   "outputs": [],
   "source": []
  },
  {
   "cell_type": "code",
   "execution_count": 11,
   "metadata": {
    "collapsed": false,
    "deletable": true,
    "editable": true
   },
   "outputs": [
    {
     "data": {
      "text/plain": [
       "['AATS3v',\n",
       " 'AATS8e',\n",
       " 'ATSC4p',\n",
       " 'ATSC3s',\n",
       " 'ATSC4s',\n",
       " 'ATSC5s',\n",
       " 'AATSC6c',\n",
       " 'AATSC5m',\n",
       " 'AATSC2i',\n",
       " 'MATS8c',\n",
       " 'MATS5v',\n",
       " 'GATS5i',\n",
       " 'SpMAD_Dzv',\n",
       " 'VE1_Dzv',\n",
       " 'SpMAD_Dze',\n",
       " 'SM1_Dze',\n",
       " 'VR1_Dze',\n",
       " 'EE_Dzp',\n",
       " 'SpMAD_Dzs',\n",
       " 'SpMin5_Bhm',\n",
       " 'SpMax8_Bhe',\n",
       " 'SpMin5_Bhi',\n",
       " 'SpMin8_Bhi',\n",
       " 'ASP-3',\n",
       " 'ASP-4',\n",
       " 'minssBH',\n",
       " 'minddC',\n",
       " 'mindssC',\n",
       " 'minaaaC',\n",
       " 'minssPbH2',\n",
       " 'maxHBint8',\n",
       " 'DELS',\n",
       " 'ETA_Epsilon_5',\n",
       " 'IC2',\n",
       " 'IC3',\n",
       " 'JGI1',\n",
       " 'MWC7']"
      ]
     },
     "execution_count": 11,
     "metadata": {},
     "output_type": "execute_result"
    }
   ],
   "source": [
    "# (Feature_Space_4) Random Forest Feature Importance > 0\n",
    "\n",
    "\"\"\"\n",
    "rf_pipe              = Pipeline([('rf',RandomForestClassifier())])\n",
    "rf_param_grid       = {'rf__n_estimators':[10,100],\n",
    "                       'rf__bootstrap':[True, False],\n",
    "                       'rf__criterion':['gini','entropy']}\n",
    "\n",
    "rf_grid             = GridSearchCV(rf_pipe, param_grid=rf_param_grid, n_jobs=4, cv=3, verbose=True)\n",
    "\n",
    "rf_fit              = rf_grid.fit(Xtrain,ytrain).best_estimator_.named_steps['rf']\n",
    "rf_features         = rf_fit.feature_importances_\n",
    "rf_features         = bigframe.columns[rf_features > 0].tolist()\n",
    "rf_features_size    = len(rf_features)\n",
    "rf_features\n",
    "\n",
    "pickle.dump(rf_fit, open('../pickled/rf_fit.pickle','w'))\n",
    "pickle.dump(rf_features, open('../pickled/rf_features.pickle','w'))\n",
    "\n",
    "\"\"\"\n",
    "\n",
    "\n",
    "rf_features = pickle.load(open('../pickled/rf_features.pickle', 'rw'))[1:]\n",
    "rf_features\n"
   ]
  },
  {
   "cell_type": "code",
   "execution_count": null,
   "metadata": {
    "collapsed": false,
    "deletable": true,
    "editable": true
   },
   "outputs": [],
   "source": []
  },
  {
   "cell_type": "code",
   "execution_count": 12,
   "metadata": {
    "collapsed": false,
    "deletable": true,
    "editable": true
   },
   "outputs": [
    {
     "data": {
      "text/plain": [
       "['ATS1s',\n",
       " 'AATS6v',\n",
       " 'AATS8i',\n",
       " 'AATS0s',\n",
       " 'AATS1s',\n",
       " 'ATSC5c',\n",
       " 'ATSC6m',\n",
       " 'ATSC5v',\n",
       " 'ATSC0p',\n",
       " 'ATSC3s',\n",
       " 'ATSC6s',\n",
       " 'ATSC8s',\n",
       " 'AATSC1m',\n",
       " 'AATSC6m',\n",
       " 'AATSC8m',\n",
       " 'AATSC2i',\n",
       " 'AATSC0s',\n",
       " 'AATSC4s',\n",
       " 'AATSC6s',\n",
       " 'AATSC7s',\n",
       " 'AATSC8s',\n",
       " 'MATS4s',\n",
       " 'MATS7s',\n",
       " 'GATS2v',\n",
       " 'GATS6v',\n",
       " 'GATS3p',\n",
       " 'GATS8i',\n",
       " 'GATS1s',\n",
       " 'GATS3s',\n",
       " 'GATS4s',\n",
       " 'VE2_DzZ',\n",
       " 'SpMax_Dzm',\n",
       " 'VE2_Dzm',\n",
       " 'SpMAD_Dzv',\n",
       " 'VR2_Dzv',\n",
       " 'VE1_Dze',\n",
       " 'VR1_Dze',\n",
       " 'SpAbs_Dzp',\n",
       " 'VE1_Dzp',\n",
       " 'VE3_Dzp',\n",
       " 'VR2_Dzp',\n",
       " 'VE2_Dzi',\n",
       " 'VE3_Dzs',\n",
       " 'SpMax7_Bhm',\n",
       " 'SpMin5_Bhm',\n",
       " 'SpMin6_Bhe',\n",
       " 'SpMin6_Bhi',\n",
       " 'SpMin8_Bhi',\n",
       " 'SpMax8_Bhs',\n",
       " 'SCH-5',\n",
       " 'VCH-5',\n",
       " 'VCH-7',\n",
       " 'ASP-7',\n",
       " 'AVP-6',\n",
       " 'nHBint3',\n",
       " 'nsssN',\n",
       " 'nsF',\n",
       " 'naaS',\n",
       " 'nsCl',\n",
       " 'nsI',\n",
       " 'SHBint3',\n",
       " 'SHBint6',\n",
       " 'SsssCH',\n",
       " 'SaaN',\n",
       " 'SsssN',\n",
       " 'SsI',\n",
       " 'minwHBa',\n",
       " 'minHBint2',\n",
       " 'minHBint5',\n",
       " 'minHBint6',\n",
       " 'minHBint7',\n",
       " 'minsCH3',\n",
       " 'minaaCH',\n",
       " 'minaaaC',\n",
       " 'minsssN',\n",
       " 'minssO',\n",
       " 'minsI',\n",
       " 'maxHBint2',\n",
       " 'maxHBint5',\n",
       " 'maxHBint10',\n",
       " 'maxaasC',\n",
       " 'ETA_dAlpha_A',\n",
       " 'ETA_Epsilon_1',\n",
       " 'ETA_dPsi_B',\n",
       " 'ETA_Shape_Y',\n",
       " 'SIC1',\n",
       " 'BIC3',\n",
       " 'JGI5',\n",
       " 'JGI8',\n",
       " 'VAdjMat',\n",
       " 'WPOL']"
      ]
     },
     "execution_count": 12,
     "metadata": {},
     "output_type": "execute_result"
    }
   ],
   "source": [
    "# (Feature_Space_5) TOPSIS Top K Ranked Features\n",
    "\n",
    "\"\"\"\n",
    "feat_df = pd.DataFrame({'RF_Classifier':rf_fit.feature_importances_,\n",
    "                        'LASSO_Coef':abs(lasso_fit.coef_)},\n",
    "                      index=bigframe.columns[3:].tolist())\n",
    "\n",
    "mtx = feat_df.as_matrix()\n",
    "mtx\n",
    "\n",
    "# let's says the first two alternatives are\n",
    "# for maximization and the last one for minimization\n",
    "criteria = [MAX, MAX]\n",
    "criteria\n",
    "\n",
    "data = Data(mtx, criteria,\n",
    "            weights=[0.5,0.5],\n",
    "            anames=feat_df.index.tolist(),\n",
    "            cnames=feat_df.columns)\n",
    "\n",
    "dm1 = simple.WeightedSum()\n",
    "dm2 = simple.WeightedProduct()\n",
    "dm3 = closeness.TOPSIS(mnorm=\"vector\")\n",
    "dm4 = closeness.TOPSIS(mnorm=\"sum\")\n",
    "\n",
    "ranks=[]\n",
    "for alg in [dm1, dm2, dm3, dm4]:\n",
    "    dec = alg.decide(data)\n",
    "    ranks.append(dec.rank_) \n",
    "# Now lets decide the ranking\n",
    "\n",
    "rank_matrix= pd.DataFrame(ranks, index=['WeightedSum',\n",
    "                                     'WeightedProduct',\n",
    "                                     'TOPSIS_VectorNormalized',\n",
    "                                     'TOPSIS_SumNormalized'],\n",
    "                                   columns=feat_df.index).T\n",
    "\n",
    "rank_matrix\n",
    "\n",
    "rank_mask = rank_matrix < max([  len(rf_features),\n",
    "                                 len(lasso_features),\n",
    "                                 len(mixed_selection_features),\n",
    "                                 len(mixed_selection_1x_features)])\n",
    "\n",
    "rank_matrix=rank_matrix.loc[(rank_mask).any(axis=1)]\n",
    "\n",
    "topsis_features = rank_matrix.index.tolist()\n",
    "topsis_features_size = len(topsis_features)\n",
    "\n",
    "pickle.dump(topsis_features, open('../pickled/topsis_features.pickle','w'))\n",
    "\"\"\"\n",
    "topsis_features = pickle.load(open('../pickled/topsis_features.pickle', 'rw'))\n",
    "topsis_features\n"
   ]
  },
  {
   "cell_type": "code",
   "execution_count": null,
   "metadata": {
    "collapsed": false,
    "deletable": true,
    "editable": true
   },
   "outputs": [],
   "source": []
  },
  {
   "cell_type": "markdown",
   "metadata": {
    "deletable": true,
    "editable": true
   },
   "source": [
    "## Full set model selections"
   ]
  },
  {
   "cell_type": "code",
   "execution_count": 14,
   "metadata": {
    "collapsed": true,
    "deletable": true,
    "editable": true
   },
   "outputs": [],
   "source": [
    "# ROC/C.I Containers\n",
    "lda_full_scores      = []\n",
    "rf_full_scores       = []\n",
    "svm_full_scores      = []\n",
    "log_reg_full_scores  = []\n",
    "nb_full_scores       = []\n",
    "knn_full_scores      = []\n",
    "\n"
   ]
  },
  {
   "cell_type": "code",
   "execution_count": 15,
   "metadata": {
    "collapsed": false,
    "deletable": true,
    "editable": true
   },
   "outputs": [
    {
     "data": {
      "text/plain": [
       "0.86345425850099888"
      ]
     },
     "execution_count": 15,
     "metadata": {},
     "output_type": "execute_result"
    }
   ],
   "source": [
    "# (Full_Model_1) LDA\n",
    "\n",
    "def get_LDA_scores(Xtrain ,ytrain, Xtest, ytest, modelName=\"\", listName=\"\"):\n",
    "    \n",
    "    \"\"\"\n",
    "    appendList=[]\n",
    "\n",
    "    lda_pipe              = Pipeline([('lda',LinearDiscriminantAnalysis())])\n",
    "    lda_param_grid        = {'lda__solver':['svd']}\n",
    "\n",
    "    lda_grid             = GridSearchCV(lda_pipe, param_grid=lda_param_grid, cv=3, verbose=True)\n",
    "\n",
    "    lda_fit              = lda_grid.fit(Xtrain,ytrain).best_estimator_.named_steps['lda']\n",
    "\n",
    "    pickle.dump(lda_fit, open(modelName,'w'))\n",
    "    \"\"\"\n",
    "    lda_fit=pickle.load(open(modelName, 'rw'))\n",
    "    \n",
    "    ypred=lda_fit.predict(Xtest)\n",
    "    \n",
    "    \"\"\"\n",
    "    for i in range(10):\n",
    "        print(\"Iteration: \", str(i+1) )\n",
    "        skf = StratifiedKFold(n_splits=3,shuffle=True)\n",
    "        appendList.append(np.mean(cross_val_score(lda_fit, Xtest, ytest, cv=skf, scoring='roc_auc')))\n",
    "\n",
    "\n",
    "    pickle.dump(appendList, open(listName,'w'))\n",
    "\n",
    "    appendList=pickle.load(open(listName, 'rw'))\n",
    "    \n",
    "    return appendList\n",
    "    \"\"\"\n",
    "    return roc_auc_score(ytest, ypred)\n",
    "\n",
    "lda_roc_score = get_LDA_scores(Xtrain,ytrain,Xtest,ytest, modelName=\"../pickled/lda_fit.pickle\", listName=\"\")\n",
    "lda_roc_score"
   ]
  },
  {
   "cell_type": "code",
   "execution_count": null,
   "metadata": {
    "collapsed": false,
    "deletable": true,
    "editable": true
   },
   "outputs": [],
   "source": [
    "\n"
   ]
  },
  {
   "cell_type": "code",
   "execution_count": 16,
   "metadata": {
    "collapsed": false,
    "deletable": true,
    "editable": true
   },
   "outputs": [
    {
     "data": {
      "text/plain": [
       "0.81806041475824165"
      ]
     },
     "execution_count": 16,
     "metadata": {},
     "output_type": "execute_result"
    }
   ],
   "source": [
    "# (Full_Model_2) Random Forest\n",
    "def get_RF_scores(Xtrain,ytrain,Xtest,ytest, modelName=\"\", listName=\"\"):\n",
    "\n",
    "    \"\"\"\n",
    "    appendList = []\n",
    "    rf_pipe              = Pipeline([('rf',RandomForestClassifier())])\n",
    "    rf_param_grid       = {'rf__n_estimators':[10,100],\n",
    "                           'rf__bootstrap':[True, False],\n",
    "                           'rf__criterion':['gini','entropy']}\n",
    "\n",
    "    rf_grid             = GridSearchCV(rf_pipe, param_grid=rf_param_grid, n_jobs=4, cv=3, verbose=True)\n",
    "\n",
    "    rf_fit              = rf_grid.fit(Xtrain,ytrain).best_estimator_.named_steps['rf']\n",
    "    rf_features         = rf_fit.feature_importances_\n",
    "    rf_features         = bigframe.columns[rf_features > 0].tolist()\n",
    "    rf_features_size    = len(rf_features)\n",
    "    rf_features\n",
    "\n",
    "    pickle.dump(rf_fit, open(modelName,'w'))\n",
    "\n",
    "    rf_fit=pickle.load(open(modelName, 'rw'))\n",
    "\n",
    "\n",
    "    for i in range(10):\n",
    "        print(\"Iteration: \", str(i+1) )\n",
    "        skf = StratifiedKFold(n_splits=3, shuffle=True)\n",
    "        appendList.append(np.mean(cross_val_score(rf_fit, Xtest, ytest, cv=skf,n_jobs=4, scoring='roc_auc')))\n",
    "\n",
    "    pickle.dump(appendList, open(listName,'w'))\n",
    "\n",
    "    appendList=pickle.load(open(listName, 'rw'))\n",
    "    return appendList\n",
    "    \"\"\"\n",
    "    rf_fit=pickle.load(open(modelName, 'rw'))\n",
    "    ypred=rf_fit.predict(Xtest)\n",
    "    return roc_auc_score(ytest, ypred)\n",
    "\n",
    "rf_roc_score = get_RF_scores(Xtrain,ytrain,Xtest,ytest, modelName=\"../pickled/rf_fit.pickle\", listName=\"\")\n",
    "rf_roc_score"
   ]
  },
  {
   "cell_type": "code",
   "execution_count": null,
   "metadata": {
    "collapsed": false,
    "deletable": true,
    "editable": true
   },
   "outputs": [],
   "source": []
  },
  {
   "cell_type": "code",
   "execution_count": 17,
   "metadata": {
    "collapsed": false,
    "deletable": true,
    "editable": true
   },
   "outputs": [
    {
     "data": {
      "text/plain": [
       "0.68181818181818188"
      ]
     },
     "execution_count": 17,
     "metadata": {},
     "output_type": "execute_result"
    }
   ],
   "source": [
    "# (Full_Model_3) SVM\n",
    "\n",
    "def get_SVC_scores(Xtrain,ytrain,Xtest,ytest, modelName=\"\", listName=\"\"):\n",
    "\n",
    "    \"\"\"\n",
    "    appendList = []\n",
    "    svc_pipe              = Pipeline([('svc',SVC())])\n",
    "    svc_param_grid        = {'svc__kernel':['rbf'],\n",
    "                             'svc__C':[10,1,0.1,0.01]}\n",
    "\n",
    "    svc_grid             = GridSearchCV(svc_pipe, param_grid=svc_param_grid, n_jobs=4, cv=3, verbose=True)\n",
    "\n",
    "    svc_fit              = svc_grid.fit(Xtrain,ytrain).best_estimator_.named_steps['svc']\n",
    "    pickle.dump(svc_fit, open(modelName,'w'))\n",
    "\n",
    "\n",
    "    svc_fit=pickle.load(open(modelName, 'rw'))\n",
    "\n",
    "\n",
    "    for i in range(10):\n",
    "        print(\"Iteration: \", str(i+1) )\n",
    "        skf = StratifiedKFold(n_splits=3, shuffle=True)\n",
    "        appendList.append(np.mean(cross_val_score(svc_fit, Xtest, ytest, cv=skf,n_jobs=4, scoring='roc_auc')))\n",
    "\n",
    "\n",
    "    pickle.dump(appendList, open(listName,'w'))\n",
    "    \n",
    "    appendList=pickle.load(open(listName, 'rw'))\n",
    "    return appendList\n",
    "    \"\"\"\n",
    "    svc_fit=pickle.load(open(modelName, 'rw'))\n",
    "    ypred=svc_fit.predict(Xtest)\n",
    "    return roc_auc_score(ytest, ypred)\n",
    "\n",
    "svm_roc_score = get_SVC_scores(Xtrain,ytrain,Xtest,ytest, modelName=\"../pickled/svc_fit.pickle\", listName=\"\")\n",
    "svm_roc_score"
   ]
  },
  {
   "cell_type": "code",
   "execution_count": 18,
   "metadata": {
    "collapsed": false,
    "deletable": true,
    "editable": true
   },
   "outputs": [],
   "source": [
    "\n",
    "# Yes .. it actually gets a 99% ROC under 3-fold cv repeated 10times\n",
    "#svm_full_scores=get_SVC_scores(Xtrain, ytrain, Xtest, ytest, modelName=\"DEMO1.pickle\", listName=\"svm_full_scores.pickle\")\n",
    "#svm_full_scores\n"
   ]
  },
  {
   "cell_type": "code",
   "execution_count": 19,
   "metadata": {
    "collapsed": false,
    "deletable": true,
    "editable": true
   },
   "outputs": [
    {
     "data": {
      "text/plain": [
       "0.90890880395554441"
      ]
     },
     "execution_count": 19,
     "metadata": {},
     "output_type": "execute_result"
    }
   ],
   "source": [
    "# (Full_Model_4) Logistic Reg.\n",
    "\n",
    "def get_LogReg_scores(Xtrain,ytrain,Xtest,ytest, modelName=\"\", listName=\"\"):\n",
    "    \"\"\"\n",
    "    appendList=[]\n",
    "    log_reg_pipe              = Pipeline([('log_reg',LogisticRegression())])\n",
    "    log_reg_param_grid        = {'log_reg__penalty':['l1', 'l2']}\n",
    "    log_reg_grid             = GridSearchCV(log_reg_pipe, param_grid=log_reg_param_grid, n_jobs=4, cv=3, verbose=True)\n",
    "\n",
    "    log_reg_fit              = log_reg_grid.fit(Xtrain,ytrain).best_estimator_.named_steps['log_reg']\n",
    "\n",
    "    pickle.dump(log_reg_fit, open(modelName,'w'))\n",
    "\n",
    "    log_reg_fit=pickle.load(open(modelName, 'rw'))\n",
    "\n",
    "\n",
    "    for i in range(10):\n",
    "        print(\"Iteration: \", str(i+1) )\n",
    "        skf = StratifiedKFold(n_splits=3, shuffle=True)\n",
    "        appendList.append(np.mean(cross_val_score(log_reg_fit, Xtest, ytest, cv=skf, scoring='roc_auc')))\n",
    "\n",
    "\n",
    "    pickle.dump(appendList, open(listName,'w'))\n",
    "\n",
    "    appendList=pickle.load(open(listName, 'rw'))\n",
    "    return appendList\n",
    "    \"\"\"\n",
    "    log_reg_fit=pickle.load(open(modelName, 'rw'))\n",
    "    ypred=log_reg_fit.predict(Xtest)\n",
    "    return roc_auc_score(ytest, ypred)\n",
    "\n",
    "log_reg_roc_score = get_LogReg_scores(Xtrain,ytrain,Xtest,ytest, modelName=\"../pickled/log_reg_fit.pickle\", listName=\"\")\n",
    "log_reg_roc_score"
   ]
  },
  {
   "cell_type": "code",
   "execution_count": 20,
   "metadata": {
    "collapsed": false,
    "deletable": true,
    "editable": true
   },
   "outputs": [
    {
     "data": {
      "text/plain": [
       "0.72727272727272729"
      ]
     },
     "execution_count": 20,
     "metadata": {},
     "output_type": "execute_result"
    }
   ],
   "source": [
    "# (Full_Model_5) Naive Bayes\n",
    "\n",
    "def get_NB_scores(Xtrain,ytrain,Xtest,ytest, modelName=\"\", listName=\"\"):\n",
    "    \"\"\"\n",
    "    appendList=[]\n",
    "    nb_fit = GaussianNB().fit(Xtrain,ytrain)\n",
    "    pickle.dump(nb_fit, open(modelName,'w'))\n",
    "\n",
    "    nb_fit=pickle.load(open(modelName, 'rw'))\n",
    "\n",
    "    for i in range(10):\n",
    "        print(\"Iteration: \", str(i+1) )\n",
    "        skf = StratifiedKFold(n_splits=3, shuffle=True)\n",
    "        appendList.append(np.mean(cross_val_score(nb_fit, Xtest, ytest, cv=skf,scoring='roc_auc')))\n",
    "    \n",
    "    pickle.dump(appendList, open(listName,'w'))\n",
    "    appendList=pickle.load(open(listName, 'rw'))\n",
    "    return appendList\n",
    "    \"\"\"\n",
    "    nb_fit=pickle.load(open(modelName, 'rw'))\n",
    "    ypred=nb_fit.predict(Xtest)\n",
    "    return roc_auc_score(ytest, ypred)\n",
    "\n",
    "nb_roc_score = get_NB_scores(Xtrain,ytrain,Xtest,ytest, modelName=\"../pickled/nb_fit.pickle\", listName=\"\")\n",
    "nb_roc_score"
   ]
  },
  {
   "cell_type": "code",
   "execution_count": 21,
   "metadata": {
    "collapsed": false,
    "deletable": true,
    "editable": true
   },
   "outputs": [
    {
     "ename": "KeyboardInterrupt",
     "evalue": "",
     "output_type": "error",
     "traceback": [
      "\u001b[0;31m---------------------------------------------------------------------------\u001b[0m",
      "\u001b[0;31mKeyboardInterrupt\u001b[0m                         Traceback (most recent call last)",
      "\u001b[0;32m<ipython-input-21-e880ce9402f0>\u001b[0m in \u001b[0;36m<module>\u001b[0;34m()\u001b[0m\n\u001b[1;32m     28\u001b[0m     \u001b[0;32mreturn\u001b[0m \u001b[0mroc_auc_score\u001b[0m\u001b[0;34m(\u001b[0m\u001b[0mytest\u001b[0m\u001b[0;34m,\u001b[0m \u001b[0mypred\u001b[0m\u001b[0;34m)\u001b[0m\u001b[0;34m\u001b[0m\u001b[0m\n\u001b[1;32m     29\u001b[0m \u001b[0;34m\u001b[0m\u001b[0m\n\u001b[0;32m---> 30\u001b[0;31m \u001b[0mknn_roc_score\u001b[0m\u001b[0;34m=\u001b[0m\u001b[0mget_KNN_scores\u001b[0m\u001b[0;34m(\u001b[0m\u001b[0mXtrain\u001b[0m\u001b[0;34m,\u001b[0m\u001b[0mytrain\u001b[0m\u001b[0;34m,\u001b[0m\u001b[0mXtest\u001b[0m\u001b[0;34m,\u001b[0m\u001b[0mytest\u001b[0m\u001b[0;34m,\u001b[0m \u001b[0mmodelName\u001b[0m\u001b[0;34m=\u001b[0m\u001b[0;34m\"pickled/knn_fit.pickle\"\u001b[0m\u001b[0;34m,\u001b[0m \u001b[0mlistName\u001b[0m\u001b[0;34m=\u001b[0m\u001b[0;34m\"\"\u001b[0m\u001b[0;34m)\u001b[0m\u001b[0;34m\u001b[0m\u001b[0m\n\u001b[0m\u001b[1;32m     31\u001b[0m \u001b[0mknn_roc_score\u001b[0m\u001b[0;34m\u001b[0m\u001b[0m\n",
      "\u001b[0;32m<ipython-input-21-e880ce9402f0>\u001b[0m in \u001b[0;36mget_KNN_scores\u001b[0;34m(Xtrain, ytrain, Xtest, ytest, modelName, listName)\u001b[0m\n\u001b[1;32m     25\u001b[0m     \"\"\"\n\u001b[1;32m     26\u001b[0m     \u001b[0mknn_fit\u001b[0m\u001b[0;34m=\u001b[0m\u001b[0mpickle\u001b[0m\u001b[0;34m.\u001b[0m\u001b[0mload\u001b[0m\u001b[0;34m(\u001b[0m\u001b[0mopen\u001b[0m\u001b[0;34m(\u001b[0m\u001b[0mmodelName\u001b[0m\u001b[0;34m,\u001b[0m \u001b[0;34m'rw'\u001b[0m\u001b[0;34m)\u001b[0m\u001b[0;34m)\u001b[0m\u001b[0;34m\u001b[0m\u001b[0m\n\u001b[0;32m---> 27\u001b[0;31m     \u001b[0mypred\u001b[0m\u001b[0;34m=\u001b[0m\u001b[0mknn_fit\u001b[0m\u001b[0;34m.\u001b[0m\u001b[0mpredict\u001b[0m\u001b[0;34m(\u001b[0m\u001b[0mXtest\u001b[0m\u001b[0;34m)\u001b[0m\u001b[0;34m\u001b[0m\u001b[0m\n\u001b[0m\u001b[1;32m     28\u001b[0m     \u001b[0;32mreturn\u001b[0m \u001b[0mroc_auc_score\u001b[0m\u001b[0;34m(\u001b[0m\u001b[0mytest\u001b[0m\u001b[0;34m,\u001b[0m \u001b[0mypred\u001b[0m\u001b[0;34m)\u001b[0m\u001b[0;34m\u001b[0m\u001b[0m\n\u001b[1;32m     29\u001b[0m \u001b[0;34m\u001b[0m\u001b[0m\n",
      "\u001b[0;32m/Library/Python/2.7/site-packages/sklearn/neighbors/classification.pyc\u001b[0m in \u001b[0;36mpredict\u001b[0;34m(self, X)\u001b[0m\n\u001b[1;32m    143\u001b[0m         \u001b[0mX\u001b[0m \u001b[0;34m=\u001b[0m \u001b[0mcheck_array\u001b[0m\u001b[0;34m(\u001b[0m\u001b[0mX\u001b[0m\u001b[0;34m,\u001b[0m \u001b[0maccept_sparse\u001b[0m\u001b[0;34m=\u001b[0m\u001b[0;34m'csr'\u001b[0m\u001b[0;34m)\u001b[0m\u001b[0;34m\u001b[0m\u001b[0m\n\u001b[1;32m    144\u001b[0m \u001b[0;34m\u001b[0m\u001b[0m\n\u001b[0;32m--> 145\u001b[0;31m         \u001b[0mneigh_dist\u001b[0m\u001b[0;34m,\u001b[0m \u001b[0mneigh_ind\u001b[0m \u001b[0;34m=\u001b[0m \u001b[0mself\u001b[0m\u001b[0;34m.\u001b[0m\u001b[0mkneighbors\u001b[0m\u001b[0;34m(\u001b[0m\u001b[0mX\u001b[0m\u001b[0;34m)\u001b[0m\u001b[0;34m\u001b[0m\u001b[0m\n\u001b[0m\u001b[1;32m    146\u001b[0m \u001b[0;34m\u001b[0m\u001b[0m\n\u001b[1;32m    147\u001b[0m         \u001b[0mclasses_\u001b[0m \u001b[0;34m=\u001b[0m \u001b[0mself\u001b[0m\u001b[0;34m.\u001b[0m\u001b[0mclasses_\u001b[0m\u001b[0;34m\u001b[0m\u001b[0m\n",
      "\u001b[0;32m/Library/Python/2.7/site-packages/sklearn/neighbors/base.pyc\u001b[0m in \u001b[0;36mkneighbors\u001b[0;34m(self, X, n_neighbors, return_distance)\u001b[0m\n\u001b[1;32m    383\u001b[0m                 delayed(self._tree.query, check_pickle=False)(\n\u001b[1;32m    384\u001b[0m                     X[s], n_neighbors, return_distance)\n\u001b[0;32m--> 385\u001b[0;31m                 \u001b[0;32mfor\u001b[0m \u001b[0ms\u001b[0m \u001b[0;32min\u001b[0m \u001b[0mgen_even_slices\u001b[0m\u001b[0;34m(\u001b[0m\u001b[0mX\u001b[0m\u001b[0;34m.\u001b[0m\u001b[0mshape\u001b[0m\u001b[0;34m[\u001b[0m\u001b[0;36m0\u001b[0m\u001b[0;34m]\u001b[0m\u001b[0;34m,\u001b[0m \u001b[0mn_jobs\u001b[0m\u001b[0;34m)\u001b[0m\u001b[0;34m\u001b[0m\u001b[0m\n\u001b[0m\u001b[1;32m    386\u001b[0m             )\n\u001b[1;32m    387\u001b[0m             \u001b[0;32mif\u001b[0m \u001b[0mreturn_distance\u001b[0m\u001b[0;34m:\u001b[0m\u001b[0;34m\u001b[0m\u001b[0m\n",
      "\u001b[0;32m/Library/Python/2.7/site-packages/sklearn/externals/joblib/parallel.pyc\u001b[0m in \u001b[0;36m__call__\u001b[0;34m(self, iterable)\u001b[0m\n\u001b[1;32m    777\u001b[0m             \u001b[0;31m# was dispatched. In particular this covers the edge\u001b[0m\u001b[0;34m\u001b[0m\u001b[0;34m\u001b[0m\u001b[0m\n\u001b[1;32m    778\u001b[0m             \u001b[0;31m# case of Parallel used with an exhausted iterator.\u001b[0m\u001b[0;34m\u001b[0m\u001b[0;34m\u001b[0m\u001b[0m\n\u001b[0;32m--> 779\u001b[0;31m             \u001b[0;32mwhile\u001b[0m \u001b[0mself\u001b[0m\u001b[0;34m.\u001b[0m\u001b[0mdispatch_one_batch\u001b[0m\u001b[0;34m(\u001b[0m\u001b[0miterator\u001b[0m\u001b[0;34m)\u001b[0m\u001b[0;34m:\u001b[0m\u001b[0;34m\u001b[0m\u001b[0m\n\u001b[0m\u001b[1;32m    780\u001b[0m                 \u001b[0mself\u001b[0m\u001b[0;34m.\u001b[0m\u001b[0m_iterating\u001b[0m \u001b[0;34m=\u001b[0m \u001b[0mTrue\u001b[0m\u001b[0;34m\u001b[0m\u001b[0m\n\u001b[1;32m    781\u001b[0m             \u001b[0;32melse\u001b[0m\u001b[0;34m:\u001b[0m\u001b[0;34m\u001b[0m\u001b[0m\n",
      "\u001b[0;32m/Library/Python/2.7/site-packages/sklearn/externals/joblib/parallel.pyc\u001b[0m in \u001b[0;36mdispatch_one_batch\u001b[0;34m(self, iterator)\u001b[0m\n\u001b[1;32m    623\u001b[0m                 \u001b[0;32mreturn\u001b[0m \u001b[0mFalse\u001b[0m\u001b[0;34m\u001b[0m\u001b[0m\n\u001b[1;32m    624\u001b[0m             \u001b[0;32melse\u001b[0m\u001b[0;34m:\u001b[0m\u001b[0;34m\u001b[0m\u001b[0m\n\u001b[0;32m--> 625\u001b[0;31m                 \u001b[0mself\u001b[0m\u001b[0;34m.\u001b[0m\u001b[0m_dispatch\u001b[0m\u001b[0;34m(\u001b[0m\u001b[0mtasks\u001b[0m\u001b[0;34m)\u001b[0m\u001b[0;34m\u001b[0m\u001b[0m\n\u001b[0m\u001b[1;32m    626\u001b[0m                 \u001b[0;32mreturn\u001b[0m \u001b[0mTrue\u001b[0m\u001b[0;34m\u001b[0m\u001b[0m\n\u001b[1;32m    627\u001b[0m \u001b[0;34m\u001b[0m\u001b[0m\n",
      "\u001b[0;32m/Library/Python/2.7/site-packages/sklearn/externals/joblib/parallel.pyc\u001b[0m in \u001b[0;36m_dispatch\u001b[0;34m(self, batch)\u001b[0m\n\u001b[1;32m    586\u001b[0m         \u001b[0mdispatch_timestamp\u001b[0m \u001b[0;34m=\u001b[0m \u001b[0mtime\u001b[0m\u001b[0;34m.\u001b[0m\u001b[0mtime\u001b[0m\u001b[0;34m(\u001b[0m\u001b[0;34m)\u001b[0m\u001b[0;34m\u001b[0m\u001b[0m\n\u001b[1;32m    587\u001b[0m         \u001b[0mcb\u001b[0m \u001b[0;34m=\u001b[0m \u001b[0mBatchCompletionCallBack\u001b[0m\u001b[0;34m(\u001b[0m\u001b[0mdispatch_timestamp\u001b[0m\u001b[0;34m,\u001b[0m \u001b[0mlen\u001b[0m\u001b[0;34m(\u001b[0m\u001b[0mbatch\u001b[0m\u001b[0;34m)\u001b[0m\u001b[0;34m,\u001b[0m \u001b[0mself\u001b[0m\u001b[0;34m)\u001b[0m\u001b[0;34m\u001b[0m\u001b[0m\n\u001b[0;32m--> 588\u001b[0;31m         \u001b[0mjob\u001b[0m \u001b[0;34m=\u001b[0m \u001b[0mself\u001b[0m\u001b[0;34m.\u001b[0m\u001b[0m_backend\u001b[0m\u001b[0;34m.\u001b[0m\u001b[0mapply_async\u001b[0m\u001b[0;34m(\u001b[0m\u001b[0mbatch\u001b[0m\u001b[0;34m,\u001b[0m \u001b[0mcallback\u001b[0m\u001b[0;34m=\u001b[0m\u001b[0mcb\u001b[0m\u001b[0;34m)\u001b[0m\u001b[0;34m\u001b[0m\u001b[0m\n\u001b[0m\u001b[1;32m    589\u001b[0m         \u001b[0mself\u001b[0m\u001b[0;34m.\u001b[0m\u001b[0m_jobs\u001b[0m\u001b[0;34m.\u001b[0m\u001b[0mappend\u001b[0m\u001b[0;34m(\u001b[0m\u001b[0mjob\u001b[0m\u001b[0;34m)\u001b[0m\u001b[0;34m\u001b[0m\u001b[0m\n\u001b[1;32m    590\u001b[0m \u001b[0;34m\u001b[0m\u001b[0m\n",
      "\u001b[0;32m/Library/Python/2.7/site-packages/sklearn/externals/joblib/_parallel_backends.pyc\u001b[0m in \u001b[0;36mapply_async\u001b[0;34m(self, func, callback)\u001b[0m\n\u001b[1;32m    109\u001b[0m     \u001b[0;32mdef\u001b[0m \u001b[0mapply_async\u001b[0m\u001b[0;34m(\u001b[0m\u001b[0mself\u001b[0m\u001b[0;34m,\u001b[0m \u001b[0mfunc\u001b[0m\u001b[0;34m,\u001b[0m \u001b[0mcallback\u001b[0m\u001b[0;34m=\u001b[0m\u001b[0mNone\u001b[0m\u001b[0;34m)\u001b[0m\u001b[0;34m:\u001b[0m\u001b[0;34m\u001b[0m\u001b[0m\n\u001b[1;32m    110\u001b[0m         \u001b[0;34m\"\"\"Schedule a func to be run\"\"\"\u001b[0m\u001b[0;34m\u001b[0m\u001b[0m\n\u001b[0;32m--> 111\u001b[0;31m         \u001b[0mresult\u001b[0m \u001b[0;34m=\u001b[0m \u001b[0mImmediateResult\u001b[0m\u001b[0;34m(\u001b[0m\u001b[0mfunc\u001b[0m\u001b[0;34m)\u001b[0m\u001b[0;34m\u001b[0m\u001b[0m\n\u001b[0m\u001b[1;32m    112\u001b[0m         \u001b[0;32mif\u001b[0m \u001b[0mcallback\u001b[0m\u001b[0;34m:\u001b[0m\u001b[0;34m\u001b[0m\u001b[0m\n\u001b[1;32m    113\u001b[0m             \u001b[0mcallback\u001b[0m\u001b[0;34m(\u001b[0m\u001b[0mresult\u001b[0m\u001b[0;34m)\u001b[0m\u001b[0;34m\u001b[0m\u001b[0m\n",
      "\u001b[0;32m/Library/Python/2.7/site-packages/sklearn/externals/joblib/_parallel_backends.pyc\u001b[0m in \u001b[0;36m__init__\u001b[0;34m(self, batch)\u001b[0m\n\u001b[1;32m    330\u001b[0m         \u001b[0;31m# Don't delay the application, to avoid keeping the input\u001b[0m\u001b[0;34m\u001b[0m\u001b[0;34m\u001b[0m\u001b[0m\n\u001b[1;32m    331\u001b[0m         \u001b[0;31m# arguments in memory\u001b[0m\u001b[0;34m\u001b[0m\u001b[0;34m\u001b[0m\u001b[0m\n\u001b[0;32m--> 332\u001b[0;31m         \u001b[0mself\u001b[0m\u001b[0;34m.\u001b[0m\u001b[0mresults\u001b[0m \u001b[0;34m=\u001b[0m \u001b[0mbatch\u001b[0m\u001b[0;34m(\u001b[0m\u001b[0;34m)\u001b[0m\u001b[0;34m\u001b[0m\u001b[0m\n\u001b[0m\u001b[1;32m    333\u001b[0m \u001b[0;34m\u001b[0m\u001b[0m\n\u001b[1;32m    334\u001b[0m     \u001b[0;32mdef\u001b[0m \u001b[0mget\u001b[0m\u001b[0;34m(\u001b[0m\u001b[0mself\u001b[0m\u001b[0;34m)\u001b[0m\u001b[0;34m:\u001b[0m\u001b[0;34m\u001b[0m\u001b[0m\n",
      "\u001b[0;32m/Library/Python/2.7/site-packages/sklearn/externals/joblib/parallel.pyc\u001b[0m in \u001b[0;36m__call__\u001b[0;34m(self)\u001b[0m\n\u001b[1;32m    129\u001b[0m \u001b[0;34m\u001b[0m\u001b[0m\n\u001b[1;32m    130\u001b[0m     \u001b[0;32mdef\u001b[0m \u001b[0m__call__\u001b[0m\u001b[0;34m(\u001b[0m\u001b[0mself\u001b[0m\u001b[0;34m)\u001b[0m\u001b[0;34m:\u001b[0m\u001b[0;34m\u001b[0m\u001b[0m\n\u001b[0;32m--> 131\u001b[0;31m         \u001b[0;32mreturn\u001b[0m \u001b[0;34m[\u001b[0m\u001b[0mfunc\u001b[0m\u001b[0;34m(\u001b[0m\u001b[0;34m*\u001b[0m\u001b[0margs\u001b[0m\u001b[0;34m,\u001b[0m \u001b[0;34m**\u001b[0m\u001b[0mkwargs\u001b[0m\u001b[0;34m)\u001b[0m \u001b[0;32mfor\u001b[0m \u001b[0mfunc\u001b[0m\u001b[0;34m,\u001b[0m \u001b[0margs\u001b[0m\u001b[0;34m,\u001b[0m \u001b[0mkwargs\u001b[0m \u001b[0;32min\u001b[0m \u001b[0mself\u001b[0m\u001b[0;34m.\u001b[0m\u001b[0mitems\u001b[0m\u001b[0;34m]\u001b[0m\u001b[0;34m\u001b[0m\u001b[0m\n\u001b[0m\u001b[1;32m    132\u001b[0m \u001b[0;34m\u001b[0m\u001b[0m\n\u001b[1;32m    133\u001b[0m     \u001b[0;32mdef\u001b[0m \u001b[0m__len__\u001b[0m\u001b[0;34m(\u001b[0m\u001b[0mself\u001b[0m\u001b[0;34m)\u001b[0m\u001b[0;34m:\u001b[0m\u001b[0;34m\u001b[0m\u001b[0m\n",
      "\u001b[0;31mKeyboardInterrupt\u001b[0m: "
     ]
    }
   ],
   "source": [
    "# (Full_Model_6) K-NN\n",
    "def get_KNN_scores(Xtrain,ytrain,Xtest,ytest, modelName=\"\", listName=\"\"):\n",
    "    \"\"\"\n",
    "    appendList=[]\n",
    "    knn_pipe              = Pipeline([('knn',KNeighborsClassifier())])\n",
    "    knn_param_grid        = {'knn__n_neighbors':[5]}\n",
    "    knn_grid             = GridSearchCV(knn_pipe, param_grid=knn_param_grid, cv=3,n_jobs=4, verbose=True)\n",
    "    knn_fit              = knn_grid.fit(Xtrain,ytrain).best_estimator_.named_steps['knn']\n",
    "\n",
    "    pickle.dump(knn_fit, open(modelName,'w'))\n",
    "    knn_fit=pickle.load(open(modelName, 'rw'))\n",
    "\n",
    "\n",
    "\n",
    "    for i in range(10):\n",
    "        print(\"Iteration: \", str(i+1) )\n",
    "        skf = StratifiedKFold(n_splits=3, shuffle=True)\n",
    "        appendList.append(np.mean(cross_val_score(knn_fit, Xtest, ytest, cv=skf, n_jobs=4,scoring='roc_auc')))\n",
    "\n",
    "\n",
    "    pickle.dump(appendList, open(listName,'w'))\n",
    "\n",
    "    appendList=pickle.load(open(listName, 'rw'))\n",
    "    return appendList\n",
    "    \"\"\"\n",
    "    knn_fit=pickle.load(open(modelName, 'rw'))\n",
    "    ypred=knn_fit.predict(Xtest)\n",
    "    return roc_auc_score(ytest, ypred)\n",
    "\n",
    "knn_roc_score = get_KNN_scores(Xtrain,ytrain,Xtest,ytest, modelName=\"../pickled/knn_fit.pickle\", listName=\"\")\n",
    "knn_roc_score"
   ]
  },
  {
   "cell_type": "markdown",
   "metadata": {
    "deletable": true,
    "editable": true
   },
   "source": [
    "## Phew... That was a lot\n",
    "\n",
    "So here are all 6 of our results over a gridsearch model selection process, under 3-fold cross validation repeated 10 times. \n",
    "\n",
    "Also, each of the models that have been pickled and saved"
   ]
  },
  {
   "cell_type": "code",
   "execution_count": 22,
   "metadata": {
    "collapsed": false,
    "deletable": true,
    "editable": true
   },
   "outputs": [],
   "source": [
    "# Recap\n",
    "\n",
    "feature_space      = {  'topsis_features':topsis_features, \n",
    "                         'rf_features':rf_features, \n",
    "                         'lasso_features':lasso_features,\n",
    "                         'mixed_selection_1x_features':mixed_selection_1x_features,\n",
    "                         'mixed_selection_features':mixed_selection_features     }\n",
    "\n",
    "feature_space       = pickle.load(open('../pickled/feature_space.pickle', 'rw'))\n",
    "\n",
    "lda_full_scores     = pickle.load(open('../pickled/lda_full_scores.pickle', 'rw'))\n",
    "rf_full_scores      = pickle.load(open('../pickled/rf_full_scores.pickle', 'rw'))\n",
    "svm_full_scores     = pickle.load(open('../pickled/svm_full_scores.pickle', 'rw'))\n",
    "log_reg_full_scores = pickle.load(open('../pickled/log_reg_full_scores.pickle', 'rw'))\n",
    "nb_full_scores      = pickle.load(open('../pickled/nb_full_scores.pickle', 'rw'))\n",
    "knn_full_scores     = pickle.load(open('../pickled/knn_full_scores.pickle', 'rw'))\n",
    "\n",
    "full_scores         = {'lda':lda_full_scores,\n",
    "                       'rf':rf_full_scores,\n",
    "                       'svm':svm_full_scores,\n",
    "                       'log_reg':log_reg_full_scores,\n",
    "                       'nb':nb_full_scores,\n",
    "                       'knn':knn_full_scores}\n",
    "\n",
    "lda_fit             = pickle.load(open('../pickled/lda_fit.pickle', 'rw'))\n",
    "rf_fit              = pickle.load(open('../pickled/rf_fit.pickle', 'rw'))\n",
    "svc_fit             = pickle.load(open('../pickled/svc_fit.pickle', 'rw'))\n",
    "log_reg_fit         = pickle.load(open('../pickled/log_reg_fit.pickle', 'rw'))\n",
    "nb_fit              = pickle.load(open('../pickled/nb_fit.pickle', 'rw'))\n",
    "knn_fit             = pickle.load(open('../pickled/knn_fit.pickle', 'rw'))\n",
    "\n",
    "full_fits           = {'lda':lda_fit,\n",
    "                       'rf':rf_fit,\n",
    "                       'svm':svc_fit,\n",
    "                       'log_reg':log_reg_fit,\n",
    "                       'nb':nb_fit,\n",
    "                       'knn':knn_fit}"
   ]
  },
  {
   "cell_type": "markdown",
   "metadata": {
    "deletable": true,
    "editable": true
   },
   "source": [
    "## Full Space -- ROC AUC 95% C.I."
   ]
  },
  {
   "cell_type": "code",
   "execution_count": null,
   "metadata": {
    "collapsed": false,
    "deletable": true,
    "editable": true
   },
   "outputs": [],
   "source": [
    "import numpy as np\n",
    "import scipy as sp\n",
    "import scipy.stats\n",
    "\"\"\"\n",
    "full_confidence_intervals={}\n",
    "def mean_confidence_interval(data, confidence=0.95):\n",
    "    a = 1.0*np.array(data)\n",
    "    n = len(a)\n",
    "    m, se = np.mean(a), scipy.stats.sem(a)\n",
    "    h = se * sp.stats.t._ppf((1+confidence)/2., n-1)\n",
    "    return m-h, m+h\n",
    "\n",
    "for k,v in full_scores.items():\n",
    "    \n",
    "    full_confidence_intervals[k] = mean_confidence_interval(v)\n",
    "\n",
    "\n",
    "pickle.dump(full_confidence_intervals, open(\"../pickled/full_confidence_intervals.pickle\", \"w\"))\n",
    "\"\"\"\n",
    "full_confidence_intervals = pickle.load(open(\"../pickled/full_confidence_intervals.pickle\", \"rw\"))\n",
    "full_confidence_intervals"
   ]
  },
  {
   "cell_type": "markdown",
   "metadata": {
    "deletable": true,
    "editable": true
   },
   "source": [
    "## Visualize Confidence Intervals\n",
    "\n",
    "Alpha of 0.05 under a t-distribution standard error due to sample of 10 means << 30."
   ]
  },
  {
   "cell_type": "code",
   "execution_count": 59,
   "metadata": {
    "collapsed": false,
    "deletable": true,
    "editable": true
   },
   "outputs": [
    {
     "name": "stderr",
     "output_type": "stream",
     "text": [
      "/Library/Python/2.7/site-packages/matplotlib/font_manager.py:1328: UserWarning: findfont: Font family [u'normal'] not found. Falling back to DejaVu Sans\n",
      "  (prop.get_family(), self.defaultFamily[fontext]))\n"
     ]
    },
    {
     "data": {
      "image/png": "[encoded data removed]",
      "text/plain": [
       "<Figure size 432x288 with 1 Axes>"
      ]
     },
     "metadata": {},
     "output_type": "display_data"
    }
   ],
   "source": [
    "import matplotlib\n",
    "font = {'family' : 'normal',\n",
    "  'weight' : 'bold',\n",
    "  'size' : 16}\n",
    "matplotlib.rc('font', **font)\n",
    "ax=sns.boxplot(x=\"AUC\", y=\"Model\", data=pd.melt(pd.DataFrame(full_confidence_intervals), var_name='Model', value_name='AUC'))    \n",
    "plt.title('ROC AUC ML Model')\n",
    "plt.show()\n",
    "# Add legend Add title Change Axis"
   ]
  },
  {
   "cell_type": "markdown",
   "metadata": {
    "deletable": true,
    "editable": true
   },
   "source": [
    "## Subset model selections\n",
    "\n",
    "Now we we will only consider our TRAIN/TEST sets where the columns are relevant from the given feature space."
   ]
  },
  {
   "cell_type": "code",
   "execution_count": null,
   "metadata": {
    "collapsed": false,
    "deletable": true,
    "editable": true
   },
   "outputs": [],
   "source": [
    "# Models\n",
    "Models                = {'lda':get_LDA_scores, \n",
    "                          'rf':get_RF_scores,\n",
    "                          'svc':get_SVC_scores,\n",
    "                          'log_reg':get_LogReg_scores,\n",
    "                          'nb':get_NB_scores,\n",
    "                          'knn':get_KNN_scores}\n",
    "\n",
    "# ROC/C.I./p-value Containers\n",
    "lda_subset_scores     = {}\n",
    "rf_subset_scores      = {}\n",
    "svm_subset_scores     = {}\n",
    "log_reg_subset_scores = {}\n",
    "knn_subset_scores     = {}\n",
    "\n",
    "# Feature Space __ 5.\n",
    "feature_space\n"
   ]
  },
  {
   "cell_type": "code",
   "execution_count": null,
   "metadata": {
    "collapsed": false,
    "deletable": true,
    "editable": true
   },
   "outputs": [],
   "source": []
  },
  {
   "cell_type": "markdown",
   "metadata": {
    "deletable": true,
    "editable": true
   },
   "source": [
    "## Construct data for feature subspaces\n",
    "\n",
    "Now we want to construct a dictionary to iteratively grab our datasets for a given subspace from our feature selection techniques. "
   ]
  },
  {
   "cell_type": "code",
   "execution_count": 60,
   "metadata": {
    "collapsed": false,
    "deletable": true,
    "editable": true
   },
   "outputs": [
    {
     "data": {
      "text/plain": [
       "{'lasso_features': (array([[-1.2477446 , -0.0448842 ,  0.03886755, ..., -0.03471466,\n",
       "          -0.01101164,  0.        ],\n",
       "         [-1.11698337, -0.0448842 ,  0.03886755, ..., -0.03471466,\n",
       "          -0.01101164,  0.        ],\n",
       "         [-0.00909776, -0.0448842 ,  0.03886755, ..., -0.03471466,\n",
       "          -0.01101164,  0.        ],\n",
       "         ..., \n",
       "         [-1.77041141, -0.0448842 ,  0.03886755, ..., -0.03471466,\n",
       "          -0.01101164,  0.        ],\n",
       "         [-1.07408181, -0.0448842 ,  0.03886755, ..., -0.03471466,\n",
       "          -0.01101164,  0.        ],\n",
       "         [ 0.85322113, -0.0448842 ,  0.03886755, ..., -0.03471466,\n",
       "          -0.01101164,  0.        ]]),\n",
       "  array([0, 0, 0, ..., 0, 0, 0]),\n",
       "  array([[ 0.58159893, -0.04468784,  0.03885889, ..., -0.0290089 ,\n",
       "           0.        ,  0.        ],\n",
       "         [ 0.57351493, -0.04468784,  0.03885889, ..., -0.0290089 ,\n",
       "           0.        ,  0.        ],\n",
       "         [ 1.11039418, -0.04468784,  0.03885889, ..., -0.0290089 ,\n",
       "           0.        ,  0.        ],\n",
       "         ..., \n",
       "         [ 0.41659558, -0.04468784,  0.03885889, ..., -0.0290089 ,\n",
       "           0.        ,  0.        ],\n",
       "         [ 0.17501405, -0.04468784,  0.03885889, ..., -0.0290089 ,\n",
       "           0.        ,  0.        ],\n",
       "         [-0.54302984, -0.04468784,  0.03885889, ..., -0.0290089 ,\n",
       "           0.        ,  0.        ]]),\n",
       "  array([0, 0, 0, ..., 0, 0, 0])),\n",
       " 'mixed_selection_1x_features': (array([[-0.17046219, -0.00184505, -0.02462875, ..., -0.0509964 ,\n",
       "          -1.10091889, -0.432504  ],\n",
       "         [-0.17046219, -0.00184505, -0.02462875, ..., -0.0509964 ,\n",
       "          -1.10091889, -0.432504  ],\n",
       "         [-0.17046219, -0.00184505, -0.02462875, ..., -0.0509964 ,\n",
       "           0.58782558, -0.432504  ],\n",
       "         ..., \n",
       "         [ 1.54321024, -0.00184505, -0.02462875, ..., -0.0509964 ,\n",
       "          -1.10091889, -0.432504  ],\n",
       "         [-0.17046219, -0.00184505, -0.02462875, ..., -0.0509964 ,\n",
       "          -1.10091889,  1.75001117],\n",
       "         [-0.17046219, -0.00184505, -0.02462875, ..., -0.0509964 ,\n",
       "          -0.25654666, -0.432504  ]]),\n",
       "  array([0, 0, 0, ..., 0, 0, 0]),\n",
       "  array([[-0.17141392, -0.01917315, -0.02698108, ..., -0.05278378,\n",
       "          -1.11394843,  0.67707114],\n",
       "         [-0.17141392, -0.01917315, -0.02698108, ..., -0.05278378,\n",
       "          -0.24380479, -0.43245937],\n",
       "         [-0.17141392, -0.01917315, -0.02698108, ..., -0.05278378,\n",
       "           0.62633884, -0.43245937],\n",
       "         ..., \n",
       "         [-0.17141392, -0.01917315, -0.02698108, ..., -0.05278378,\n",
       "           0.62633884, -0.43245937],\n",
       "         [-0.17141392, -0.01917315, -0.02698108, ..., -0.05278378,\n",
       "           0.62633884, -0.43245937],\n",
       "         [-0.17141392, -0.01917315, -0.02698108, ..., -0.05278378,\n",
       "           0.62633884, -0.43245937]]),\n",
       "  array([0, 0, 0, ..., 0, 0, 0])),\n",
       " 'mixed_selection_features': (array([[-0.55376971, -0.38679066,  0.96188217, ...,  1.19778607,\n",
       "          -0.28001887, -0.51026331],\n",
       "         [-0.72715066,  1.08436232, -1.09144947, ...,  0.58943625,\n",
       "           0.55709445, -1.32360861],\n",
       "         [ 1.15984005, -0.39163291, -0.11974831, ..., -0.00767329,\n",
       "           0.55709445,  0.69206866],\n",
       "         ..., \n",
       "         [ 1.15408198, -0.29480307, -0.72746043, ..., -1.67159011,\n",
       "           0.55709445,  2.12451653],\n",
       "         [ 1.1543929 , -0.66404283, -0.36931442, ...,  1.57153502,\n",
       "          -1.11713219,  2.26772837],\n",
       "         [-0.72715066, -0.83552938,  0.62804063, ..., -0.84631671,\n",
       "           0.55709445,  1.04085358]]),\n",
       "  array([0, 0, 0, ..., 0, 0, 0]),\n",
       "  array([[-0.72706349,  1.26604928, -0.04053562, ...,  0.14884576,\n",
       "          -0.26766206,  0.2963878 ],\n",
       "         [-0.55234309, -0.64403742, -0.66592281, ...,  1.00464355,\n",
       "           0.56731398,  0.86007192],\n",
       "         [-0.72706349, -0.55924407,  0.25995475, ..., -0.16720649,\n",
       "           0.56731398,  1.44249111],\n",
       "         ..., \n",
       "         [ 1.0783313 , -0.9205652 ,  0.0034778 , ..., -0.52454616,\n",
       "           0.56731398, -0.14393071],\n",
       "         [-0.72706349, -0.4516884 ,  1.26600003, ..., -0.43720794,\n",
       "           1.40229002,  0.11374833],\n",
       "         [ 1.09603521,  1.86069757,  0.36400834, ...,  0.664105  ,\n",
       "          -0.26766206, -0.25410727]]),\n",
       "  array([0, 0, 0, ..., 0, 0, 0])),\n",
       " 'rf_features': (array([[ 0.0492378 ,  0.80084966,  0.13387255, ...,  0.81771166,\n",
       "           0.21456783,  0.52009391],\n",
       "         [ 0.54576894, -0.01579494,  0.05119351, ..., -1.1092578 ,\n",
       "           0.90702281, -0.41978433],\n",
       "         [-0.94795891, -0.46841965,  0.67711665, ..., -0.95933524,\n",
       "           1.20234593, -1.23413648],\n",
       "         ..., \n",
       "         [ 1.67560694, -0.18506065,  1.30631032, ...,  0.36129646,\n",
       "           1.00960874,  1.53534898],\n",
       "         [ 1.65916671,  2.11331386, -0.17468681, ..., -1.61537742,\n",
       "           2.00340988,  0.38193025],\n",
       "         [-1.28049226, -0.89658381,  1.68178765, ..., -0.77311936,\n",
       "           0.98436934, -2.40960863]]),\n",
       "  array([0, 0, 0, ..., 0, 0, 0]),\n",
       "  array([[ 0.32507768,  1.41380983, -0.01590653, ..., -0.56762647,\n",
       "          -0.33837851, -0.2238178 ],\n",
       "         [-0.78239909, -0.29969497, -0.14687303, ..., -0.24613975,\n",
       "          -0.58791563, -0.09950834],\n",
       "         [-1.53778854, -1.17991723, -0.20555015, ..., -1.35671318,\n",
       "           0.76252052, -0.75383745],\n",
       "         ..., \n",
       "         [-1.84679647, -0.9349225 ,  0.37017616, ...,  0.4833774 ,\n",
       "           0.54234072, -1.59793855],\n",
       "         [-0.10222404, -0.03953154, -1.36554785, ...,  0.09867057,\n",
       "           0.08730245, -0.499242  ],\n",
       "         [ 1.12503065,  1.30179817,  0.2665358 , ...,  0.14314492,\n",
       "          -0.01657726, -0.64867366]]),\n",
       "  array([0, 0, 0, ..., 0, 0, 0])),\n",
       " 'topsis_features': (array([[-0.05002878,  0.28904859,  0.47073143, ...,  0.18425755,\n",
       "           1.04945485,  0.5757118 ],\n",
       "         [-0.05002878,  0.27336238, -0.34783832, ...,  1.17180641,\n",
       "           0.1244781 , -0.26447273],\n",
       "         [-0.05002878, -0.72304054, -0.1482332 , ...,  0.39606669,\n",
       "          -1.46315466, -1.18867571],\n",
       "         ..., \n",
       "         [-0.05002878,  1.34790245, -0.56362276, ...,  0.57229088,\n",
       "           1.04945485,  1.75197013],\n",
       "         [-0.05002878, -0.65902793, -1.5720238 , ...,  2.93444838,\n",
       "          -1.01568972, -0.43250964],\n",
       "         [-0.05002878, -0.90655239,  0.30368867, ..., -0.74228267,\n",
       "          -1.46315466, -1.69278643]]),\n",
       "  array([0, 0, 0, ..., 0, 0, 0]),\n",
       "  array([[-0.05194105, -0.5893139 ,  2.19137617, ...,  1.60163175,\n",
       "          -1.45422219, -0.7611313 ],\n",
       "         [-0.05194105, -0.01379254,  0.22137863, ..., -0.59451728,\n",
       "          -0.04825227, -0.0962058 ],\n",
       "         [-0.05194105, -1.46550217,  0.69582173, ...,  1.010317  ,\n",
       "          -1.45422219, -1.09359405],\n",
       "         ..., \n",
       "         [-0.05194105, -1.28437243,  0.63206631, ...,  1.71241672,\n",
       "          -1.00962172, -1.09359405],\n",
       "         [-0.05194105, -0.14587147,  0.82411588, ...,  0.34209191,\n",
       "           0.12324725, -0.0962058 ],\n",
       "         [-0.05194105,  1.18658733,  0.2415264 , ...,  0.03507958,\n",
       "          -0.80162288, -0.84424699]]),\n",
       "  array([0, 0, 0, ..., 0, 0, 0]))}"
      ]
     },
     "execution_count": 60,
     "metadata": {},
     "output_type": "execute_result"
    }
   ],
   "source": [
    "\"\"\"\n",
    "data_per_space = {}\n",
    "def get_train_test_in_space(bigframe_train, bigframe_test, space):\n",
    "\n",
    "    bigframe_train = shuffle(bigframe_train, random_state=0)\n",
    "    bigframe_test = shuffle(bigframe_test, random_state=0)\n",
    "    \n",
    "    ytrain = bigframe_train[\"bin2\"].as_matrix()\n",
    "    Xtrain = StandardScaler().fit_transform(bigframe_train[space].as_matrix())\n",
    "\n",
    "    ytest = bigframe_test[\"bin2\"].as_matrix()\n",
    "    Xtest = StandardScaler().fit_transform(bigframe_test[space].as_matrix())\n",
    "    print(\"Data ready to model.\")\n",
    "    \n",
    "    return Xtrain, ytrain, Xtest, ytest\n",
    "\n",
    "for k,space in feature_space.items():\n",
    "    data_per_space[k]=get_train_test_in_space(bigframe_train, bigframe_test, space)\n",
    "\n",
    "pickle.dump(data_per_space, open(\"../pickled/data_per_space.pickle\",'w'))\n",
    "\n",
    "\"\"\"\n",
    "data_per_space=pickle.load(open(\"../pickled/data_per_space.pickle\", 'rw'))\n",
    "data_per_space"
   ]
  },
  {
   "cell_type": "markdown",
   "metadata": {
    "deletable": true,
    "editable": true
   },
   "source": [
    "## SubSpace (LDA) -- ROC AUC 95% C.I."
   ]
  },
  {
   "cell_type": "code",
   "execution_count": 61,
   "metadata": {
    "collapsed": false,
    "deletable": true,
    "editable": true
   },
   "outputs": [
    {
     "data": {
      "text/plain": [
       "{'lasso_features': 0.77747434289490358,\n",
       " 'mixed_selection_1x_features': 0.88858545400601463,\n",
       " 'mixed_selection_features': 0.61105042413453636,\n",
       " 'rf_features': 0.88870682795916434,\n",
       " 'topsis_features': 0.88876751493573913}"
      ]
     },
     "execution_count": 61,
     "metadata": {},
     "output_type": "execute_result"
    }
   ],
   "source": [
    "# (Subset_Model_1) LDA \n",
    "# {Feature_Space_1,Feature_Space_2,\n",
    "#   Feature_Space_3,Feature_Space_4,\n",
    "#   Feature_Space_5}\n",
    "\"\"\" \n",
    "lda_space_scores={}\n",
    "for space_name, data in data_per_space.items():\n",
    "    Xtrain,ytrain,Xtest,ytest = data\n",
    "    lda_space_scores[space_name] = get_LDA_scores(Xtrain,ytrain,Xtest,ytest,\n",
    "                                                  modelName=\"lda_fit_subset_\"+space_name+\".pickle\", \n",
    "                                                  listName=\"lda_subset_\"+space_name+\"_scores.pickle\")\n",
    "\n",
    "   \n",
    "# Best LDA model on subsets of features.\n",
    "pickle.dump(lda_space_scores, open(\"../pickled/lda_space_scores.pickle\",'w'))\n",
    "\n",
    "\"\"\"\n",
    "lda_space_scores=pickle.load(open(\"../pickled/lda_space_scores.pickle\", 'rw'))\n",
    "lda_space_scores\n"
   ]
  },
  {
   "cell_type": "code",
   "execution_count": null,
   "metadata": {
    "collapsed": false,
    "deletable": true,
    "editable": true
   },
   "outputs": [],
   "source": []
  },
  {
   "cell_type": "markdown",
   "metadata": {
    "collapsed": true,
    "deletable": true,
    "editable": true
   },
   "source": [
    "## SubSpace (RF) -- ROC AUC 95% C.I."
   ]
  },
  {
   "cell_type": "code",
   "execution_count": 62,
   "metadata": {
    "collapsed": false,
    "deletable": true,
    "editable": true
   },
   "outputs": [
    {
     "data": {
      "text/plain": [
       "{'lasso_features': 0.77765640382462808,\n",
       " 'mixed_selection_1x_features': 0.88876751493573913,\n",
       " 'mixed_selection_features': 0.88876751493573913,\n",
       " 'rf_features': 0.88870682795916434,\n",
       " 'topsis_features': 0.88876751493573913}"
      ]
     },
     "execution_count": 62,
     "metadata": {},
     "output_type": "execute_result"
    }
   ],
   "source": [
    "# (Subset_Model_2) Random Forest\n",
    "# {Feature_Space_1,Feature_Space_2,\n",
    "#   Feature_Space_3,Feature_Space_4,\n",
    "#   Feature_Space_5}\n",
    "\"\"\"\n",
    "rf_space_scores={}\n",
    "for space_name, data in data_per_space.items():\n",
    "    Xtrain,ytrain,Xtest,ytest = data\n",
    "    rf_space_scores[space_name] = get_RF_scores(Xtrain,ytrain,Xtest,ytest,\n",
    "                                                  modelName=\"rf_fit_subset_\"+space_name+\".pickle\", \n",
    "                                                  listName=\"rf_subset_\"+space_name+\"_scores.pickle\")\n",
    "\n",
    "# Best LDA model on subsets of features.\n",
    "rf_space_scores\n",
    "pickle.dump(rf_space_scores, open(\"../pickled/rf_space_scores.pickle\", \"w\"))\n",
    "\"\"\"\n",
    "rf_space_scores=pickle.load(open(\"../pickled/rf_space_scores.pickle\", \"rw\"))\n",
    "\n",
    "rf_space_scores\n",
    "                            \n",
    "# Best Random Forest model on subsets of features."
   ]
  },
  {
   "cell_type": "markdown",
   "metadata": {
    "deletable": true,
    "editable": true
   },
   "source": [
    "## SubSpace (SVM) -- ROC AUC 95% C.I."
   ]
  },
  {
   "cell_type": "code",
   "execution_count": 64,
   "metadata": {
    "collapsed": false,
    "deletable": true,
    "editable": true
   },
   "outputs": [
    {
     "data": {
      "text/plain": [
       "{'lasso_features': 0.5,\n",
       " 'mixed_selection_1x_features': 0.55555555555555558,\n",
       " 'mixed_selection_features': 0.55555555555555558,\n",
       " 'rf_features': 0.61111111111111116,\n",
       " 'topsis_features': 0.5}"
      ]
     },
     "execution_count": 64,
     "metadata": {},
     "output_type": "execute_result"
    }
   ],
   "source": [
    "# (Subset_Model_3) SVM\n",
    "# {Feature_Space_1,Feature_Space_2,\n",
    "#   Feature_Space_3,Feature_Space_4,\n",
    "#   Feature_Space_5}\n",
    "\"\"\"\n",
    "svm_space_scores={}\n",
    "for space_name, data in data_per_space.items():\n",
    "    Xtrain,ytrain,Xtest,ytest = data\n",
    "    svm_space_scores[space_name] = get_SVC_scores(Xtrain,ytrain,Xtest,ytest,\n",
    "                                                  modelName=\"svc_fit_subset_\"+space_name+\".pickle\", \n",
    "                                                  listName=\"svm_subset_\"+space_name+\"_scores.pickle\")\n",
    "\n",
    "# Best LDA model on subsets of features.\n",
    "svm_space_scores\n",
    "pickle.dump(svm_space_scores, open(\"../pickled/svm_space_scores.pickle\", \"w\"))\n",
    "\"\"\"\n",
    "svm_space_scores=pickle.load(open(\"../pickled/svm_space_scores.pickle\", \"rw\"))\n",
    "\n",
    "svm_space_scores\n",
    "\n",
    "\n",
    "# Best SVM model on subsets of features."
   ]
  },
  {
   "cell_type": "markdown",
   "metadata": {
    "deletable": true,
    "editable": true
   },
   "source": [
    "## SubSpace (Log_Reg) -- ROC AUC 95% C.I."
   ]
  },
  {
   "cell_type": "code",
   "execution_count": 65,
   "metadata": {
    "collapsed": false,
    "deletable": true,
    "editable": true
   },
   "outputs": [
    {
     "data": {
      "text/plain": [
       "{'lasso_features': 0.721918787339348,\n",
       " 'mixed_selection_1x_features': 0.66618117085406803,\n",
       " 'mixed_selection_features': 0.66648460573694213,\n",
       " 'rf_features': 0.72204016129249771,\n",
       " 'topsis_features': 0.7221615352456473}"
      ]
     },
     "execution_count": 65,
     "metadata": {},
     "output_type": "execute_result"
    }
   ],
   "source": [
    "# (Subset_Model_4) Logistic reg.\n",
    "# {Feature_Space_1,Feature_Space_2,\n",
    "#   Feature_Space_3,Feature_Space_4,\n",
    "#   Feature_Space_5}\n",
    "\"\"\"\n",
    "log_reg_space_scores={}\n",
    "for space_name, data in data_per_space.items():\n",
    "    Xtrain,ytrain,Xtest,ytest = data\n",
    "    log_reg_space_scores[space_name] = get_LogReg_scores(Xtrain,ytrain,Xtest,ytest,\n",
    "                                                  modelName=\"log_reg_fit_subset_\"+space_name+\".pickle\", \n",
    "                                                  listName=\"log_reg_subset_\"+space_name+\"_scores.pickle\")\n",
    "\n",
    "# Best LDA model on subsets of features.\n",
    "pickle.dump(log_reg_space_scores, open(\"../pickled/log_reg_space_scores.pickle\", \"w\"))\n",
    "\"\"\"\n",
    "log_reg_space_scores=pickle.load(open(\"../pickled/log_reg_space_scores.pickle\", \"rw\"))\n",
    "\n",
    "log_reg_space_scores\n",
    "# Best Logistic reg. model on subsets of features."
   ]
  },
  {
   "cell_type": "markdown",
   "metadata": {
    "deletable": true,
    "editable": true
   },
   "source": [
    "## SubSpace (NB) -- ROC AUC 95% C.I."
   ]
  },
  {
   "cell_type": "code",
   "execution_count": 67,
   "metadata": {
    "collapsed": false,
    "deletable": true,
    "editable": true
   },
   "outputs": [
    {
     "data": {
      "text/plain": [
       "{'lasso_features': 0.61092905018138666,\n",
       " 'mixed_selection_1x_features': 0.55500937276638207,\n",
       " 'mixed_selection_features': 0.77735296894175399,\n",
       " 'rf_features': 0.66648460573694213,\n",
       " 'topsis_features': 0.72204016129249771}"
      ]
     },
     "execution_count": 67,
     "metadata": {},
     "output_type": "execute_result"
    }
   ],
   "source": [
    "# (Subset_Model_5) Naive Bayes\n",
    "# {Feature_Space_1,Feature_Space_2,\n",
    "#   Feature_Space_3,Feature_Space_4,\n",
    "#   Feature_Space_5}\n",
    "\n",
    "\"\"\"\n",
    "nb_space_scores={}\n",
    "for space_name, data in data_per_space.items():\n",
    "    Xtrain,ytrain,Xtest,ytest = data\n",
    "    nb_space_scores[space_name] = get_NB_scores(Xtrain,ytrain,Xtest,ytest,\n",
    "                                                  modelName=\"nb_fit_subset_\"+space_name+\".pickle\", \n",
    "                                                  listName=\"nb_subset_\"+space_name+\"_scores.pickle\")\n",
    "\n",
    "# Best LDA model on subsets of features.\n",
    "pickle.dump(nb_space_scores, open(\"../pickled/nb_space_scores.pickle\", \"w\"))\n",
    "\n",
    "\"\"\"\n",
    "nb_space_scores=pickle.load(open(\"../pickled/nb_space_scores.pickle\", \"rw\"))\n",
    "\n",
    "nb_space_scores\n",
    "\n",
    "# Best Naive Bayes model on subsets of features."
   ]
  },
  {
   "cell_type": "markdown",
   "metadata": {
    "deletable": true,
    "editable": true
   },
   "source": [
    "## SubSpace (KNN) -- ROC AUC 95% C.I."
   ]
  },
  {
   "cell_type": "code",
   "execution_count": 68,
   "metadata": {
    "collapsed": false,
    "deletable": true,
    "editable": true
   },
   "outputs": [
    {
     "data": {
      "text/plain": [
       "{'lasso_features': 0.61092905018138666,\n",
       " 'mixed_selection_1x_features': 0.55500937276638207,\n",
       " 'mixed_selection_features': 0.77735296894175399,\n",
       " 'rf_features': 0.66648460573694213,\n",
       " 'topsis_features': 0.72204016129249771}"
      ]
     },
     "execution_count": 68,
     "metadata": {},
     "output_type": "execute_result"
    }
   ],
   "source": [
    "# (Subset_Model_1) K-NN\n",
    "# {Feature_Space_1,Feature_Space_2,\n",
    "#   Feature_Space_3,Feature_Space_4,\n",
    "#   Feature_Space_5}\n",
    "\n",
    "\"\"\"\n",
    "knn_space_scores={}\n",
    "for space_name, data in data_per_space.items():\n",
    "    Xtrain,ytrain,Xtest,ytest = data\n",
    "    knn_space_scores[space_name] = get_KNN_scores(Xtrain,ytrain,Xtest,ytest,\n",
    "                                                  modelName=\"nb_fit_subset_\"+space_name+\".pickle\", \n",
    "                                                  listName=\"nb_subset_\"+space_name+\"_scores.pickle\")\n",
    "\n",
    "# Best LDA model on subsets of features.\n",
    "pickle.dump(knn_space_scores, open(\"../pickled/knn_space_scores.pickle\", \"w\"))\n",
    "\"\"\"\n",
    "knn_space_scores=pickle.load(open(\"../pickled/knn_space_scores.pickle\", \"rw\"))\n",
    "\n",
    "knn_space_scores\n",
    "\n",
    "\n",
    "# Best K-NN model on subsets of features.\n",
    "\n",
    "# Below is just the initial ROC scores on 1 test, not repeated for an interval"
   ]
  },
  {
   "cell_type": "markdown",
   "metadata": {
    "deletable": true,
    "editable": true
   },
   "source": [
    "## Putting Subspaces Together"
   ]
  },
  {
   "cell_type": "code",
   "execution_count": null,
   "metadata": {
    "collapsed": true,
    "deletable": true,
    "editable": true
   },
   "outputs": [],
   "source": [
    "sub_scores = {'lda':lda_space_scores,\n",
    "             'rf':rf_space_scores,\n",
    "             'svm':svm_space_scores,\n",
    "             'log_reg':log_reg_space_scores,\n",
    "             'nb':nb_space_scores,\n",
    "             'knn':knn_space_scores}"
   ]
  },
  {
   "cell_type": "markdown",
   "metadata": {
    "collapsed": true,
    "deletable": true,
    "editable": true
   },
   "source": [
    "### Construct Confidence Intervals From Subspaces"
   ]
  },
  {
   "cell_type": "code",
   "execution_count": 72,
   "metadata": {
    "collapsed": false,
    "deletable": true,
    "editable": true
   },
   "outputs": [
    {
     "name": "stdout",
     "output_type": "stream",
     "text": [
      "('LDA', (0.46470197220973142, 0.75477381956311151))\n",
      "('SVM', (0.99920605747015423, 0.99940454803888579))\n",
      "('Log_reg', (0.82064691988266314, 0.97830118034830393))\n",
      "('NB', (0.8231963954421796, 0.95292254060667803))\n",
      "('KNN', (0.92277886682881471, 0.99811226753719307))\n",
      "('RF', (0.95697419790437699, 1.0031560451890991))\n"
     ]
    }
   ],
   "source": [
    "#full_scores[\"lda\"] vs. sub_scores[\"lda\"][\"mixed_selection_features\"]\n",
    "#full_scores[\"svm\"] vs. sub_scores[\"svm\"][\"rf_features\"]\n",
    "#full_scores[\"log_reg\"] vs. sub_scores[\"log_reg\"][\"topsis_features\"]\n",
    "#full_scores[\"nb\"] vs. sub_scores[\"nb\"][\"rf_features\"]\n",
    "#full_scores[\"knn\"] vs. sub_Scores[\"knn\"][\"rf_features\"]\n",
    "\"\"\"\n",
    "print(\"(LDA) Is Reduced set more predictive than Full set?\")\n",
    "for k,v in sub_scores[\"lda\"].items():    \n",
    "    lda_pval=stats.ttest_ind(v,  # >=\n",
    "                    full_scores[\"lda\"], \n",
    "                    axis=0, equal_var=True)\n",
    "    print(k,lda_pval[1]/2)\n",
    "\n",
    "print(\"(SVM) Small P means 2nd > 1st\")\n",
    "for k,v in sub_scores[\"svm\"].items(): \n",
    "    svm_pval=stats.ttest_ind(v,  # >=\n",
    "                    full_scores[\"svm\"], \n",
    "                    axis=0, equal_var=True)\n",
    "    print(k, svm_pval[1]/2)\n",
    "\n",
    "print(\"(Log_Reg) Small P means 2nd > 1st\")\n",
    "for k,v in sub_scores[\"log_reg\"].items(): \n",
    "    log_reg_pval=stats.ttest_ind(v,  # >=\n",
    "                    full_scores[\"log_reg\"], \n",
    "                    axis=0, equal_var=True)\n",
    "    print(k, log_reg_pval[1]/2)\n",
    "\n",
    "print(\"(NB) Small P means 2nd > 1st\")\n",
    "for k,v in sub_scores[\"nb\"].items(): \n",
    "    nb_pval=stats.ttest_ind(v,  # >=\n",
    "                    full_scores[\"nb\"], \n",
    "                    axis=0, equal_var=True)\n",
    "\n",
    "    print(k, nb_pval[1]/2)\n",
    "print(\"(KNN) Small P means 2nd > 1st\")\n",
    "for k,v in sub_scores[\"knn\"].items(): \n",
    "    knn_pval=stats.ttest_ind(v,  # >=\n",
    "                    full_scores[\"knn\"], \n",
    "                    axis=0, equal_var=True)\n",
    "    print(k,knn_pval[1]/2)\n",
    "\"\"\"\n",
    "### Highest P values ### \n",
    "# LDA topsis_features 0.380512957039085\n",
    "# SVM lasso_features 0.21698345384201057\n",
    "# Log_Reg mixed_selection_features 0.37566324944873475\n",
    "# NB lasso_features 0.000000002 reject null fullspace is greater.\n",
    "# KNN mixed_selection_features 0.34511637590581723\n",
    "\n",
    "\n",
    "\"\"\"\n",
    "sub_model_confidence_interval={}\n",
    "for k,v in sub_scores.items():\n",
    "    sub_space_in_model_confidence_interval = {}\n",
    "    for space, scores in v.items():\n",
    "        #print (k, space, scores)\n",
    "        sub_space_in_model_confidence_interval[space]=mean_confidence_interval(scores)\n",
    "    sub_model_confidence_interval[k]=sub_space_in_model_confidence_interval\n",
    "pickle.dump(sub_model_confidence_interval, open(\"sub_model_confidence_interval.pickle\", \"w\"))\n",
    "\"\"\"\n",
    "\n",
    "# LDA topsis_features 0.380512957039085\n",
    "# SVM lasso_features 0.21698345384201057\n",
    "# Log_Reg mixed_selection_features 0.37566324944873475\n",
    "# NB lasso_features 0.000000002 reject null fullspace is greater.\n",
    "# KNN mixed_selection_features 0.34511637590581723\n",
    "# RF mixed_selection 0.0001 reject null fullspace is greater\n",
    "\n",
    "sub_model_confidence_interval=pickle.load(open(\"../pickled/sub_model_confidence_interval.pickle\", \"rw\") )\n",
    "print(\"LDA\", sub_model_confidence_interval['lda']['topsis_features'])\n",
    "print(\"SVM\", sub_model_confidence_interval['svm']['lasso_features'])\n",
    "print(\"Log_reg\", sub_model_confidence_interval['log_reg']['mixed_selection_features'])\n",
    "print(\"NB\", sub_model_confidence_interval['nb']['lasso_features'])\n",
    "print(\"KNN\", sub_model_confidence_interval['knn']['mixed_selection_features'])\n",
    "print(\"RF\", sub_model_confidence_interval['rf']['mixed_selection_features'])\n",
    "\n"
   ]
  },
  {
   "cell_type": "markdown",
   "metadata": {
    "deletable": true,
    "editable": true
   },
   "source": [
    "## Write out confidence intervals to our ROC Table sheet"
   ]
  },
  {
   "cell_type": "code",
   "execution_count": null,
   "metadata": {
    "collapsed": true,
    "deletable": true,
    "editable": true
   },
   "outputs": [],
   "source": [
    "pd.DataFrame(full_confidence_intervals).to_csv(\"FullSpace_CI.csv\", sep=',')\n",
    "        \n",
    "for k,v in sub_model_confidence_interval.items():\n",
    "    pd.DataFrame(v).to_csv(k+\"_SubSpace_CI.csv\", sep=',')\n",
    "        \n",
    "    "
   ]
  },
  {
   "cell_type": "markdown",
   "metadata": {
    "deletable": true,
    "editable": true
   },
   "source": []
  },
  {
   "cell_type": "code",
   "execution_count": null,
   "metadata": {
    "collapsed": true,
    "deletable": true,
    "editable": true
   },
   "outputs": [],
   "source": []
  },
  {
   "cell_type": "markdown",
   "metadata": {
    "deletable": true,
    "editable": true
   },
   "source": []
  },
  {
   "cell_type": "code",
   "execution_count": null,
   "metadata": {
    "collapsed": true,
    "deletable": true,
    "editable": true
   },
   "outputs": [],
   "source": []
  },
  {
   "cell_type": "markdown",
   "metadata": {
    "deletable": true,
    "editable": true
   },
   "source": []
  },
  {
   "cell_type": "code",
   "execution_count": null,
   "metadata": {
    "collapsed": true,
    "deletable": true,
    "editable": true
   },
   "outputs": [],
   "source": []
  },
  {
   "cell_type": "markdown",
   "metadata": {
    "deletable": true,
    "editable": true
   },
   "source": []
  },
  {
   "cell_type": "code",
   "execution_count": null,
   "metadata": {
    "collapsed": true,
    "deletable": true,
    "editable": true
   },
   "outputs": [],
   "source": []
  },
  {
   "cell_type": "code",
   "execution_count": null,
   "metadata": {
    "collapsed": true,
    "deletable": true,
    "editable": true
   },
   "outputs": [],
   "source": []
  },
  {
   "cell_type": "code",
   "execution_count": null,
   "metadata": {
    "collapsed": true,
    "deletable": true,
    "editable": true
   },
   "outputs": [],
   "source": []
  },
  {
   "cell_type": "code",
   "execution_count": null,
   "metadata": {
    "collapsed": true,
    "deletable": true,
    "editable": true
   },
   "outputs": [],
   "source": []
  },
  {
   "cell_type": "code",
   "execution_count": null,
   "metadata": {
    "collapsed": true,
    "deletable": true,
    "editable": true
   },
   "outputs": [],
   "source": []
  },
  {
   "cell_type": "code",
   "execution_count": null,
   "metadata": {
    "collapsed": true,
    "deletable": true,
    "editable": true
   },
   "outputs": [],
   "source": []
  },
  {
   "cell_type": "code",
   "execution_count": null,
   "metadata": {
    "collapsed": true,
    "deletable": true,
    "editable": true
   },
   "outputs": [],
   "source": []
  },
  {
   "cell_type": "code",
   "execution_count": null,
   "metadata": {
    "collapsed": true,
    "deletable": true,
    "editable": true
   },
   "outputs": [],
   "source": []
  },
  {
   "cell_type": "code",
   "execution_count": null,
   "metadata": {
    "collapsed": true,
    "deletable": true,
    "editable": true
   },
   "outputs": [],
   "source": []
  },
  {
   "cell_type": "code",
   "execution_count": null,
   "metadata": {
    "collapsed": true,
    "deletable": true,
    "editable": true
   },
   "outputs": [],
   "source": []
  },
  {
   "cell_type": "code",
   "execution_count": null,
   "metadata": {
    "collapsed": true,
    "deletable": true,
    "editable": true
   },
   "outputs": [],
   "source": []
  },
  {
   "cell_type": "code",
   "execution_count": null,
   "metadata": {
    "collapsed": true,
    "deletable": true,
    "editable": true
   },
   "outputs": [],
   "source": []
  },
  {
   "cell_type": "code",
   "execution_count": null,
   "metadata": {
    "collapsed": true,
    "deletable": true,
    "editable": true
   },
   "outputs": [],
   "source": []
  },
  {
   "cell_type": "code",
   "execution_count": null,
   "metadata": {
    "collapsed": true,
    "deletable": true,
    "editable": true
   },
   "outputs": [],
   "source": []
  },
  {
   "cell_type": "code",
   "execution_count": null,
   "metadata": {
    "collapsed": true,
    "deletable": true,
    "editable": true
   },
   "outputs": [],
   "source": []
  }
 ],
 "metadata": {
  "kernelspec": {
   "display_name": "Python 2",
   "language": "python",
   "name": "python2"
  },
  "language_info": {
   "codemirror_mode": {
    "name": "ipython",
    "version": 2
   },
   "file_extension": ".py",
   "mimetype": "text/x-python",
   "name": "python",
   "nbconvert_exporter": "python",
   "pygments_lexer": "ipython2",
   "version": "2.7.10"
  }
 },
 "nbformat": 4,
 "nbformat_minor": 2
}
