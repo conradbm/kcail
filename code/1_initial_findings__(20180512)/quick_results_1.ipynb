{
 "cells": [
  {
   "cell_type": "markdown",
   "metadata": {
    "deletable": true,
    "editable": true
   },
   "source": [
    "## Quick Results\n",
    "\n",
    "This notebook is an extension to <code>main_analysis</code> in order to provide a quick way to reproduce results."
   ]
  },
  {
   "cell_type": "code",
   "execution_count": 1,
   "metadata": {
    "collapsed": false,
    "deletable": true,
    "editable": true
   },
   "outputs": [
    {
     "name": "stderr",
     "output_type": "stream",
     "text": [
      "/Library/Python/2.7/site-packages/statsmodels/compat/pandas.py:56: FutureWarning: The pandas.core.datetools module is deprecated and will be removed in a future version. Please use the pandas.tseries module instead.\n",
      "  from pandas.core import datetools\n"
     ]
    }
   ],
   "source": [
    "# Core\n",
    "import numpy as np\n",
    "import pandas as pd\n",
    "import scipy as sp\n",
    "import scipy.stats\n",
    "import os\n",
    "import subprocess\n",
    "from __future__ import division\n",
    "import pickle\n",
    "\n",
    "def install_package(name):\n",
    "    sudoPassword = ''\n",
    "    command = 'pip install ' + name\n",
    "    p = os.system('echo %s|sudo -S %s' % (sudoPassword, command))\n",
    "\n",
    "# Stats\n",
    "from statsmodels.regression import linear_model\n",
    "import statsmodels.api as sm\n",
    "\n",
    "# ML\n",
    "from sklearn.linear_model import LinearRegression\n",
    "from sklearn.linear_model import LogisticRegression\n",
    "from sklearn.discriminant_analysis import LinearDiscriminantAnalysis\n",
    "from sklearn.linear_model import Lasso\n",
    "from sklearn.naive_bayes import GaussianNB\n",
    "from sklearn.svm import SVC\n",
    "from sklearn.ensemble import RandomForestRegressor\n",
    "from sklearn.ensemble import RandomForestClassifier\n",
    "from sklearn.ensemble import AdaBoostRegressor\n",
    "from sklearn.ensemble import AdaBoostClassifier\n",
    "\n",
    "from sklearn.preprocessing import StandardScaler\n",
    "from sklearn.decomposition import PCA\n",
    "from sklearn.cluster import KMeans\n",
    "from sklearn.pipeline import Pipeline\n",
    "from sklearn.metrics import confusion_matrix\n",
    "from sklearn.neighbors import KNeighborsClassifier\n",
    "\n",
    "from sklearn.model_selection import GridSearchCV\n",
    "from sklearn.model_selection import cross_validate\n",
    "from sklearn.model_selection import RepeatedStratifiedKFold\n",
    "from sklearn.model_selection import StratifiedKFold\n",
    "from sklearn.model_selection import cross_val_predict\n",
    "from sklearn.model_selection import cross_val_score\n",
    "from sklearn.model_selection import train_test_split\n",
    "\n",
    "from sklearn.utils import shuffle\n",
    "\n",
    "\n",
    "# OR\n",
    "from skcriteria import Data, MIN, MAX\n",
    "from skcriteria.madm import closeness, simple\n",
    "\n",
    "# Plotting\n",
    "import matplotlib.pyplot as plt\n",
    "import seaborn as sns\n",
    "from ggplot import *\n",
    "\n"
   ]
  },
  {
   "cell_type": "code",
   "execution_count": 16,
   "metadata": {
    "collapsed": false,
    "deletable": true,
    "editable": true
   },
   "outputs": [],
   "source": [
    "# MODELS\n",
    "\"\"\"\n",
    "Models = {'lda':get_LDA_scores, \n",
    "          'rf':get_RF_scores,\n",
    "          'svc':get_SVC_scores,\n",
    "          'log_reg':get_LogReg_scores,\n",
    "          'nb':get_NB_scores,\n",
    "          'knn':get_KNN_scores}\n",
    "\"\"\"\n",
    "\n",
    "# FEATURE SPACES\n",
    "mixed_selection_features = pickle.load(open('../pickled/mixed_selection_features.pickle', 'rw'))\n",
    "mixed_selection_1x_features = pickle.load(open('../pickled/mixed_selection_1x_features.pickle', 'rw'))\n",
    "lasso_features = pickle.load(open('../pickled/lasso_features.pickle', 'rw'))\n",
    "topsis_features = pickle.load(open('../pickled/topsis_features.pickle', 'rw'))\n",
    "rf_features = pickle.load(open('../pickled/rf_features.pickle', 'rw'))\n",
    "feature_space      = {  '../pickled/topsis_features':topsis_features, \n",
    "                         '../pickled/rf_features':rf_features, \n",
    "                         '../pickled/lasso_features':lasso_features,\n",
    "                         '../pickled/mixed_selection_1x_features':mixed_selection_1x_features,\n",
    "                         '../pickled/mixed_selection_features':mixed_selection_features     }\n",
    "\n",
    "# FULL SPACE DATA SCORES\n",
    "lda_full_scores     = pickle.load(open('../pickled/lda_full_scores.pickle', 'rw'))\n",
    "rf_full_scores      = pickle.load(open('../pickled/rf_full_scores.pickle', 'rw'))\n",
    "svm_full_scores     = pickle.load(open('../pickled/svm_full_scores.pickle', 'rw'))\n",
    "log_reg_full_scores = pickle.load(open('../pickled/log_reg_full_scores.pickle', 'rw'))\n",
    "nb_full_scores      = pickle.load(open('../pickled/nb_full_scores.pickle', 'rw'))\n",
    "knn_full_scores     = pickle.load(open('../pickled/knn_full_scores.pickle', 'rw'))\n",
    "full_scores         = {'lda':lda_full_scores,\n",
    "                       'rf':rf_full_scores,\n",
    "                       'svm':svm_full_scores,\n",
    "                       'log_reg':log_reg_full_scores,\n",
    "                       'nb':nb_full_scores,\n",
    "                       'knn':knn_full_scores}\n",
    "\n",
    "# DATA IN EACH SUBSPACE\n",
    "data_per_space=pickle.load(open(\"../pickled/data_per_space.pickle\", 'rw'))\n",
    "\n",
    "\n",
    "# FULL SPACE C.I.\n",
    "full_confidence_intervals = pickle.load(open(\"../pickled/full_confidence_intervals.pickle\", \"rw\"))\n",
    "\n",
    "# SUB SPACE DATA SCORES\n",
    "lda_space_scores=pickle.load(open(\"../pickled/lda_space_scores.pickle\", 'rw'))\n",
    "rf_space_scores=pickle.load(open(\"../pickled/rf_space_scores.pickle\", \"rw\"))\n",
    "svm_space_scores=pickle.load(open(\"../pickled/svm_space_scores.pickle\", \"rw\"))\n",
    "log_reg_space_scores=pickle.load(open(\"../pickled/log_reg_space_scores.pickle\", \"rw\"))\n",
    "nb_space_scores=pickle.load(open(\"../pickled/nb_space_scores.pickle\", \"rw\"))\n",
    "knn_space_scores=pickle.load(open(\"../pickled/knn_space_scores.pickle\", \"rw\"))\n",
    "sub_scores = {'lda':lda_space_scores,\n",
    "             'rf':rf_space_scores,\n",
    "             'svm':svm_space_scores,\n",
    "             'log_reg':log_reg_space_scores,\n",
    "             'nb':nb_space_scores,\n",
    "             'knn':knn_space_scores}\n",
    "\n",
    "# SUB SPACE C.I.\n",
    "sub_model_confidence_interval=pickle.load(open(\"../pickled/sub_model_confidence_interval.pickle\", \"rw\") )\n",
    "\n",
    "# INITIAL DATA\n",
    "bigframe = pickle.load(open('../pickled/bigframe.pickle', 'rw'))\n",
    "bigframe"
   ]
  },
  {
   "cell_type": "code",
   "execution_count": 18,
   "metadata": {
    "collapsed": false,
    "deletable": true,
    "editable": true
   },
   "outputs": [
    {
     "name": "stdout",
     "output_type": "stream",
     "text": [
      "(LDA) Is Reduced set more predictive than Full set?\n",
      "('topsis_features', 0.380512957039085)\n",
      "('lasso_features', 0.098324070265796759)\n",
      "('mixed_selection_1x_features', 0.028071975619860336)\n",
      "('mixed_selection_features', 0.008654197441309408)\n",
      "('rf_features', 0.05777661125381079)\n",
      "(SVM) Small P means 2nd > 1st\n",
      "('topsis_features', 0.00030688569037786356)\n",
      "('lasso_features', 0.21698345384201057)\n",
      "('mixed_selection_1x_features', 0.0086206004775333696)\n",
      "('mixed_selection_features', 0.0048227973496748257)\n",
      "('rf_features', 0.00018036814977609173)\n",
      "(Log_Reg) Small P means 2nd > 1st\n",
      "('topsis_features', 0.018826118300759656)\n",
      "('lasso_features', 0.0046659740282534758)\n",
      "('mixed_selection_1x_features', 0.17932548819272764)\n",
      "('mixed_selection_features', 0.37566324944873475)\n",
      "('rf_features', 0.19716495543953705)\n",
      "(NB) Small P means 2nd > 1st\n",
      "('topsis_features', 8.9513312699864532e-14)\n",
      "('lasso_features', 2.3795197121061658e-09)\n",
      "('mixed_selection_1x_features', 3.2311275394699811e-05)\n",
      "('mixed_selection_features', 7.6513554424796299e-13)\n",
      "('rf_features', 7.3291367532238753e-15)\n",
      "(KNN) Small P means 2nd > 1st\n",
      "('topsis_features', 0.034358195029918576)\n",
      "('lasso_features', 0.17979406546411802)\n",
      "('mixed_selection_1x_features', 0.1470063724811155)\n",
      "('mixed_selection_features', 0.34511637590581723)\n",
      "('rf_features', 0.018794154893820945)\n",
      "(RF) Small P means 2nd > 1st\n",
      "('topsis_features', 3.7524529410992531e-05)\n",
      "('lasso_features', 4.5449287868902913e-06)\n",
      "('mixed_selection_1x_features', 4.6391651601933304e-06)\n",
      "('mixed_selection_features', 0.00019337210030851313)\n",
      "('rf_features', 4.6064314416529596e-06)\n"
     ]
    }
   ],
   "source": [
    "#full_scores[\"lda\"] vs. sub_scores[\"lda\"][\"mixed_selection_features\"]\n",
    "#full_scores[\"svm\"] vs. sub_scores[\"svm\"][\"rf_features\"]\n",
    "#full_scores[\"log_reg\"] vs. sub_scores[\"log_reg\"][\"topsis_features\"]\n",
    "#full_scores[\"nb\"] vs. sub_scores[\"nb\"][\"rf_features\"]\n",
    "#full_scores[\"knn\"] vs. sub_Scores[\"knn\"][\"rf_features\"]\n",
    "import scipy.stats as stats\n",
    "\n",
    "print(\"(LDA) Is Reduced set more predictive than Full set?\")\n",
    "for k,v in sub_scores[\"lda\"].items():    \n",
    "    lda_pval=stats.ttest_ind(v,  # >=\n",
    "                    full_scores[\"lda\"], \n",
    "                    axis=0, equal_var=True)\n",
    "    print(k,lda_pval[1]/2)\n",
    "\n",
    "print(\"(SVM) Small P means 2nd > 1st\")\n",
    "for k,v in sub_scores[\"svm\"].items(): \n",
    "    svm_pval=stats.ttest_ind(v,  # >=\n",
    "                    full_scores[\"svm\"], \n",
    "                    axis=0, equal_var=True)\n",
    "    print(k, svm_pval[1]/2)\n",
    "\n",
    "print(\"(Log_Reg) Small P means 2nd > 1st\")\n",
    "for k,v in sub_scores[\"log_reg\"].items(): \n",
    "    log_reg_pval=stats.ttest_ind(v,  # >=\n",
    "                    full_scores[\"log_reg\"], \n",
    "                    axis=0, equal_var=True)\n",
    "    print(k, log_reg_pval[1]/2)\n",
    "\n",
    "print(\"(NB) Small P means 2nd > 1st\")\n",
    "for k,v in sub_scores[\"nb\"].items(): \n",
    "    nb_pval=stats.ttest_ind(v,  # >=\n",
    "                    full_scores[\"nb\"], \n",
    "                    axis=0, equal_var=True)\n",
    "\n",
    "    print(k, nb_pval[1]/2)\n",
    "print(\"(KNN) Small P means 2nd > 1st\")\n",
    "for k,v in sub_scores[\"knn\"].items(): \n",
    "    knn_pval=stats.ttest_ind(v,  # >=\n",
    "                    full_scores[\"knn\"], \n",
    "                    axis=0, equal_var=True)\n",
    "    print(k,knn_pval[1]/2)\n",
    "print(\"(RF) Small P means 2nd > 1st\")\n",
    "for k,v in sub_scores[\"rf\"].items(): \n",
    "    rf_pval=stats.ttest_ind(v,  # >=\n",
    "                    full_scores[\"rf\"], \n",
    "                    axis=0, equal_var=True)\n",
    "    print(k,rf_pval[1]/2)\n",
    "# LDA topsis_features 0.380512957039085\n",
    "# SVM lasso_features 0.21698345384201057\n",
    "# Log_Reg mixed_selection_features 0.37566324944873475\n",
    "# NB lasso_features 0.000000002 reject null fullspace is greater.\n",
    "# KNN mixed_selection_features 0.34511637590581723"
   ]
  },
  {
   "cell_type": "code",
   "execution_count": null,
   "metadata": {
    "collapsed": false,
    "deletable": true,
    "editable": true
   },
   "outputs": [],
   "source": [
    "# Recap\n",
    "# Feature Space\n",
    "\n",
    "full_confidence_intervals={}\n",
    "def mean_confidence_interval(data, confidence=0.95):\n",
    "    a = 1.0*np.array(data)\n",
    "    n = len(a)\n",
    "    m, se = np.mean(a), scipy.stats.sem(a)\n",
    "    h = se * sp.stats.t._ppf((1+confidence)/2., n-1)\n",
    "    return m-h, m+h\n",
    "\n",
    "for k,v in full_scores.items():\n",
    "    \n",
    "    full_confidence_intervals[k] = mean_confidence_interval(v)\n",
    "\n",
    "full_confidence_intervals"
   ]
  },
  {
   "cell_type": "code",
   "execution_count": null,
   "metadata": {
    "collapsed": true,
    "deletable": true,
    "editable": true
   },
   "outputs": [],
   "source": []
  },
  {
   "cell_type": "code",
   "execution_count": null,
   "metadata": {
    "collapsed": true,
    "deletable": true,
    "editable": true
   },
   "outputs": [],
   "source": []
  },
  {
   "cell_type": "code",
   "execution_count": null,
   "metadata": {
    "collapsed": true,
    "deletable": true,
    "editable": true
   },
   "outputs": [],
   "source": []
  },
  {
   "cell_type": "code",
   "execution_count": null,
   "metadata": {
    "collapsed": true,
    "deletable": true,
    "editable": true
   },
   "outputs": [],
   "source": []
  },
  {
   "cell_type": "code",
   "execution_count": 9,
   "metadata": {
    "collapsed": false,
    "deletable": true,
    "editable": true
   },
   "outputs": [
    {
     "data": {
      "text/plain": [
       "['pickled/mixed_selection_1x_features',\n",
       " 'pickled/mixed_selection_features',\n",
       " 'pickled/topsis_features',\n",
       " 'pickled/lasso_features',\n",
       " 'pickled/rf_features']"
      ]
     },
     "execution_count": 9,
     "metadata": {},
     "output_type": "execute_result"
    }
   ],
   "source": [
    "feature_space.keys()"
   ]
  },
  {
   "cell_type": "code",
   "execution_count": 15,
   "metadata": {
    "collapsed": false,
    "deletable": true,
    "editable": true
   },
   "outputs": [
    {
     "name": "stdout",
     "output_type": "stream",
     "text": [
      "46\n",
      "33\n",
      "91\n",
      "28\n",
      "38\n"
     ]
    }
   ],
   "source": [
    "for k,v in feature_space.items():\n",
    "    print(len(v))"
   ]
  },
  {
   "cell_type": "code",
   "execution_count": 9,
   "metadata": {
    "collapsed": false,
    "deletable": true,
    "editable": true
   },
   "outputs": [],
   "source": []
  },
  {
   "cell_type": "code",
   "execution_count": 10,
   "metadata": {
    "collapsed": false,
    "deletable": true,
    "editable": true
   },
   "outputs": [
    {
     "data": {
      "text/plain": [
       "{'knn': (0.89895714076062472, 0.99944752132321191),\n",
       " 'lda': (0.45475543878895508, 0.71181409929122663),\n",
       " 'log_reg': (0.83175376297037928, 0.99999040344149925),\n",
       " 'nb': (0.49150592186912728, 0.57480891640797893),\n",
       " 'rf': (0.85079240358872865, 0.93115190396781911),\n",
       " 'svm': (0.9991957980838384, 0.9993300340753497)}"
      ]
     },
     "execution_count": 10,
     "metadata": {},
     "output_type": "execute_result"
    }
   ],
   "source": []
  },
  {
   "cell_type": "code",
   "execution_count": null,
   "metadata": {
    "collapsed": true,
    "deletable": true,
    "editable": true
   },
   "outputs": [],
   "source": []
  },
  {
   "cell_type": "code",
   "execution_count": null,
   "metadata": {
    "collapsed": false,
    "deletable": true,
    "editable": true
   },
   "outputs": [],
   "source": []
  },
  {
   "cell_type": "code",
   "execution_count": null,
   "metadata": {
    "collapsed": true,
    "deletable": true,
    "editable": true
   },
   "outputs": [],
   "source": []
  }
 ],
 "metadata": {
  "kernelspec": {
   "display_name": "Python 2",
   "language": "python",
   "name": "python2"
  },
  "language_info": {
   "codemirror_mode": {
    "name": "ipython",
    "version": 2
   },
   "file_extension": ".py",
   "mimetype": "text/x-python",
   "name": "python",
   "nbconvert_exporter": "python",
   "pygments_lexer": "ipython2",
   "version": "2.7.10"
  }
 },
 "nbformat": 4,
 "nbformat_minor": 2
}
